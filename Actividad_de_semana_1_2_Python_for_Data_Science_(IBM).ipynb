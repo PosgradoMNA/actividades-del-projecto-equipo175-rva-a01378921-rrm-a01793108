{
  "nbformat": 4,
  "nbformat_minor": 0,
  "metadata": {
    "colab": {
      "provenance": [],
      "collapsed_sections": [],
      "toc_visible": true,
      "authorship_tag": "ABX9TyNTXnYGDfTxwsROvPYgVRgK",
      "include_colab_link": true
    },
    "kernelspec": {
      "name": "python3",
      "display_name": "Python 3"
    },
    "language_info": {
      "name": "python"
    }
  },
  "cells": [
    {
      "cell_type": "markdown",
      "metadata": {
        "id": "view-in-github",
        "colab_type": "text"
      },
      "source": [
        "<a href=\"https://colab.research.google.com/github/PosgradoMNA/actividades-del-projecto-equipo175-rva-a01378921-rrm-a01793108/blob/main/Actividad_de_semana_1_2_Python_for_Data_Science_(IBM).ipynb\" target=\"_parent\"><img src=\"https://colab.research.google.com/assets/colab-badge.svg\" alt=\"Open In Colab\"/></a>"
      ]
    },
    {
      "cell_type": "markdown",
      "source": [
        "Materia: Ciencia y analítica de datos\n",
        "\n",
        "Nombre del alumno: Roberto Vega Alanis\n",
        "\n",
        "Matrícula: A01378921"
      ],
      "metadata": {
        "id": "_K9gJI9A_Ae-"
      }
    },
    {
      "cell_type": "markdown",
      "source": [
        "# Módulo 1"
      ],
      "metadata": {
        "id": "ekn3hjRss9n7"
      }
    },
    {
      "cell_type": "markdown",
      "source": [
        "## Your First Program"
      ],
      "metadata": {
        "id": "3sB1ZcIvEKyB"
      }
    },
    {
      "cell_type": "code",
      "execution_count": null,
      "metadata": {
        "colab": {
          "base_uri": "https://localhost:8080/"
        },
        "id": "cEnBrpc2s4_a",
        "outputId": "21d717f9-d32f-41d5-afaa-46260bf1275c"
      },
      "outputs": [
        {
          "output_type": "stream",
          "name": "stdout",
          "text": [
            "Hello Python 101\n"
          ]
        }
      ],
      "source": [
        "# This is a comment example: print Hello Python 101 \n",
        "print('Hello Python 101')"
      ]
    },
    {
      "cell_type": "code",
      "source": [
        "# Questinon 1: Using the Practice Lab, find the result of executing print(\"Hello\\nWorld!\") statement.\n",
        "print(\"Hello\\nWorld!\")"
      ],
      "metadata": {
        "colab": {
          "base_uri": "https://localhost:8080/"
        },
        "id": "lUXuSIrptjFL",
        "outputId": "404894f2-3fe1-4e35-fecf-e71e23915e59"
      },
      "execution_count": null,
      "outputs": [
        {
          "output_type": "stream",
          "name": "stdout",
          "text": [
            "Hello\n",
            "World!\n"
          ]
        }
      ]
    },
    {
      "cell_type": "code",
      "source": [
        "# Question 2: What is the output of executing the following statement: # print('Hello World!')?\n",
        "# print('Hello World!')\n",
        "# There is no output as it is a comment"
      ],
      "metadata": {
        "id": "UpUL3hylEb1C"
      },
      "execution_count": null,
      "outputs": []
    },
    {
      "cell_type": "markdown",
      "source": [
        "## Types"
      ],
      "metadata": {
        "id": "ROIsAdYCFlm-"
      }
    },
    {
      "cell_type": "code",
      "source": [
        "# Question 1: What is the type of the following: int(1.0)?\n",
        "type(int(1.0))"
      ],
      "metadata": {
        "colab": {
          "base_uri": "https://localhost:8080/"
        },
        "id": "mKdc9soHEtpL",
        "outputId": "6fdacab9-0250-4927-8d08-9d007aa81a27"
      },
      "execution_count": null,
      "outputs": [
        {
          "output_type": "execute_result",
          "data": {
            "text/plain": [
              "int"
            ]
          },
          "metadata": {},
          "execution_count": 27
        }
      ]
    },
    {
      "cell_type": "code",
      "source": [
        "# Question 2: Enter the code to convert the number 1 to a Boolean.\n",
        "bool(1)"
      ],
      "metadata": {
        "colab": {
          "base_uri": "https://localhost:8080/"
        },
        "id": "dWVgi5uKFsL6",
        "outputId": "bf5b9150-85c9-40bf-ec90-ce3dc4a9150e"
      },
      "execution_count": null,
      "outputs": [
        {
          "output_type": "execute_result",
          "data": {
            "text/plain": [
              "True"
            ]
          },
          "metadata": {},
          "execution_count": 28
        }
      ]
    },
    {
      "cell_type": "code",
      "source": [
        "# Discussion: My contribution\n",
        "\n",
        "\"\"\"\n",
        "bool() effect in numbers\n",
        "discusión publicada hace hace menos de un minuto por Rob-Vega\n",
        "\n",
        "Note the following; bool() function will always be True for any int or number except for 0:\n",
        "\n",
        "bool(10) --> True\n",
        "\n",
        "bool(1.1) --> True\n",
        "\n",
        "bool(-10) --> True\n",
        "\n",
        "bool(-1.1) --> True\n",
        "\n",
        "bool(0) --> True\n",
        "\"\"\""
      ],
      "metadata": {
        "colab": {
          "base_uri": "https://localhost:8080/",
          "height": 53
        },
        "id": "Qkfic1kDFySK",
        "outputId": "884de164-52eb-49dc-9c7f-968cd78b91e5"
      },
      "execution_count": null,
      "outputs": [
        {
          "output_type": "execute_result",
          "data": {
            "text/plain": [
              "'\\nbool() effect in numbers\\ndiscusión publicada hace hace menos de un minuto por Rob-Vega\\n\\nNote the following; bool() function will always be True for any int or number except for 0:\\n\\nbool(10) --> True\\n\\nbool(1.1) --> True\\n\\nbool(-10) --> True\\n\\nbool(-1.1) --> True\\n\\nbool(0) --> True\\n'"
            ],
            "application/vnd.google.colaboratory.intrinsic+json": {
              "type": "string"
            }
          },
          "metadata": {},
          "execution_count": 29
        }
      ]
    },
    {
      "cell_type": "markdown",
      "source": [
        "## Expressions and Variables\n",
        "\n",
        "Expression = operation\n",
        "oreand:numbers \n",
        "operators: + - * % /\n",
        "\n",
        "// = int division\n",
        "\n",
        "Operation orders\n",
        "\n",
        "Variables --> to assign values to n object\n",
        "\n",
        "use a meaninful name for variables"
      ],
      "metadata": {
        "id": "qLHQUdniHHhb"
      }
    },
    {
      "cell_type": "markdown",
      "source": [
        "## String Operations\n",
        "\n",
        "\n",
        "\\ escape sequences\n",
        "r to cnsider the backslash as an element"
      ],
      "metadata": {
        "id": "Xr38FQPZJh-0"
      }
    },
    {
      "cell_type": "markdown",
      "source": [
        "Sequence methods:\n",
        "\n",
        "String methods:\n",
        "\n",
        "upper()\n",
        "\n",
        "replace(target,replace_element)\n",
        "\n",
        "find(substring) --> first index of the substr in string\n"
      ],
      "metadata": {
        "id": "JMntQ4-VJ66q"
      }
    },
    {
      "cell_type": "code",
      "source": [
        "# Question 1: \n",
        "\"\"\"\n",
        "Consider the following string:\n",
        "\n",
        "Numbers = \"0123456\"\n",
        "How would you obtain the even elements?\n",
        "\"\"\"\n",
        "Numbers = \"0123456\"\n",
        "Numbers[::2]"
      ],
      "metadata": {
        "colab": {
          "base_uri": "https://localhost:8080/",
          "height": 35
        },
        "id": "R9ACyaZbHHCr",
        "outputId": "4e3090e7-930b-4e70-f272-d3110cc903a2"
      },
      "execution_count": null,
      "outputs": [
        {
          "output_type": "execute_result",
          "data": {
            "text/plain": [
              "'0246'"
            ],
            "application/vnd.google.colaboratory.intrinsic+json": {
              "type": "string"
            }
          },
          "metadata": {},
          "execution_count": 30
        }
      ]
    },
    {
      "cell_type": "markdown",
      "source": [
        "Note: if .find() is not able to find the vaue it retreives -1\n",
        "\n",
        "If you want to print a back slash with r you must leava a space after the \\ (or any other character)"
      ],
      "metadata": {
        "id": "IYz5gTh_NdGf"
      }
    },
    {
      "cell_type": "code",
      "source": [
        "Numbers[1::2]"
      ],
      "metadata": {
        "colab": {
          "base_uri": "https://localhost:8080/",
          "height": 35
        },
        "id": "dVqyIsZGKW4G",
        "outputId": "6168800e-2bdd-4823-9e3e-782b2d0283dc"
      },
      "execution_count": null,
      "outputs": [
        {
          "output_type": "execute_result",
          "data": {
            "text/plain": [
              "'135'"
            ],
            "application/vnd.google.colaboratory.intrinsic+json": {
              "type": "string"
            }
          },
          "metadata": {},
          "execution_count": 31
        }
      ]
    },
    {
      "cell_type": "markdown",
      "source": [
        "## Review Questions"
      ],
      "metadata": {
        "id": "aXTmEcaUMjZj"
      }
    },
    {
      "cell_type": "code",
      "source": [
        "# Question 1: What is the result of the following operation in Python:\n",
        "\n",
        "3 + 2 * 2"
      ],
      "metadata": {
        "colab": {
          "base_uri": "https://localhost:8080/"
        },
        "id": "xTdYZT9uMkLV",
        "outputId": "8203be77-fbd8-4314-9f2d-a38130f08043"
      },
      "execution_count": null,
      "outputs": [
        {
          "output_type": "execute_result",
          "data": {
            "text/plain": [
              "7"
            ]
          },
          "metadata": {},
          "execution_count": 32
        }
      ]
    },
    {
      "cell_type": "code",
      "source": [
        "# Question 2: In Python, if you executed name = 'Lizz', what would be the output of print(name[0:2])?\n",
        "name = 'Lizz'\n",
        "name[0:2]"
      ],
      "metadata": {
        "colab": {
          "base_uri": "https://localhost:8080/",
          "height": 35
        },
        "id": "B-z_l9yqMo7b",
        "outputId": "2bf20eca-b38b-4a2a-839a-5d00a0e4ee69"
      },
      "execution_count": null,
      "outputs": [
        {
          "output_type": "execute_result",
          "data": {
            "text/plain": [
              "'Li'"
            ],
            "application/vnd.google.colaboratory.intrinsic+json": {
              "type": "string"
            }
          },
          "metadata": {},
          "execution_count": 33
        }
      ]
    },
    {
      "cell_type": "code",
      "source": [
        "# Question 3: In Python, if you executed var = '01234567', what would be the result of print(var[::2])?\n",
        "var = '01234567'\n",
        "print(var[::2])"
      ],
      "metadata": {
        "colab": {
          "base_uri": "https://localhost:8080/"
        },
        "id": "TG2RJ2xJMuvb",
        "outputId": "34917f32-69b4-4bbe-965c-7ee54fe3a716"
      },
      "execution_count": null,
      "outputs": [
        {
          "output_type": "stream",
          "name": "stdout",
          "text": [
            "0246\n"
          ]
        }
      ]
    },
    {
      "cell_type": "code",
      "source": [
        "# QUestion 4: In Python, what is the result of the following operation '1'+'2'?\n",
        "'1' + '2'"
      ],
      "metadata": {
        "colab": {
          "base_uri": "https://localhost:8080/",
          "height": 35
        },
        "id": "8wQyG1RBM5ab",
        "outputId": "8aa0dca1-cd3e-449c-8715-6345f66b61ce"
      },
      "execution_count": null,
      "outputs": [
        {
          "output_type": "execute_result",
          "data": {
            "text/plain": [
              "'12'"
            ],
            "application/vnd.google.colaboratory.intrinsic+json": {
              "type": "string"
            }
          },
          "metadata": {},
          "execution_count": 35
        }
      ]
    },
    {
      "cell_type": "code",
      "source": [
        "# Question 5: Given myvar = 'hello', how would you convert myvar into uppercase?\n",
        "myvar = 'hello'\n",
        "myvar.upper()"
      ],
      "metadata": {
        "colab": {
          "base_uri": "https://localhost:8080/",
          "height": 35
        },
        "id": "Yu8KzdA4M-dr",
        "outputId": "45c3e691-c8c6-4875-990b-fa6529ac529f"
      },
      "execution_count": null,
      "outputs": [
        {
          "output_type": "execute_result",
          "data": {
            "text/plain": [
              "'HELLO'"
            ],
            "application/vnd.google.colaboratory.intrinsic+json": {
              "type": "string"
            }
          },
          "metadata": {},
          "execution_count": 36
        }
      ]
    },
    {
      "cell_type": "markdown",
      "source": [
        "# Módulo 2"
      ],
      "metadata": {
        "id": "FKFgFLSPOa26"
      }
    },
    {
      "cell_type": "markdown",
      "source": [
        "## List and Tuples\n"
      ],
      "metadata": {
        "id": "pC0bZwXiOeaK"
      }
    },
    {
      "cell_type": "markdown",
      "source": [
        "Compound objects\n",
        "\n",
        "Tuple:\n",
        "* can have heterogeneous elements\n",
        "* SELECT the last element x[-1] OR \n",
        "* slicing\n",
        "* len()\n",
        "* immutable --> we cannot hange them: x[2] = 1 WRONG!\n",
        "* nesting: x[1][2][3] and so on...\n",
        "\n",
        "Lists:\n",
        "* CAN have HETEROGENEOUS elements\n",
        "* mutable --> we cannot hange them: x[2] = 1 CORRECT!\n",
        "  * .extend --> adds elements of a list at th end of another\n",
        "  * .append --> adds lists or whatever be included as a new element of the first list\n",
        "  * del(x[n]) --> deletes the element\n",
        "* .split(\"<delimiter>\") --> string to list\n",
        "* Referencing the same object: aliasing\n",
        "A = B, if change A, we change B as a side effect\n",
        "* Copy: B = A[:]"
      ],
      "metadata": {
        "id": "Y6nS8_CUOyeE"
      }
    },
    {
      "cell_type": "code",
      "source": [
        "# Question 1: How do you access the last element of the following tuple: A=(0,1,2,3)? Select all possible correct answers.\n",
        "A=(0,1,2,3)\n",
        "\n",
        "A[-1]\n",
        "A[3]"
      ],
      "metadata": {
        "colab": {
          "base_uri": "https://localhost:8080/"
        },
        "id": "-fjVGstQNF57",
        "outputId": "358ab9be-eca4-48cf-8b8d-0946f65fc979"
      },
      "execution_count": null,
      "outputs": [
        {
          "output_type": "execute_result",
          "data": {
            "text/plain": [
              "3"
            ]
          },
          "metadata": {},
          "execution_count": 37
        }
      ]
    },
    {
      "cell_type": "code",
      "source": [
        "# Question 2:\n",
        "\"\"\"\n",
        "Consider the list: B=[\"a\",\"b\",\"c\"].\n",
        "\n",
        "What is the result of the following B[1:]?\n",
        "\"\"\"\n",
        "\n",
        "B=[\"a\",\"b\",\"c\"]\n",
        "B[1:]"
      ],
      "metadata": {
        "colab": {
          "base_uri": "https://localhost:8080/"
        },
        "id": "jOFJPdsaQFOE",
        "outputId": "87d5761d-20af-4319-999b-71065adf1ff6"
      },
      "execution_count": null,
      "outputs": [
        {
          "output_type": "execute_result",
          "data": {
            "text/plain": [
              "['b', 'c']"
            ]
          },
          "metadata": {},
          "execution_count": 38
        }
      ]
    },
    {
      "cell_type": "markdown",
      "source": [
        "## Sets"
      ],
      "metadata": {
        "id": "C3GlR-MRSoY9"
      }
    },
    {
      "cell_type": "markdown",
      "source": [
        "Sets:\n",
        "* are type of collections\n",
        "* UNORDERED\n",
        "* only UNIQUE elements\n",
        "* {}\n",
        "* you can input a list and it will delete duplicates\n",
        "* .add(<element>) --> add a new element\n",
        "* .remove(<element>) --> remove element\n",
        "* in --> evaluates if an item is in the set\n",
        "* INTERSECTION of sets: &\n",
        "* UNION of sets: .union()\n",
        "* SUBSET: issubset() --> (1 is subset of 2)\n",
        "\n",
        "ALL operations have MEMORY!!! (no assign is needed,\n",
        "\n",
        "i.e x = x.add('z') WRONG!!!\n",
        "\n",
        "x.add('z') CORRECT!))"
      ],
      "metadata": {
        "id": "3-Qvm-_BSp_q"
      }
    },
    {
      "cell_type": "code",
      "source": [
        "# Question 1: What is the result of the following lines of code:\n",
        "\n",
        "S={'A','B','C'}\n",
        "\n",
        "U={'A','Z','C'}\n",
        "\n",
        "U.union(S)"
      ],
      "metadata": {
        "colab": {
          "base_uri": "https://localhost:8080/"
        },
        "id": "DUsl1peCUNqy",
        "outputId": "298cb2d4-f4da-4d17-d7ff-9ecbb3bd735f"
      },
      "execution_count": null,
      "outputs": [
        {
          "output_type": "execute_result",
          "data": {
            "text/plain": [
              "{'A', 'B', 'C', 'Z'}"
            ]
          },
          "metadata": {},
          "execution_count": 39
        }
      ]
    },
    {
      "cell_type": "code",
      "source": [
        "# Question 2: What is the intersection of set S and U?\n",
        "\n",
        "S={'A','B','C'}\n",
        "\n",
        "U={'A','Z','C'}\n",
        "\n",
        "S & U"
      ],
      "metadata": {
        "colab": {
          "base_uri": "https://localhost:8080/"
        },
        "id": "7VvcnPhFUZUd",
        "outputId": "e37807b3-399e-42b1-9a35-50c3cc4c38f8"
      },
      "execution_count": null,
      "outputs": [
        {
          "output_type": "execute_result",
          "data": {
            "text/plain": [
              "{'A', 'C'}"
            ]
          },
          "metadata": {},
          "execution_count": 40
        }
      ]
    },
    {
      "cell_type": "markdown",
      "source": [
        "## Dictionaries"
      ],
      "metadata": {
        "id": "ISrcclxVVnnP"
      }
    },
    {
      "cell_type": "markdown",
      "source": [
        "* type of collection\n",
        "* has keys and values\n",
        "* {key:value}  (ALWAYS: 1st (at left) keys, 2nd (at right) values)\n",
        "  * key is IMMUTABLE\n",
        "* x[key] --> value\n",
        "* create: x[new_key] = value\n",
        "* in searches for KEYS\n",
        "* x.keys()\n",
        "* x.values()\n"
      ],
      "metadata": {
        "id": "1jKTdavcVo9-"
      }
    },
    {
      "cell_type": "code",
      "source": [
        "# Question 1: \n",
        "\"\"\"\n",
        "Consider the following dictionary:\n",
        "\n",
        "D = {'a':0,'b':1,'c':2}\n",
        "\n",
        "What is the result of the following: D.values()?\n",
        "\"\"\"\n",
        "D = {'a':0,'b':1,'c':2}\n",
        "D.values()\n"
      ],
      "metadata": {
        "colab": {
          "base_uri": "https://localhost:8080/"
        },
        "id": "-woB1aXIUedk",
        "outputId": "4932e420-5168-4996-dba5-8bfc303d0ea0"
      },
      "execution_count": null,
      "outputs": [
        {
          "output_type": "execute_result",
          "data": {
            "text/plain": [
              "dict_values([0, 1, 2])"
            ]
          },
          "metadata": {},
          "execution_count": 41
        }
      ]
    },
    {
      "cell_type": "code",
      "source": [
        "# Question 2: \n",
        "\"\"\"\n",
        "Consider the following dictionary:\n",
        "\n",
        "D = {'a':0,'b':1,'c':2}\n",
        "What is the output of the following D['b']?\n",
        "\"\"\"\n",
        "D = {'a':0,'b':1,'c':2}\n",
        "D['b']"
      ],
      "metadata": {
        "id": "101qcfPUY_hd",
        "outputId": "7d99a070-dffb-4f8b-e4e0-958a3c03141a",
        "colab": {
          "base_uri": "https://localhost:8080/"
        }
      },
      "execution_count": null,
      "outputs": [
        {
          "output_type": "execute_result",
          "data": {
            "text/plain": [
              "1"
            ]
          },
          "metadata": {},
          "execution_count": 42
        }
      ]
    },
    {
      "cell_type": "markdown",
      "source": [
        "## Review Questions"
      ],
      "metadata": {
        "id": "8kTuligZYP9X"
      }
    },
    {
      "cell_type": "code",
      "source": [
        "# Question 1: What is the syntax used to obtain the first element of the tuple:\n",
        "\n",
        "A = ('a','b','c')\n",
        "A[0]"
      ],
      "metadata": {
        "colab": {
          "base_uri": "https://localhost:8080/",
          "height": 35
        },
        "id": "VtBHTacrYQjM",
        "outputId": "000a593c-b202-4dfb-a96d-8dc1f45cfcf8"
      },
      "execution_count": null,
      "outputs": [
        {
          "output_type": "execute_result",
          "data": {
            "text/plain": [
              "'a'"
            ],
            "application/vnd.google.colaboratory.intrinsic+json": {
              "type": "string"
            }
          },
          "metadata": {},
          "execution_count": 43
        }
      ]
    },
    {
      "cell_type": "code",
      "source": [
        "# Question 2: After applying the following method, L.append(['a','b']), the following list will only be one element longer.\n",
        "True"
      ],
      "metadata": {
        "colab": {
          "base_uri": "https://localhost:8080/"
        },
        "id": "ybkGdbZPYW5c",
        "outputId": "5b6b8f65-c8a6-4741-bb04-72f72277c533"
      },
      "execution_count": null,
      "outputs": [
        {
          "output_type": "execute_result",
          "data": {
            "text/plain": [
              "True"
            ]
          },
          "metadata": {},
          "execution_count": 44
        }
      ]
    },
    {
      "cell_type": "code",
      "source": [
        "# Question 3: How many duplicate elements can you have in a set?\n",
        "print('0. You can only have one unique element in a set.')"
      ],
      "metadata": {
        "colab": {
          "base_uri": "https://localhost:8080/"
        },
        "id": "Jsw1QerBYbQr",
        "outputId": "ec1b1cb6-f1a8-495b-c04f-6f104a6e7162"
      },
      "execution_count": null,
      "outputs": [
        {
          "output_type": "stream",
          "name": "stdout",
          "text": [
            "0. You can only have one unique element in a set.\n"
          ]
        }
      ]
    },
    {
      "cell_type": "code",
      "source": [
        "# Question 4:\n",
        "\"\"\"\n",
        "Consider the following Python dictionary:\n",
        "\n",
        "Dict={\"A\":1,\"B\":\"2\",\"C\":[3,3,3],\"D\":(4,4,4),'E':5,'F':6}\n",
        "\n",
        "What is the result of the following operation: Dict[\"D\"]?\n",
        "\"\"\"\n",
        "\n",
        "Dict={\"A\":1,\"B\":\"2\",\"C\":[3,3,3],\"D\":(4,4,4),'E':5,'F':6}\n",
        "Dict['D']"
      ],
      "metadata": {
        "colab": {
          "base_uri": "https://localhost:8080/"
        },
        "id": "Xw1gNEJoYjTT",
        "outputId": "64daced2-4565-4226-82e4-ac158e89b13e"
      },
      "execution_count": null,
      "outputs": [
        {
          "output_type": "execute_result",
          "data": {
            "text/plain": [
              "(4, 4, 4)"
            ]
          },
          "metadata": {},
          "execution_count": 46
        }
      ]
    },
    {
      "cell_type": "code",
      "source": [
        "# Question 5: What is an important difference between lists and tuples?\n",
        "print('Lists are mutable, tuples are not.')"
      ],
      "metadata": {
        "colab": {
          "base_uri": "https://localhost:8080/"
        },
        "id": "RgmaqKk_YstL",
        "outputId": "67a661bb-b45e-4008-b3f1-f2cf33853b35"
      },
      "execution_count": null,
      "outputs": [
        {
          "output_type": "stream",
          "name": "stdout",
          "text": [
            "Lists are mutable, tuples are not.\n"
          ]
        }
      ]
    },
    {
      "cell_type": "markdown",
      "source": [
        "#Módulo 3"
      ],
      "metadata": {
        "id": "1E1PtjW4SkP-"
      }
    },
    {
      "cell_type": "markdown",
      "source": [
        "##Conditions and Brancing"
      ],
      "metadata": {
        "id": "zYpshWgTSnAJ"
      }
    },
    {
      "cell_type": "markdown",
      "source": [
        "Copmparison Operators\n",
        "Result is a bool\n",
        "* ==\n",
        "* \\>\n",
        "* \\>=\n",
        "* !=\n",
        "\n",
        "Can be used for numbers and strings\n",
        "\n",
        "Branching\n",
        "* if ---> code just executed if condition is True, then continue\n",
        "* if else --> 1 code just executed if condition is True, ese other one is executed\n",
        "* elseif --> allows tp check additional conditions if the preceeding condition is false. ALLOWS to execuet an especial condition ONLY if 1st condition is FALSE and teh elif is TRUE\n",
        "\n",
        "Logic operators\n",
        "bool --> bool\n",
        "* not\n",
        "* or\n",
        "* and"
      ],
      "metadata": {
        "id": "NYQ_IqjdSs1B"
      }
    },
    {
      "cell_type": "code",
      "source": [
        "# Question 1: Select the values of i that produces a True for the following:\n",
        "\n",
        "# i != 0\n",
        "\n",
        "#1\n",
        "#-1\n",
        "#100000000"
      ],
      "metadata": {
        "id": "fxlHYDzISmNe"
      },
      "execution_count": null,
      "outputs": []
    },
    {
      "cell_type": "code",
      "source": [
        "# Question 2: What is the output of the following:\n",
        "\n",
        "x='a'\n",
        "\n",
        "if(x!='a'):\n",
        "\n",
        "  print(\"This is not a.\")\n",
        "\n",
        "else:\n",
        "\n",
        "  print(\"This is a.\")"
      ],
      "metadata": {
        "colab": {
          "base_uri": "https://localhost:8080/"
        },
        "id": "RsePYKsKVo_V",
        "outputId": "81c64633-66cf-4e48-b583-158dcf0b8c90"
      },
      "execution_count": null,
      "outputs": [
        {
          "output_type": "stream",
          "name": "stdout",
          "text": [
            "This is a.\n"
          ]
        }
      ]
    },
    {
      "cell_type": "markdown",
      "source": [
        "## Loops"
      ],
      "metadata": {
        "id": "fCBbV2xOWTci"
      }
    },
    {
      "cell_type": "markdown",
      "source": [
        "range()\n",
        "* range(#) --> if +, sequence generates number from 0 to #\n",
        "* range(m,n) --> if n > m, list m to n-1\n",
        "* Python 3 WON't create EXPLICITLY the list\n",
        "*NOTE: if you want to make backwards count you must include -1 as a 3rd parameter\n",
        "\n",
        "---\n",
        "\n",
        "for\n",
        "* loop a certain amount of times (until all elements of iterable are finished)\n",
        "* performs a task over and over\n",
        "* applicable to itarate tuples, lists\n",
        "** enumerate --> adds an index to elements of a list\n",
        "\n",
        "---\n",
        "\n",
        "while\n",
        "* loop only while a condition is met\n",
        "* condition variable should me modified inside the while loop"
      ],
      "metadata": {
        "id": "L2WGvP8gWWC_"
      }
    },
    {
      "cell_type": "code",
      "source": [
        "# Personal test of range\n",
        "for i in range(10,0,-1):\n",
        "  print(i)"
      ],
      "metadata": {
        "colab": {
          "base_uri": "https://localhost:8080/"
        },
        "id": "sNXz7cTnBg77",
        "outputId": "2b68dd30-6c41-426a-bfb9-fa2bdd10d302"
      },
      "execution_count": null,
      "outputs": [
        {
          "output_type": "stream",
          "name": "stdout",
          "text": [
            "10\n",
            "9\n",
            "8\n",
            "7\n",
            "6\n",
            "5\n",
            "4\n",
            "3\n",
            "2\n",
            "1\n"
          ]
        }
      ]
    },
    {
      "cell_type": "code",
      "source": [
        "# Question 1: What is the output of the following lines of code:\n",
        "\n",
        "A=[3,4,5]\n",
        "\n",
        "for a in A:\n",
        "\n",
        "  print(a)"
      ],
      "metadata": {
        "colab": {
          "base_uri": "https://localhost:8080/"
        },
        "id": "zYJ3BxlqVtrn",
        "outputId": "188c8359-d3b4-4f78-9b83-940d6612def9"
      },
      "execution_count": null,
      "outputs": [
        {
          "output_type": "stream",
          "name": "stdout",
          "text": [
            "3\n",
            "4\n",
            "5\n"
          ]
        }
      ]
    },
    {
      "cell_type": "code",
      "source": [
        "# Question 2: What is the output of the following lines of code:\n",
        "\n",
        "x=3\n",
        "\n",
        "y=1\n",
        "\n",
        "while(y!=x):\n",
        "\n",
        "  print(y)\n",
        "\n",
        "  y=y+1"
      ],
      "metadata": {
        "colab": {
          "base_uri": "https://localhost:8080/"
        },
        "id": "UChdAR-kWYMw",
        "outputId": "897eaf70-3e48-4596-e1ab-6d76fe0288fd"
      },
      "execution_count": null,
      "outputs": [
        {
          "output_type": "stream",
          "name": "stdout",
          "text": [
            "1\n",
            "2\n"
          ]
        }
      ]
    },
    {
      "cell_type": "markdown",
      "source": [
        "## Functions"
      ],
      "metadata": {
        "id": "o9eClioEXNUg"
      }
    },
    {
      "cell_type": "markdown",
      "source": [
        "Piece of code that can be called many times\n",
        "\n",
        "Built-in funcitons:\n",
        "* len --> # of elements of an object (string, list, typle, set)\n",
        "* sort --> sorted(list) --> CREATES a NEW list\n",
        "* sorted --> list.sort() MODIFIES existing list\n",
        "\n",
        "\n",
        "---\n",
        "\n",
        "How to create our own function:\n",
        "\n",
        "def func_name(attribute):\n",
        "  \n",
        "  \"\"\"\n",
        "  documentation\n",
        "  \"\"\"\n",
        "\n",
        "  \\<actions>\n",
        "\n",
        "  return output\n",
        "\n",
        "---\n",
        "\n",
        "Multiple parameters:\n",
        "\n",
        "def func(parameter1, parameter2):\n",
        "  return out1, out 2\n",
        "\n",
        "---\n",
        "\n",
        "Useless function:\n",
        "\n",
        "def func():\n",
        "  \n",
        "  pass\n",
        "\n",
        "---\n",
        "\n",
        "Collecting arguments: *arg\n",
        "* allows a VARIABLE # of elements\n",
        "\n",
        "---\n",
        "Scope of a variable\n",
        "It is the part of the code WHERE VARIABLE is ACESSIBLE\n",
        "* GLOBAL --> variable accessible everywhere (defined OUTSIDE EVERYTHING)\n",
        "* LOCAL --> INSIDE a function (they die when function finishes)\n",
        "* Variables inside the global scope can have the same name as variables in the local scope with no conflict.\n",
        "* \"If a variable is not defined within a function, Python will check the global scope.\"\n",
        "* global var --> allows you to CREATE/MODIFY GLOBAL variables INSIDE a function\n",
        "\n",
        "\n"
      ],
      "metadata": {
        "id": "rZtIilMMXPIl"
      }
    },
    {
      "cell_type": "code",
      "source": [
        "# Test of the notes\n",
        "def add(x):\n",
        "  y = x+1\n",
        "  return y\n",
        "\n",
        "x = 1\n",
        "y = add(x)\n",
        "\n",
        "\n",
        "print(x,y)"
      ],
      "metadata": {
        "colab": {
          "base_uri": "https://localhost:8080/"
        },
        "id": "zwrN5xZBhf7M",
        "outputId": "8c74e17e-d0e2-437a-b650-53cf67c06172"
      },
      "execution_count": null,
      "outputs": [
        {
          "output_type": "stream",
          "name": "stdout",
          "text": [
            "1 2\n"
          ]
        }
      ]
    },
    {
      "cell_type": "code",
      "source": [
        "# Test of the notes\n",
        "def add(ñ):\n",
        "  global x\n",
        "  x = 3\n",
        "  y = x+ñ\n",
        "  return y\n",
        "\n",
        "x = 1\n",
        "y = add(x)\n",
        "\n",
        "\n",
        "print(x,y)"
      ],
      "metadata": {
        "colab": {
          "base_uri": "https://localhost:8080/"
        },
        "id": "-cL9Wllre4hY",
        "outputId": "32b84069-521f-4d3a-a720-ffe966069698"
      },
      "execution_count": null,
      "outputs": [
        {
          "output_type": "stream",
          "name": "stdout",
          "text": [
            "3 4\n"
          ]
        }
      ]
    },
    {
      "cell_type": "code",
      "source": [
        "# Questin 1: What is the value of c after the following block of code is run ?\n",
        "\n",
        "a=1\n",
        "\n",
        "def add(b):\n",
        "\n",
        "  return a+b\n",
        "\n",
        "c=add(10)\n",
        "c"
      ],
      "metadata": {
        "colab": {
          "base_uri": "https://localhost:8080/"
        },
        "id": "vwX8ohYKssd8",
        "outputId": "d8343d8e-506f-4794-e6f8-2f55b3a81749"
      },
      "execution_count": null,
      "outputs": [
        {
          "output_type": "execute_result",
          "data": {
            "text/plain": [
              "11"
            ]
          },
          "metadata": {},
          "execution_count": 55
        }
      ]
    },
    {
      "cell_type": "code",
      "source": [
        "# Question 2: What is the value of c after the following block of code is run with proper numerical input?\n",
        "\n",
        "def f(*x):\n",
        "\n",
        " return sum(x)\n",
        "\n",
        "# Return the total of a variable amount of parameters."
      ],
      "metadata": {
        "id": "96QJW_ogsvDr"
      },
      "execution_count": null,
      "outputs": []
    },
    {
      "cell_type": "markdown",
      "source": [
        "## Object and Classes"
      ],
      "metadata": {
        "id": "5v-ZO2pXDZJd"
      }
    },
    {
      "cell_type": "markdown",
      "source": [
        "Python has many data types:\n",
        "* int\n",
        "* float\n",
        "* string\n",
        "* list\n",
        "* dictionary\n",
        "* bool\n",
        "\n",
        "== object, whi has:\n",
        "* type\n",
        "* blueprint (internal data representation)\n",
        "* methods (procedures)\n",
        "\n",
        "An OBJECT is an INSTANCE of a TYPE\n",
        "\n",
        "type() --> tells you object type\n",
        "\n",
        "---\n",
        "\n",
        "Method == FUNCTION that every instance hav in coomon\n",
        "it is HOW yo interact with data\n",
        "\n",
        "\n",
        "---\n",
        "Defining classes\n",
        "* class class_name(parent_class): # class definition\n",
        "* Attributes:\n",
        "\n",
        "  def \\__init__(self,radius,color): #attributes used to ninitialize the instance of the class\n",
        "\n",
        "    >self.radius = radius;\n",
        "    \n",
        "    >self.color = color;\n",
        "\n",
        "* \\__init__ == constructur == special function that TELLS Python you are CREATINGa NEW CLASS.\n",
        "* self == referst to the newly created INSTANCE of the CLASS == box containing all ATTRIBUTES of the object\n",
        "* changing attribute object.attribute_name = value\n",
        "\n",
        "---\n",
        "Methods\n",
        "\n",
        "Functions that interact with attributes (changing/using them)\n",
        "\n",
        "def add_radius(self,r):\n",
        "  > self.radius = self.radius + r\n",
        "\n",
        "  > return (slef.radius)\n",
        "\n",
        "  ---\n",
        "\n",
        "  dir() --> name methods & attributes of a class\n"
      ],
      "metadata": {
        "id": "ThEciOf1Db28"
      }
    },
    {
      "cell_type": "code",
      "source": [
        "# Question 1: Using the Class Car in the lab, create a Car object with the following attributes:\n",
        "\n",
        "make=\"Honda\"\n",
        "\n",
        "model=\"Accord\"\n",
        "\n",
        "color=\"blue\"\n",
        "\n",
        "# Unable to open this particular lab"
      ],
      "metadata": {
        "id": "5q8i6cuJs5Tb"
      },
      "execution_count": null,
      "outputs": []
    },
    {
      "cell_type": "code",
      "source": [
        "# Question 2: From the lab, how would you change the data attribute owner_number ?\n",
        "\n",
        "# Unable to open this particular lab"
      ],
      "metadata": {
        "id": "81jffs61NGH9"
      },
      "execution_count": null,
      "outputs": []
    },
    {
      "cell_type": "markdown",
      "source": [
        "###Lab: Class creation\n"
      ],
      "metadata": {
        "id": "l2A7_TWBM40K"
      }
    },
    {
      "cell_type": "markdown",
      "source": [
        "You have been recruited by your friend, a linguistics enthusiast, to create a utility tool that can perform analysis on a given piece of text. Complete the class\n",
        "'analysedText' with the following methods -\n",
        "\n",
        "<ul>\n",
        "    <li> Constructor (__init__) - This method should take the argument <code>text</code>, make it lower case, and remove all punctuation.  Assume only the following punctuation is used: period (.), exclamation mark (!), comma (,) and question mark (?). Assign this newly formatted text to a new attribute called <code>fmtText</code>.\n",
        "    <li> freqAll - This method should create and <strong>return</strong> dictionary of all unique words in the text, along with the number of times they occur in the text. Each key in the dictionary should be the unique word appearing in the text and the associated value should be the number of times it occurs in the text. Create this dictionary from the <code>fmtText</code> attribute.\n",
        "    <li> freqOf - This method should take a word as an argument and <strong>return</strong> the number of occurrences of that word in <code>fmtText</code>.\n",
        "</ul>\n",
        " The skeleton code has been given to you. Docstrings can be ignored for the purpose of the exercise. <br>\n",
        " <i> Hint: Some useful functions are <code>replace()</code>, <code>lower()</code>, <code>split()</code>, <code>count()</code> </i><br>\n"
      ],
      "metadata": {
        "id": "8dEPaz3lM-3S"
      }
    },
    {
      "cell_type": "code",
      "source": [
        "# Function I created\n",
        "class analysedText(object):\n",
        "    \n",
        "    def __init__ (self, text):\n",
        "        \n",
        "        self.fmtText = text.lower().replace('.','').replace(',','').replace('?','').replace('!','')\n",
        "\n",
        "        # TODO: Remove the punctuation from <text> and make it lower case.\n",
        "        \n",
        "\n",
        "        # TODO: Assign the formatted text to a new attribute called \"fmtText\"\n",
        "        \n",
        "        pass \n",
        "    \n",
        "    def freqAll(self):    \n",
        "\n",
        "        # TODO: Split the text into a list of words\n",
        "        list = self.fmtText.split(' ')\n",
        "\n",
        "        # TODO: Create a dictionary with the unique words in the text as keys\n",
        "        unique = set(list)\n",
        "        \n",
        "        # and the number of times they occur in the text as values\n",
        "        dict = {x:list.count(x) for x in unique}\n",
        "        \n",
        "        return dict # return the created dictionary\n",
        "    \n",
        "    def freqOf(self, word):\n",
        "        dict = self.freqAll()\n",
        "        # TODO: return the number of occurrences of <word> in <fmtText>\n",
        "        if word in dict:\n",
        "            y = dict[word]\n",
        "        else:\n",
        "            y = 0\n",
        "            \n",
        "        return y\n",
        "    "
      ],
      "metadata": {
        "id": "xj2box2bM7Hk"
      },
      "execution_count": null,
      "outputs": []
    },
    {
      "cell_type": "markdown",
      "source": [
        "### Lab: Exception handling\n"
      ],
      "metadata": {
        "id": "xHXJcjQCOWN7"
      }
    },
    {
      "cell_type": "markdown",
      "source": [
        "Examples:\n",
        "* ZeroDivisionError occurs when you try to divide by zero.\n",
        "* NameError -- in this case, it means that you tried to use the variable a when it was not defined.\n",
        "Try-except:\n",
        "* \n",
        "Specific try-except:\n",
        "* allows you to catch certain exceptions and also execute certain code depending on the exception.\n",
        "* hamdling 2 type of errors the same way: except (ZeroDivisionError, NameError):\n",
        "* you can also have an empty except at the end to catch an unexpected exception:\n",
        "* else allows one to check if there was no exception when executing the try block. This is useful when we want to execute something only if there were no errors.\n",
        "* finally allows us to always execute something even if there is an exception or not. This is usually used to signify the end of the try except."
      ],
      "metadata": {
        "id": "2DxZgPEVOcaY"
      }
    },
    {
      "cell_type": "markdown",
      "source": [
        "## Review Questions"
      ],
      "metadata": {
        "id": "UUxVMIq-PRlW"
      }
    },
    {
      "cell_type": "code",
      "source": [
        "# Question 1: What is the output of the following lines of code:\n",
        "\n",
        "x=1\n",
        "\n",
        "if(x!=1):\n",
        "\n",
        "  print('Hello')\n",
        "\n",
        "else:\n",
        "\n",
        "  print('Hi')\n",
        "\n",
        "print('Mike')"
      ],
      "metadata": {
        "colab": {
          "base_uri": "https://localhost:8080/"
        },
        "id": "pjmFuPtXPUwk",
        "outputId": "77fe5a6a-c6ff-42eb-9d78-389cca9a4d83"
      },
      "execution_count": null,
      "outputs": [
        {
          "output_type": "stream",
          "name": "stdout",
          "text": [
            "Hi\n",
            "Mike\n"
          ]
        }
      ]
    },
    {
      "cell_type": "code",
      "source": [
        "# Question 2: What is the output of the following few lines of code?\n",
        "\n",
        "A = ['1','2','3']\n",
        "\n",
        "for a in A:\n",
        "\n",
        "  print(2*a)"
      ],
      "metadata": {
        "colab": {
          "base_uri": "https://localhost:8080/"
        },
        "id": "usmWYe5SPlX3",
        "outputId": "95be096c-c09b-4cc0-9f27-8b1120371367"
      },
      "execution_count": null,
      "outputs": [
        {
          "output_type": "stream",
          "name": "stdout",
          "text": [
            "11\n",
            "22\n",
            "33\n"
          ]
        }
      ]
    },
    {
      "cell_type": "code",
      "source": [
        "# Question 3: Consider the function Delta, when will the function return a value of 1\n",
        "\n",
        "def Delta(x):\n",
        "\n",
        "  if x==0:\n",
        "\n",
        "    y=1;\n",
        "\n",
        "  else:\n",
        "\n",
        "    y=0;\n",
        "\n",
        "  return(y)\n",
        "\n",
        "print(Delta(0))"
      ],
      "metadata": {
        "colab": {
          "base_uri": "https://localhost:8080/"
        },
        "id": "KU8Ko2H7PtYJ",
        "outputId": "9ae11b76-fcad-4159-bb00-a0a20efa9050"
      },
      "execution_count": null,
      "outputs": [
        {
          "output_type": "stream",
          "name": "stdout",
          "text": [
            "1\n"
          ]
        }
      ]
    },
    {
      "cell_type": "code",
      "source": [
        "# Question 4: What is the correct way to sort the list 'B' using a method? The result should not return a new list, just change the list 'B'.\n",
        "\n",
        "#B.sort()"
      ],
      "metadata": {
        "id": "ejq-TQewQG_G"
      },
      "execution_count": null,
      "outputs": []
    },
    {
      "cell_type": "code",
      "source": [
        "# Question 5: What are the keys of the following dictionary: {'a':1,'b':2}?\n",
        "#a,b"
      ],
      "metadata": {
        "id": "tWoqous7QLgC"
      },
      "execution_count": null,
      "outputs": []
    },
    {
      "cell_type": "markdown",
      "source": [
        "# Módulo 4"
      ],
      "metadata": {
        "id": "qycHQsPxs2X5"
      }
    },
    {
      "cell_type": "markdown",
      "source": [
        "## Reading Files with Open"
      ],
      "metadata": {
        "id": "-nuthqvftOMf"
      }
    },
    {
      "cell_type": "markdown",
      "source": [
        "Objective: write & read txt file\n",
        "* open function: open(\"filepath/filename\",\"<\\<mode>>\")\n",
        "> * mode: r = reading, w = writing, a = apending, wb = web page\n",
        "*  Attrributes:\n",
        "\n",
        "  > .name --> get name of file\n",
        "\n",
        "  > .mode --> get the mode of the file\n",
        "    > .closed\n",
        "\n",
        "* ALWAYS have to close the file at the END: <file>.close()\n",
        "\n",
        "* Alterative: with open(\"\\<filepath>/\\<filename>\",\"<\\<mode>>\") as \\<alias>:\n",
        "> It runs all inside tyhe indent after the with statement and close when finishes\n",
        "\n",
        "* .read() --> stores the content in a file\n",
        "\n",
        "* redlines(n) --> output every lien as an element of a list (IT IS AN ITERATOR)\n",
        "> Args: n = number of characters to read AS a line. IT WILL retreive the folowing set of characters after the last readlines call\n",
        "\n"
      ],
      "metadata": {
        "id": "6WAQ7jZMtPDm"
      }
    },
    {
      "cell_type": "markdown",
      "source": [
        "### Lab Reading Files Python"
      ],
      "metadata": {
        "id": "brlkD5daQXRr"
      }
    },
    {
      "cell_type": "code",
      "source": [
        "import urllib.request\n",
        "url = 'https://cf-courses-data.s3.us.cloud-object-storage.appdomain.cloud/IBMDeveloperSkillsNetwork-PY0101EN-SkillsNetwork/labs/Module%204/data/example1.txt'\n",
        "filename = 'Example1.txt'\n",
        "urllib.request.urlretrieve(url, filename)\n",
        "\n",
        "## Uncomment these if working locally, else let the following code cell run.\n",
        "\n",
        "import urllib.request\n",
        "url = 'https://cf-courses-data.s3.us.cloud-object-storage.appdomain.cloud/IBMDeveloperSkillsNetwork-PY0101EN-SkillsNetwork/labs/Module%204/data/example1.txt'\n",
        "filename = 'Example1.txt'\n",
        "urllib.request.urlretrieve(url, filename)\n",
        "\n",
        "## Download Example file\n",
        "!wget -O /resources/data/Example1.txt https://cf-courses-data.s3.us.cloud-object-storage.appdomain.cloud/IBMDeveloperSkillsNetwork-PY0101EN-SkillsNetwork/labs/Module%204/data/example1.txt"
      ],
      "metadata": {
        "colab": {
          "base_uri": "https://localhost:8080/"
        },
        "id": "i6TK0C_QRW--",
        "outputId": "6de03eb5-0d61-4b0d-c7f7-5af356d1e8b5"
      },
      "execution_count": null,
      "outputs": [
        {
          "output_type": "stream",
          "name": "stdout",
          "text": [
            "/resources/data/Example1.txt: No such file or directory\n"
          ]
        }
      ]
    },
    {
      "cell_type": "code",
      "source": [
        "# Código sustituido por read_csv para simpificar carga de archivo\n",
        "\"\"\"\n",
        "from pyodide.http import pyfetch\n",
        "import pandas as pd\n",
        "\n",
        "\n",
        "\n",
        "async def download(url, filename):\n",
        "    response = await pyfetch(url)\n",
        "    if response.status == 200:\n",
        "        with open(filename, \"wb\") as f:\n",
        "            f.write(await response.bytes())\n",
        "\n",
        "\n",
        "await download(filename, \"Example1.txt\")\n",
        "\"\"\""
      ],
      "metadata": {
        "colab": {
          "base_uri": "https://localhost:8080/",
          "height": 53
        },
        "id": "GWm2ugKiR0Hb",
        "outputId": "24f1cd1b-9698-4c63-b43b-5fbe2e5f9d87"
      },
      "execution_count": null,
      "outputs": [
        {
          "output_type": "execute_result",
          "data": {
            "text/plain": [
              "'\\nfrom pyodide.http import pyfetch\\nimport pandas as pd\\n\\n\\n\\nasync def download(url, filename):\\n    response = await pyfetch(url)\\n    if response.status == 200:\\n        with open(filename, \"wb\") as f:\\n            f.write(await response.bytes())\\n\\n\\nawait download(filename, \"Example1.txt\")\\n'"
            ],
            "application/vnd.google.colaboratory.intrinsic+json": {
              "type": "string"
            }
          },
          "metadata": {},
          "execution_count": 68
        }
      ]
    },
    {
      "cell_type": "code",
      "source": [
        "import pandas as pd\n",
        "\n",
        "filename = \"https://cf-courses-data.s3.us.cloud-object-storage.appdomain.cloud/IBMDeveloperSkillsNetwork-PY0101EN-SkillsNetwork/labs/Module%204/data/example1.txt\"\n",
        "\n",
        "df = pd.read_csv(filename)"
      ],
      "metadata": {
        "id": "E_uF_IrhSv9-"
      },
      "execution_count": null,
      "outputs": []
    },
    {
      "cell_type": "code",
      "source": [
        "df"
      ],
      "metadata": {
        "colab": {
          "base_uri": "https://localhost:8080/",
          "height": 112
        },
        "id": "Q29Vi1hJTCva",
        "outputId": "b8bf6d1b-ba92-44a7-dc42-c5b5a50e7a96"
      },
      "execution_count": null,
      "outputs": [
        {
          "output_type": "execute_result",
          "data": {
            "text/plain": [
              "  This is line 1 \n",
              "0  This is line 2\n",
              "1  This is line 3"
            ],
            "text/html": [
              "\n",
              "  <div id=\"df-1af1b873-6ca9-4520-8ce2-ff62d1d3fd5c\">\n",
              "    <div class=\"colab-df-container\">\n",
              "      <div>\n",
              "<style scoped>\n",
              "    .dataframe tbody tr th:only-of-type {\n",
              "        vertical-align: middle;\n",
              "    }\n",
              "\n",
              "    .dataframe tbody tr th {\n",
              "        vertical-align: top;\n",
              "    }\n",
              "\n",
              "    .dataframe thead th {\n",
              "        text-align: right;\n",
              "    }\n",
              "</style>\n",
              "<table border=\"1\" class=\"dataframe\">\n",
              "  <thead>\n",
              "    <tr style=\"text-align: right;\">\n",
              "      <th></th>\n",
              "      <th>This is line 1</th>\n",
              "    </tr>\n",
              "  </thead>\n",
              "  <tbody>\n",
              "    <tr>\n",
              "      <th>0</th>\n",
              "      <td>This is line 2</td>\n",
              "    </tr>\n",
              "    <tr>\n",
              "      <th>1</th>\n",
              "      <td>This is line 3</td>\n",
              "    </tr>\n",
              "  </tbody>\n",
              "</table>\n",
              "</div>\n",
              "      <button class=\"colab-df-convert\" onclick=\"convertToInteractive('df-1af1b873-6ca9-4520-8ce2-ff62d1d3fd5c')\"\n",
              "              title=\"Convert this dataframe to an interactive table.\"\n",
              "              style=\"display:none;\">\n",
              "        \n",
              "  <svg xmlns=\"http://www.w3.org/2000/svg\" height=\"24px\"viewBox=\"0 0 24 24\"\n",
              "       width=\"24px\">\n",
              "    <path d=\"M0 0h24v24H0V0z\" fill=\"none\"/>\n",
              "    <path d=\"M18.56 5.44l.94 2.06.94-2.06 2.06-.94-2.06-.94-.94-2.06-.94 2.06-2.06.94zm-11 1L8.5 8.5l.94-2.06 2.06-.94-2.06-.94L8.5 2.5l-.94 2.06-2.06.94zm10 10l.94 2.06.94-2.06 2.06-.94-2.06-.94-.94-2.06-.94 2.06-2.06.94z\"/><path d=\"M17.41 7.96l-1.37-1.37c-.4-.4-.92-.59-1.43-.59-.52 0-1.04.2-1.43.59L10.3 9.45l-7.72 7.72c-.78.78-.78 2.05 0 2.83L4 21.41c.39.39.9.59 1.41.59.51 0 1.02-.2 1.41-.59l7.78-7.78 2.81-2.81c.8-.78.8-2.07 0-2.86zM5.41 20L4 18.59l7.72-7.72 1.47 1.35L5.41 20z\"/>\n",
              "  </svg>\n",
              "      </button>\n",
              "      \n",
              "  <style>\n",
              "    .colab-df-container {\n",
              "      display:flex;\n",
              "      flex-wrap:wrap;\n",
              "      gap: 12px;\n",
              "    }\n",
              "\n",
              "    .colab-df-convert {\n",
              "      background-color: #E8F0FE;\n",
              "      border: none;\n",
              "      border-radius: 50%;\n",
              "      cursor: pointer;\n",
              "      display: none;\n",
              "      fill: #1967D2;\n",
              "      height: 32px;\n",
              "      padding: 0 0 0 0;\n",
              "      width: 32px;\n",
              "    }\n",
              "\n",
              "    .colab-df-convert:hover {\n",
              "      background-color: #E2EBFA;\n",
              "      box-shadow: 0px 1px 2px rgba(60, 64, 67, 0.3), 0px 1px 3px 1px rgba(60, 64, 67, 0.15);\n",
              "      fill: #174EA6;\n",
              "    }\n",
              "\n",
              "    [theme=dark] .colab-df-convert {\n",
              "      background-color: #3B4455;\n",
              "      fill: #D2E3FC;\n",
              "    }\n",
              "\n",
              "    [theme=dark] .colab-df-convert:hover {\n",
              "      background-color: #434B5C;\n",
              "      box-shadow: 0px 1px 3px 1px rgba(0, 0, 0, 0.15);\n",
              "      filter: drop-shadow(0px 1px 2px rgba(0, 0, 0, 0.3));\n",
              "      fill: #FFFFFF;\n",
              "    }\n",
              "  </style>\n",
              "\n",
              "      <script>\n",
              "        const buttonEl =\n",
              "          document.querySelector('#df-1af1b873-6ca9-4520-8ce2-ff62d1d3fd5c button.colab-df-convert');\n",
              "        buttonEl.style.display =\n",
              "          google.colab.kernel.accessAllowed ? 'block' : 'none';\n",
              "\n",
              "        async function convertToInteractive(key) {\n",
              "          const element = document.querySelector('#df-1af1b873-6ca9-4520-8ce2-ff62d1d3fd5c');\n",
              "          const dataTable =\n",
              "            await google.colab.kernel.invokeFunction('convertToInteractive',\n",
              "                                                     [key], {});\n",
              "          if (!dataTable) return;\n",
              "\n",
              "          const docLinkHtml = 'Like what you see? Visit the ' +\n",
              "            '<a target=\"_blank\" href=https://colab.research.google.com/notebooks/data_table.ipynb>data table notebook</a>'\n",
              "            + ' to learn more about interactive tables.';\n",
              "          element.innerHTML = '';\n",
              "          dataTable['output_type'] = 'display_data';\n",
              "          await google.colab.output.renderOutput(dataTable, element);\n",
              "          const docLink = document.createElement('div');\n",
              "          docLink.innerHTML = docLinkHtml;\n",
              "          element.appendChild(docLink);\n",
              "        }\n",
              "      </script>\n",
              "    </div>\n",
              "  </div>\n",
              "  "
            ]
          },
          "metadata": {},
          "execution_count": 70
        }
      ]
    },
    {
      "cell_type": "markdown",
      "source": [
        "<h2 id=\"read\">Reading Text Files</h2>"
      ],
      "metadata": {
        "id": "L9xGv28jTKtT"
      }
    },
    {
      "cell_type": "markdown",
      "source": [
        "One way to read or write a file in Python is to use the built-in <code>open</code> function. The <code>open</code> function provides a **File object** that contains the methods and attributes you need in order to read, save, and manipulate the file. In this notebook, we will only cover **.txt** files. The first parameter you need is the file path and the file name. An example is shown as follow:\n"
      ],
      "metadata": {
        "id": "BEy1DzWxTLyu"
      }
    },
    {
      "cell_type": "markdown",
      "source": [
        "<img src=\"https://cf-courses-data.s3.us.cloud-object-storage.appdomain.cloud/IBMDeveloperSkillsNetwork-PY0101EN-SkillsNetwork/labs/Module%204/images/ReadOpen.png\" width=\"500\" />\n"
      ],
      "metadata": {
        "id": "1XdSr0GUTPuq"
      }
    },
    {
      "cell_type": "markdown",
      "source": [
        "The mode argument is optional and the default value is r. In this notebook we only cover two modes:\n",
        "\n",
        "**r**: Read mode for reading files\n",
        "**w**: Write mode for writing files"
      ],
      "metadata": {
        "id": "C5PgugOrTRxS"
      }
    },
    {
      "cell_type": "markdown",
      "source": [
        "For the next example, we will use the text file **Example1.txt**. The file is shown as follows:"
      ],
      "metadata": {
        "id": "l_SkNkzgTVco"
      }
    },
    {
      "cell_type": "markdown",
      "source": [
        "<img src=\"https://cf-courses-data.s3.us.cloud-object-storage.appdomain.cloud/IBMDeveloperSkillsNetwork-PY0101EN-SkillsNetwork/labs/Module%204/images/ReadFile.png\" width=\"100\" />\n"
      ],
      "metadata": {
        "id": "xsPsC07UTWNW"
      }
    },
    {
      "cell_type": "markdown",
      "source": [
        "We read the file:"
      ],
      "metadata": {
        "id": "yXJcazpPTYrb"
      }
    },
    {
      "cell_type": "code",
      "source": [
        "# Read the Example1.txt\n",
        "example1 = \"Example1.txt\"\n",
        "file1 = open(example1, \"r\")"
      ],
      "metadata": {
        "id": "Zq95Qy2NUALS"
      },
      "execution_count": null,
      "outputs": []
    },
    {
      "cell_type": "markdown",
      "source": [
        "We can view the attributes of the file."
      ],
      "metadata": {
        "id": "Lb4o4F4RUdnv"
      }
    },
    {
      "cell_type": "markdown",
      "source": [
        "The name of the file:"
      ],
      "metadata": {
        "id": "0U45-Z51UebU"
      }
    },
    {
      "cell_type": "code",
      "source": [
        "# Print the path of file\n",
        "\n",
        "file1.name"
      ],
      "metadata": {
        "colab": {
          "base_uri": "https://localhost:8080/",
          "height": 35
        },
        "id": "-GU70zWuUdEK",
        "outputId": "2baa8bca-d3bf-4a95-9993-9b7d5a9a92f3"
      },
      "execution_count": null,
      "outputs": [
        {
          "output_type": "execute_result",
          "data": {
            "text/plain": [
              "'Example1.txt'"
            ],
            "application/vnd.google.colaboratory.intrinsic+json": {
              "type": "string"
            }
          },
          "metadata": {},
          "execution_count": 72
        }
      ]
    },
    {
      "cell_type": "markdown",
      "source": [
        "The mode the file object is in:\n"
      ],
      "metadata": {
        "id": "M2N-qObbVZWu"
      }
    },
    {
      "cell_type": "code",
      "source": [
        "file1.mode"
      ],
      "metadata": {
        "colab": {
          "base_uri": "https://localhost:8080/",
          "height": 35
        },
        "id": "_Q_zLetrVVeP",
        "outputId": "e79a8666-c20d-4c13-fd33-611d8b817ea7"
      },
      "execution_count": null,
      "outputs": [
        {
          "output_type": "execute_result",
          "data": {
            "text/plain": [
              "'r'"
            ],
            "application/vnd.google.colaboratory.intrinsic+json": {
              "type": "string"
            }
          },
          "metadata": {},
          "execution_count": 73
        }
      ]
    },
    {
      "cell_type": "markdown",
      "source": [
        "We can read the file and assign it to a variable :"
      ],
      "metadata": {
        "id": "zo5jLwe1VfHz"
      }
    },
    {
      "cell_type": "code",
      "source": [
        "# Read the file\n",
        "\n",
        "FileContent = file1.read()\n",
        "FileContent"
      ],
      "metadata": {
        "colab": {
          "base_uri": "https://localhost:8080/",
          "height": 35
        },
        "id": "YFV9EjRMVfy6",
        "outputId": "f4e015a9-bfa8-4636-f680-b0ac8b92ee7b"
      },
      "execution_count": null,
      "outputs": [
        {
          "output_type": "execute_result",
          "data": {
            "text/plain": [
              "'This is line 1 \\nThis is line 2\\nThis is line 3'"
            ],
            "application/vnd.google.colaboratory.intrinsic+json": {
              "type": "string"
            }
          },
          "metadata": {},
          "execution_count": 74
        }
      ]
    },
    {
      "cell_type": "markdown",
      "source": [
        "The **/n** means that there is a new line."
      ],
      "metadata": {
        "id": "kINmeMOoV_qu"
      }
    },
    {
      "cell_type": "markdown",
      "source": [
        "We can print the file:"
      ],
      "metadata": {
        "id": "QZP23GhjWBdJ"
      }
    },
    {
      "cell_type": "code",
      "source": [
        "# Print the file with '\\n' as a new line\n",
        "\n",
        "print(FileContent)"
      ],
      "metadata": {
        "id": "0Ungl41HWEUQ"
      },
      "execution_count": null,
      "outputs": []
    },
    {
      "cell_type": "markdown",
      "source": [
        "The file is of type string:"
      ],
      "metadata": {
        "id": "TcnSCJD9WGXP"
      }
    },
    {
      "cell_type": "code",
      "source": [
        "# Type of file content\n",
        "\n",
        "type(FileContent)"
      ],
      "metadata": {
        "colab": {
          "base_uri": "https://localhost:8080/"
        },
        "id": "HfM209wgWHJ-",
        "outputId": "1ca41a73-a5db-41a6-b21b-d10b4bafc58d"
      },
      "execution_count": null,
      "outputs": [
        {
          "output_type": "execute_result",
          "data": {
            "text/plain": [
              "str"
            ]
          },
          "metadata": {},
          "execution_count": 76
        }
      ]
    },
    {
      "cell_type": "markdown",
      "source": [
        "It is very important that the file is closed in the end. This frees up resources and ensures consistency across different python versions."
      ],
      "metadata": {
        "id": "nCorpstEWJwT"
      }
    },
    {
      "cell_type": "code",
      "source": [
        "# Close file after finish\n",
        "\n",
        "file1.close()"
      ],
      "metadata": {
        "id": "Bi9KS9irWNP4"
      },
      "execution_count": null,
      "outputs": []
    },
    {
      "cell_type": "markdown",
      "source": [
        "<h2 id=\"better\">A Better Way to Open a File</h2>"
      ],
      "metadata": {
        "id": "6isTPB2iWQ6w"
      }
    },
    {
      "cell_type": "markdown",
      "source": [
        "Using the <code>with</code> statement is better practice, it automatically closes the file even if the code encounters an exception. The code will run everything in the indent block then close the file object."
      ],
      "metadata": {
        "id": "V8VyStp6WTTt"
      }
    },
    {
      "cell_type": "code",
      "source": [
        "# Open file using with\n",
        "\n",
        "with open(example1, \"r\") as file1:\n",
        "    FileContent = file1.read()\n",
        "    print(FileContent)"
      ],
      "metadata": {
        "colab": {
          "base_uri": "https://localhost:8080/"
        },
        "id": "snzpe7UrWUW2",
        "outputId": "3f89e27a-6175-40ff-a4d6-eaa07baa1931"
      },
      "execution_count": null,
      "outputs": [
        {
          "output_type": "stream",
          "name": "stdout",
          "text": [
            "This is line 1 \n",
            "This is line 2\n",
            "This is line 3\n"
          ]
        }
      ]
    },
    {
      "cell_type": "markdown",
      "source": [
        "The file object is closed, you can verify it by running the following cell:"
      ],
      "metadata": {
        "id": "CXyGgkfyWWYH"
      }
    },
    {
      "cell_type": "code",
      "source": [
        "# Verify if the file is closed\n",
        "\n",
        "file1.closed"
      ],
      "metadata": {
        "colab": {
          "base_uri": "https://localhost:8080/"
        },
        "id": "oCQqzGx-WYzh",
        "outputId": "69c1ad59-4570-494d-8408-925f2e41d42d"
      },
      "execution_count": null,
      "outputs": [
        {
          "output_type": "execute_result",
          "data": {
            "text/plain": [
              "True"
            ]
          },
          "metadata": {},
          "execution_count": 79
        }
      ]
    },
    {
      "cell_type": "markdown",
      "source": [
        "We can see the info in the file:"
      ],
      "metadata": {
        "id": "yrkq2ztDWcdH"
      }
    },
    {
      "cell_type": "code",
      "source": [
        "# See the content of file\n",
        "\n",
        "print(FileContent)"
      ],
      "metadata": {
        "id": "amrdmheiWbsu"
      },
      "execution_count": null,
      "outputs": []
    },
    {
      "cell_type": "markdown",
      "source": [
        "The syntax is a little confusing as the file object is after the <code>as</code> statement. We also don’t explicitly close the file. Therefore we summarize the steps in a figure:"
      ],
      "metadata": {
        "id": "PCM6e0NnWgx8"
      }
    },
    {
      "cell_type": "markdown",
      "source": [
        "<img src=\"https://cf-courses-data.s3.us.cloud-object-storage.appdomain.cloud/IBMDeveloperSkillsNetwork-PY0101EN-SkillsNetwork/labs/Module%204/images/ReadWith.png\" width=\"500\" />"
      ],
      "metadata": {
        "id": "SzTJ9l8fWjZU"
      }
    },
    {
      "cell_type": "markdown",
      "source": [
        "We don’t have to read the entire file, for example, we can read the first 4 characters by entering three as a parameter to the method **.read()**:\n"
      ],
      "metadata": {
        "id": "c8CdbmDeWlej"
      }
    },
    {
      "cell_type": "code",
      "source": [
        "# Read first four characters\n",
        "\n",
        "with open(example1, \"r\") as file1:\n",
        "    print(file1.read(4))"
      ],
      "metadata": {
        "colab": {
          "base_uri": "https://localhost:8080/"
        },
        "id": "YDtxbqhdWmWQ",
        "outputId": "f54c200b-94ae-417f-e9bb-fd9ef33c75d0"
      },
      "execution_count": null,
      "outputs": [
        {
          "output_type": "stream",
          "name": "stdout",
          "text": [
            "This\n"
          ]
        }
      ]
    },
    {
      "cell_type": "markdown",
      "source": [
        "Once the method <code>.read(4)</code> is called the first 4 characters are called. If we call the method again, the next 4 characters are called. The output for the following cell will demonstrate the process for different inputs to the method <code>read()</code>:"
      ],
      "metadata": {
        "id": "L6tPtI4gWqWY"
      }
    },
    {
      "cell_type": "code",
      "source": [
        "# Read certain amount of characters\n",
        "\n",
        "with open(example1, \"r\") as file1:\n",
        "    print(file1.read(4))\n",
        "    print(file1.read(4))\n",
        "    print(file1.read(7))\n",
        "    print(file1.read(15))"
      ],
      "metadata": {
        "colab": {
          "base_uri": "https://localhost:8080/"
        },
        "id": "uzZTv8u7Wr0y",
        "outputId": "54e2cb2d-0aec-4a8d-a27f-49b4e996c591"
      },
      "execution_count": null,
      "outputs": [
        {
          "output_type": "stream",
          "name": "stdout",
          "text": [
            "This\n",
            " is \n",
            "line 1 \n",
            "\n",
            "This is line 2\n"
          ]
        }
      ]
    },
    {
      "cell_type": "markdown",
      "source": [
        "The process is illustrated in the below figure, and each color represents the part of the file read after the method <code>read()</code> is called:"
      ],
      "metadata": {
        "id": "ENbV66uGWt_s"
      }
    },
    {
      "cell_type": "markdown",
      "source": [
        "<img src=\"https://cf-courses-data.s3.us.cloud-object-storage.appdomain.cloud/IBMDeveloperSkillsNetwork-PY0101EN-SkillsNetwork/labs/Module%204/images/read.png\" width=\"500\" />\n"
      ],
      "metadata": {
        "id": "f8q6k9XMWw5U"
      }
    },
    {
      "cell_type": "markdown",
      "source": [
        "Here is an example using the same file, but instead we read 16, 5, and then 9 characters at a time:"
      ],
      "metadata": {
        "id": "-1PCf2wJW2kb"
      }
    },
    {
      "cell_type": "code",
      "source": [
        "# Read certain amount of characters\n",
        "\n",
        "with open(example1, \"r\") as file1:\n",
        "    print(file1.read(16))\n",
        "    print(file1.read(5))\n",
        "    print(file1.read(9))"
      ],
      "metadata": {
        "colab": {
          "base_uri": "https://localhost:8080/"
        },
        "id": "xgeGpxMbWwcr",
        "outputId": "9675bc34-634a-4191-928f-08adce7b157c"
      },
      "execution_count": null,
      "outputs": [
        {
          "output_type": "stream",
          "name": "stdout",
          "text": [
            "This is line 1 \n",
            "\n",
            "This \n",
            "is line 2\n"
          ]
        }
      ]
    },
    {
      "cell_type": "markdown",
      "source": [
        "We can also pass an argument to <code> readline() </code> to specify the number of charecters we want to read. However, unlike <code> read()</code>, <code> readline()</code> can only read one line at most.\n"
      ],
      "metadata": {
        "id": "0Roey_hTW6kn"
      }
    },
    {
      "cell_type": "code",
      "source": [
        "with open(example1, \"r\") as file1:\n",
        "    print(file1.readline(20)) # does not read past the end of line\n",
        "    print(file1.read(20)) # Returns the next 20 chars"
      ],
      "metadata": {
        "colab": {
          "base_uri": "https://localhost:8080/"
        },
        "id": "9rW94ioLW7aO",
        "outputId": "5207d064-fe10-45b7-94e1-655c1eff8bc7"
      },
      "execution_count": null,
      "outputs": [
        {
          "output_type": "stream",
          "name": "stdout",
          "text": [
            "This is line 1 \n",
            "\n",
            "This is line 2\n",
            "This \n"
          ]
        }
      ]
    },
    {
      "cell_type": "markdown",
      "source": [
        "We can use a loop to iterate through each line:"
      ],
      "metadata": {
        "id": "F0JEIvo6W-ik"
      }
    },
    {
      "cell_type": "code",
      "source": [
        "# Iterate through the lines\n",
        "\n",
        "with open(example1,\"r\") as file1:\n",
        "        i = 0;\n",
        "        for line in file1:\n",
        "            print(\"Iteration\", str(i), \": \", line)\n",
        "            i = i + 1"
      ],
      "metadata": {
        "colab": {
          "base_uri": "https://localhost:8080/"
        },
        "id": "wcW4LW9AW_-b",
        "outputId": "a7869388-9bc4-42f0-8822-467e6b0e5220"
      },
      "execution_count": null,
      "outputs": [
        {
          "output_type": "stream",
          "name": "stdout",
          "text": [
            "Iteration 0 :  This is line 1 \n",
            "\n",
            "Iteration 1 :  This is line 2\n",
            "\n",
            "Iteration 2 :  This is line 3\n"
          ]
        }
      ]
    },
    {
      "cell_type": "markdown",
      "source": [
        "We can use the method <code>readlines()</code> to save the text file to a list:"
      ],
      "metadata": {
        "id": "CV6wFX8nXCVs"
      }
    },
    {
      "cell_type": "code",
      "source": [
        "# Read all lines and save as a list\n",
        "\n",
        "with open(example1, \"r\") as file1:\n",
        "    FileasList = file1.readlines()"
      ],
      "metadata": {
        "id": "ozQLuoElXDu1"
      },
      "execution_count": null,
      "outputs": []
    },
    {
      "cell_type": "markdown",
      "source": [
        "Each element of the list corresponds to a line of text:"
      ],
      "metadata": {
        "id": "9fBstBYDXGkm"
      }
    },
    {
      "cell_type": "code",
      "source": [
        "# Print the first line\n",
        "\n",
        "FileasList[0]"
      ],
      "metadata": {
        "colab": {
          "base_uri": "https://localhost:8080/",
          "height": 35
        },
        "id": "XSJyZ_gyXH-t",
        "outputId": "14cada16-81f9-4d74-f38e-19883d297d2a"
      },
      "execution_count": null,
      "outputs": [
        {
          "output_type": "execute_result",
          "data": {
            "text/plain": [
              "'This is line 1 \\n'"
            ],
            "application/vnd.google.colaboratory.intrinsic+json": {
              "type": "string"
            }
          },
          "metadata": {},
          "execution_count": 86
        }
      ]
    },
    {
      "cell_type": "code",
      "source": [
        "# Print the second line\n",
        "\n",
        "FileasList[1]"
      ],
      "metadata": {
        "colab": {
          "base_uri": "https://localhost:8080/",
          "height": 35
        },
        "id": "ibuL-qlmXTIC",
        "outputId": "74640559-1ef6-4bad-8180-716017449a93"
      },
      "execution_count": null,
      "outputs": [
        {
          "output_type": "execute_result",
          "data": {
            "text/plain": [
              "'This is line 2\\n'"
            ],
            "application/vnd.google.colaboratory.intrinsic+json": {
              "type": "string"
            }
          },
          "metadata": {},
          "execution_count": 89
        }
      ]
    },
    {
      "cell_type": "code",
      "source": [
        "# Print the third line\n",
        "\n",
        "FileasList[2]"
      ],
      "metadata": {
        "colab": {
          "base_uri": "https://localhost:8080/",
          "height": 35
        },
        "id": "acuymGoTXNL8",
        "outputId": "b68aae01-4b3a-4a90-f872-67e9d598f61d"
      },
      "execution_count": null,
      "outputs": [
        {
          "output_type": "execute_result",
          "data": {
            "text/plain": [
              "'This is line 3'"
            ],
            "application/vnd.google.colaboratory.intrinsic+json": {
              "type": "string"
            }
          },
          "metadata": {},
          "execution_count": 87
        }
      ]
    },
    {
      "cell_type": "markdown",
      "source": [
        "## Writing Files with Open"
      ],
      "metadata": {
        "id": "ebouTwqnxD4L"
      }
    },
    {
      "cell_type": "markdown",
      "source": [
        "* Create a file: open(\"filepath/filename\",\"w\") if you AD data with this YOU WILL DELETE TEH ORIGINAL FILE\n",
        "* write a line in file file_object.write(\"New line content\")\n",
        "* open(\"filepath/filename\",\"a\") WILL NOT create a NEW file, just add lines\n",
        "* Copy a file int another:\n",
        "\n",
        "    with open(\"Example1.txt\",\"r\") as readfile:\n",
        "        with open (Example3.txt\",\"w\") as writefile:\n",
        "          for line in readfile:\n",
        "            writefile.write(line)\n",
        "\n",
        "---\n",
        "Additional modes:\n",
        "+ r+ : Reading and writing. Cannot truncate the file.\n",
        "+ w+ : Writing and reading. Truncates the file.\n",
        "+ a+ : Appending and Reading. Creates a new file, if none exists.\n",
        "\n",
        "---\n",
        "* read() and write() work at a certain location of the file\n",
        "* openning with w is like: open, put cursor at the beginning , delete all\n",
        "* Methods to tell where is the cursor:\n",
        "  * tell() return current position in bytes\n",
        "  * seek(offset,from)  CHANGES the current position offset bytes from reference (current position, 0,1,2,3,-1...)\n",
        "* To work with a file on existing data, use r+ and a+.\n",
        "  * r+ has .truncate() to DELETE everything AFTER the cursor position"
      ],
      "metadata": {
        "id": "GiYwm5XixFCG"
      }
    },
    {
      "cell_type": "markdown",
      "source": [
        "### Lab: Write and Save Files in Python"
      ],
      "metadata": {
        "id": "v5n2wFnmXlTi"
      }
    },
    {
      "cell_type": "markdown",
      "source": [
        "<h2 id=\"write\">Writing Files</h2>"
      ],
      "metadata": {
        "id": "wVf3Me7nXv2m"
      }
    },
    {
      "cell_type": "markdown",
      "source": [
        "We can open a file object using the method <code>write()</code> to save the text file to a list. To write to a file, the mode argument must be set to **w**. Let’s write a file **Example2.txt** with the line: **“This is line A”**"
      ],
      "metadata": {
        "id": "gv5lvp68XvCs"
      }
    },
    {
      "cell_type": "code",
      "source": [
        "# Write line to file\n",
        "exmp2 = 'Example2.txt'\n",
        "with open(exmp2, 'w') as writefile:\n",
        "    writefile.write(\"This is line A\")"
      ],
      "metadata": {
        "id": "QcprJNdGXqyb"
      },
      "execution_count": null,
      "outputs": []
    },
    {
      "cell_type": "markdown",
      "source": [
        "We can read the file to see if it worked:"
      ],
      "metadata": {
        "id": "ghu6wAMEX2oV"
      }
    },
    {
      "cell_type": "code",
      "source": [
        "# Read file\n",
        "\n",
        "with open(exmp2, 'r') as testwritefile:\n",
        "    print(testwritefile.read())"
      ],
      "metadata": {
        "colab": {
          "base_uri": "https://localhost:8080/"
        },
        "id": "Hd2jQ0HKX3Va",
        "outputId": "f9069b8a-bbcb-4d8c-99c8-bdeac7551951"
      },
      "execution_count": null,
      "outputs": [
        {
          "output_type": "stream",
          "name": "stdout",
          "text": [
            "This is line A\n"
          ]
        }
      ]
    },
    {
      "cell_type": "markdown",
      "source": [
        "We can write multiple lines:"
      ],
      "metadata": {
        "id": "FChMBCa1X6vH"
      }
    },
    {
      "cell_type": "code",
      "source": [
        "# Write lines to file\n",
        "\n",
        "with open(exmp2, 'w') as writefile:\n",
        "    writefile.write(\"This is line A\\n\")\n",
        "    writefile.write(\"This is line B\\n\")"
      ],
      "metadata": {
        "id": "06yPllchYAvH"
      },
      "execution_count": null,
      "outputs": []
    },
    {
      "cell_type": "markdown",
      "source": [
        "The method <code>.write()</code> works similar to the method <code>.readline()</code>, except instead of reading a new line it writes a new line. The process is illustrated in the figure. The different colour coding of the grid represents a new line added to the file after each method call."
      ],
      "metadata": {
        "id": "IH-j2PrOX6sC"
      }
    },
    {
      "cell_type": "markdown",
      "source": [
        "<img src=\"https://cf-courses-data.s3.us.cloud-object-storage.appdomain.cloud/IBMDeveloperSkillsNetwork-PY0101EN-SkillsNetwork/labs/Module%204/images/WriteLine.png\" width=\"500\" />\n"
      ],
      "metadata": {
        "id": "46yg6_yMX6qY"
      }
    },
    {
      "cell_type": "markdown",
      "source": [
        "You can check the file to see if your results are correct"
      ],
      "metadata": {
        "id": "bYnNjn2LX6mK"
      }
    },
    {
      "cell_type": "code",
      "source": [
        "# Check whether write to file\n",
        "\n",
        "with open(exmp2, 'r') as testwritefile:\n",
        "    print(testwritefile.read())"
      ],
      "metadata": {
        "colab": {
          "base_uri": "https://localhost:8080/"
        },
        "id": "Uj95thkxYMrs",
        "outputId": "dc0291a2-8c44-431c-c4e3-b88bc5a363ec"
      },
      "execution_count": null,
      "outputs": [
        {
          "output_type": "stream",
          "name": "stdout",
          "text": [
            "This is line A\n",
            "This is line B\n",
            "\n"
          ]
        }
      ]
    },
    {
      "cell_type": "markdown",
      "source": [
        "We write a list to a **.txt** file  as follows:"
      ],
      "metadata": {
        "id": "vHbeF4MpX6h_"
      }
    },
    {
      "cell_type": "code",
      "source": [
        "# Sample list of text\n",
        "\n",
        "Lines = [\"This is line A\\n\", \"This is line B\\n\", \"This is line C\\n\"]\n",
        "Lines"
      ],
      "metadata": {
        "colab": {
          "base_uri": "https://localhost:8080/"
        },
        "id": "y722uGl8YRzV",
        "outputId": "de1d6b9c-beaf-497e-9b00-7459154f2bda"
      },
      "execution_count": null,
      "outputs": [
        {
          "output_type": "execute_result",
          "data": {
            "text/plain": [
              "['This is line A\\n', 'This is line B\\n', 'This is line C\\n']"
            ]
          },
          "metadata": {},
          "execution_count": 94
        }
      ]
    },
    {
      "cell_type": "code",
      "source": [
        "# Write the strings in the list to text file\n",
        "\n",
        "with open('Example2.txt', 'w') as writefile:\n",
        "    for line in Lines:\n",
        "        print(line)\n",
        "        writefile.write(line)"
      ],
      "metadata": {
        "colab": {
          "base_uri": "https://localhost:8080/"
        },
        "id": "X5U_OImaYUAt",
        "outputId": "8cd41a7c-2cb2-4952-bc68-d0b7682b3d11"
      },
      "execution_count": null,
      "outputs": [
        {
          "output_type": "stream",
          "name": "stdout",
          "text": [
            "This is line A\n",
            "\n",
            "This is line B\n",
            "\n",
            "This is line C\n",
            "\n"
          ]
        }
      ]
    },
    {
      "cell_type": "markdown",
      "source": [
        "We can verify the file is written by reading it and printing out the values:"
      ],
      "metadata": {
        "id": "bghN0FQ5X6c7"
      }
    },
    {
      "cell_type": "code",
      "source": [
        "# Verify if writing to file is successfully executed\n",
        "\n",
        "with open('Example2.txt', 'r') as testwritefile:\n",
        "    print(testwritefile.read())"
      ],
      "metadata": {
        "colab": {
          "base_uri": "https://localhost:8080/"
        },
        "id": "fN2A1dj_Ybnv",
        "outputId": "1774043b-e73d-4f1f-9fa6-d70a76ea3be3"
      },
      "execution_count": null,
      "outputs": [
        {
          "output_type": "stream",
          "name": "stdout",
          "text": [
            "This is line A\n",
            "This is line B\n",
            "This is line C\n",
            "\n"
          ]
        }
      ]
    },
    {
      "cell_type": "markdown",
      "source": [
        "However, note that setting the mode to **w** overwrites all the existing data in the file."
      ],
      "metadata": {
        "id": "2lCb1K4jX6Vy"
      }
    },
    {
      "cell_type": "code",
      "source": [
        "with open('Example2.txt', 'w') as writefile:\n",
        "    writefile.write(\"Overwrite\\n\")\n",
        "with open('Example2.txt', 'r') as testwritefile:\n",
        "    print(testwritefile.read())"
      ],
      "metadata": {
        "colab": {
          "base_uri": "https://localhost:8080/"
        },
        "id": "2UWXRq0AYfLJ",
        "outputId": "2153ad4f-024e-4635-b80a-244ba348065e"
      },
      "execution_count": null,
      "outputs": [
        {
          "output_type": "stream",
          "name": "stdout",
          "text": [
            "Overwrite\n",
            "\n"
          ]
        }
      ]
    },
    {
      "cell_type": "markdown",
      "source": [
        "<hr>\n",
        "<h2 id=\"add\">Additional modes</h2> "
      ],
      "metadata": {
        "id": "zgeJuTsDX6R3"
      }
    },
    {
      "cell_type": "markdown",
      "source": [
        "It's fairly ineffecient to open the file in **a** or **w** and then reopening it in **r** to read any lines. Luckily we can access the file in the following modes:\n",
        "\n",
        "*   **r+** : Reading and writing. Cannot truncate the file.\n",
        "*   **w+** : Writing and reading. Truncates the file.\n",
        "*   **a+** : Appending and Reading. Creates a new file, if none exists.\n",
        "\n",
        "You dont have to dwell on the specifics of each mode for this lab."
      ],
      "metadata": {
        "id": "JkOUezQTX6J-"
      }
    },
    {
      "cell_type": "markdown",
      "source": [
        "Let's try out the **a+** mode:"
      ],
      "metadata": {
        "id": "qZjETPMFX5t_"
      }
    },
    {
      "cell_type": "code",
      "source": [
        "with open('Example2.txt', 'a+') as testwritefile:\n",
        "    testwritefile.write(\"This is line E\\n\")\n",
        "    print(testwritefile.read())"
      ],
      "metadata": {
        "colab": {
          "base_uri": "https://localhost:8080/"
        },
        "id": "YN9rAhg4YucJ",
        "outputId": "aa4fde0b-cbca-4558-b046-623f34937acb"
      },
      "execution_count": null,
      "outputs": [
        {
          "output_type": "stream",
          "name": "stdout",
          "text": [
            "\n"
          ]
        }
      ]
    },
    {
      "cell_type": "markdown",
      "source": [
        "There were no errors but <code>read()</code> also did not output anything. This is because of our location in the file."
      ],
      "metadata": {
        "id": "OcyGj5fwY4Xy"
      }
    },
    {
      "cell_type": "markdown",
      "source": [
        "Most of the file methods we've looked at work in a certain location in the file. <code>.write() </code> writes at a certain location in the file. <code>.read()</code> reads at a certain location in the file and so on. You can think of this as moving your pointer around in the notepad to make changes at specific location."
      ],
      "metadata": {
        "id": "oZmucd_UY4N5"
      }
    },
    {
      "cell_type": "markdown",
      "source": [
        "Opening the file in **w** is akin to opening the .txt file, moving your cursor to the beginning of the text file, writing new text and deleting everything that follows.\n",
        "Whereas opening the file in **a** is similiar to opening the .txt file, moving your cursor to the very end and then adding the new pieces of text. <br>\n",
        "It is often very useful to know where the 'cursor' is in a file and be able to control it. The following methods allow us to do precisely this -\n",
        "\n",
        "*   <code>.tell()</code> - returns the current position in bytes\n",
        "*   <code>.seek(offset,from)</code> - changes the position by 'offset' bytes with respect to 'from'. From can take the value of 0,1,2 corresponding to beginning, relative to current position and end"
      ],
      "metadata": {
        "id": "9fPouqvHY4Ca"
      }
    },
    {
      "cell_type": "markdown",
      "source": [
        "Now lets revisit **a+**"
      ],
      "metadata": {
        "id": "Qd0UW4RmY3_7"
      }
    },
    {
      "cell_type": "code",
      "source": [
        "with open('Example2.txt', 'a+') as testwritefile:\n",
        "    print(\"Initial Location: {}\".format(testwritefile.tell()))\n",
        "    \n",
        "    data = testwritefile.read()\n",
        "    if (not data):  #empty strings return false in python\n",
        "            print('Read nothing') \n",
        "    else: \n",
        "            print(testwritefile.read())\n",
        "            \n",
        "    testwritefile.seek(0,0) # move 0 bytes from beginning.\n",
        "    \n",
        "    print(\"\\nNew Location : {}\".format(testwritefile.tell()))\n",
        "    data = testwritefile.read()\n",
        "    if (not data): \n",
        "            print('Read nothing') \n",
        "    else: \n",
        "            print(data)\n",
        "    \n",
        "    print(\"Location after read: {}\".format(testwritefile.tell()) )"
      ],
      "metadata": {
        "colab": {
          "base_uri": "https://localhost:8080/"
        },
        "id": "LOtvTfMYZBVu",
        "outputId": "946cd149-5818-47fb-cc5d-e066df3ef865"
      },
      "execution_count": null,
      "outputs": [
        {
          "output_type": "stream",
          "name": "stdout",
          "text": [
            "Initial Location: 25\n",
            "Read nothing\n",
            "\n",
            "New Location : 0\n",
            "Overwrite\n",
            "This is line E\n",
            "\n",
            "Location after read: 25\n"
          ]
        }
      ]
    },
    {
      "cell_type": "markdown",
      "source": [
        "Finally, a note on the difference between **w+** and **r+**. Both of these modes allow access to read and write methods, however, opening a file in **w+** overwrites it and deletes all pre-existing data. <br>\n",
        "To work with a file on existing data, use **r+** and **a+**. While using **r+**, it can be useful to add a <code>.truncate()</code> method at the end of your data. This will reduce the file to your data and delete everything that follows. <br>\n",
        "In the following code block, Run the code as it is first and then run it with the <code>.truncate()</code>."
      ],
      "metadata": {
        "id": "ZvLh4-oWZEnB"
      }
    },
    {
      "cell_type": "code",
      "source": [
        "with open('Example2.txt', 'r+') as testwritefile:\n",
        "    data = testwritefile.readlines()\n",
        "    testwritefile.seek(0,0) #write at beginning of file\n",
        "   \n",
        "    testwritefile.write(\"Line 1\" + \"\\n\")\n",
        "    testwritefile.write(\"Line 2\" + \"\\n\")\n",
        "    testwritefile.write(\"Line 3\" + \"\\n\")\n",
        "    testwritefile.write(\"finished\\n\")\n",
        "    #Uncomment the line below\n",
        "    #testwritefile.truncate()\n",
        "    testwritefile.seek(0,0)\n",
        "    print(testwritefile.read())"
      ],
      "metadata": {
        "colab": {
          "base_uri": "https://localhost:8080/"
        },
        "id": "Q2crUZAuZkiN",
        "outputId": "2f2bac2d-d656-46e7-e3c5-1a3d9a7fc298"
      },
      "execution_count": null,
      "outputs": [
        {
          "output_type": "stream",
          "name": "stdout",
          "text": [
            "Line 1\n",
            "Line 2\n",
            "Line 3\n",
            "finished\n",
            "\n"
          ]
        }
      ]
    },
    {
      "cell_type": "markdown",
      "source": [
        "<h2 id=\"copy\">Copy a File</h2> "
      ],
      "metadata": {
        "id": "CJMG-DOjZph8"
      }
    },
    {
      "cell_type": "markdown",
      "source": [
        "Let's copy the file **Example2.txt** to the file **Example3.txt**:"
      ],
      "metadata": {
        "id": "4GRAAsDEZo-7"
      }
    },
    {
      "cell_type": "code",
      "source": [
        "# Copy file to another\n",
        "\n",
        "with open('Example2.txt','r') as readfile:\n",
        "    with open('Example3.txt','w') as writefile:\n",
        "          for line in readfile:\n",
        "                writefile.write(line)"
      ],
      "metadata": {
        "id": "6ys_OzszZuvS"
      },
      "execution_count": null,
      "outputs": []
    },
    {
      "cell_type": "markdown",
      "source": [
        "We can read the file to see if everything works:"
      ],
      "metadata": {
        "id": "pWoFVUqlZz7z"
      }
    },
    {
      "cell_type": "code",
      "source": [
        "# Verify if the copy is successfully executed\n",
        "\n",
        "with open('Example3.txt','r') as testwritefile:\n",
        "    print(testwritefile.read())"
      ],
      "metadata": {
        "colab": {
          "base_uri": "https://localhost:8080/"
        },
        "id": "1dzb4mrkZ025",
        "outputId": "65645376-2df2-4ab1-d85c-2c197df6ef60"
      },
      "execution_count": null,
      "outputs": [
        {
          "output_type": "stream",
          "name": "stdout",
          "text": [
            "Line 1\n",
            "Line 2\n",
            "Line 3\n",
            "finished\n",
            "\n"
          ]
        }
      ]
    },
    {
      "cell_type": "markdown",
      "source": [
        "After reading files, we can also write data into files and save them in different file formats like **.txt, .csv, .xls (for excel files) etc**. You will come across these in further examples"
      ],
      "metadata": {
        "id": "RgdguoJrZ4Rs"
      }
    },
    {
      "cell_type": "markdown",
      "source": [
        "**NOTE:** If you wish to open and view the `example3.txt` file, download this lab [here](https://cf-courses-data.s3.us.cloud-object-storage.appdomain.cloud/IBMDeveloperSkillsNetwork-PY0101EN-SkillsNetwork/labs/Module%204/PY0101EN-4-2-WriteFile.ipynb) and run it locally on your machine. Then go to the working directory to ensure the `example3.txt` file exists and contains the summary data that we wrote."
      ],
      "metadata": {
        "id": "40N8u0smZ6bK"
      }
    },
    {
      "cell_type": "markdown",
      "source": [
        "Excercise:\n",
        "\n",
        "Your local university's Raptors fan club maintains a register of its active members on a .txt document. Every month they update the file by removing the members who are not active. You have been tasked with automating this with your Python skills.\n",
        "Given the file currentMem, Remove each member with a 'no' in their Active column. Keep track of each of the removed members and append them to the exMem file. Make sure that the format of the original files in preserved. (Hint: Do this by reading/writing whole lines and ensuring the header remains )\n",
        "Run the code block below prior to starting the exercise. The skeleton code has been provided for you. Edit only the cleanFiles function.\n"
      ],
      "metadata": {
        "id": "-dy-ipjL2R7F"
      }
    },
    {
      "cell_type": "code",
      "source": [
        "# Excercise:\n",
        "\"\"\"\n",
        "Your local university's Raptors fan club maintains a register of its active members on a .txt document. Every month they update the file by removing the members who are not active. You have been tasked with automating this with your Python skills.\n",
        "Given the file currentMem, Remove each member with a 'no' in their Active column. Keep track of each of the removed members and append them to the exMem file. Make sure that the format of the original files in preserved. (Hint: Do this by reading/writing whole lines and ensuring the header remains )\n",
        "Run the code block below prior to starting the exercise. The skeleton code has been provided for you. Edit only the cleanFiles function.\n",
        "\"\"\""
      ],
      "metadata": {
        "id": "c5GsrD9bs4Yn"
      },
      "execution_count": null,
      "outputs": []
    },
    {
      "cell_type": "code",
      "source": [
        "#Run this prior to starting the exercise\n",
        "from random import randint as rnd\n",
        "\n",
        "memReg = 'members.txt'\n",
        "exReg = 'inactive.txt'\n",
        "fee =('yes','no')\n",
        "\n",
        "def genFiles(current,old):\n",
        "    with open(current,'w+') as writefile: \n",
        "        writefile.write('Membership No  Date Joined  Active  \\n')\n",
        "        data = \"{:^13}  {:<11}  {:<6}\\n\"\n",
        "\n",
        "        for rowno in range(20):\n",
        "            date = str(rnd(2015,2020))+ '-' + str(rnd(1,12))+'-'+str(rnd(1,25))\n",
        "            writefile.write(data.format(rnd(10000,99999),date,fee[rnd(0,1)]))\n",
        "\n",
        "\n",
        "    with open(old,'w+') as writefile: \n",
        "        writefile.write('Membership No  Date Joined  Active  \\n')\n",
        "        data = \"{:^13}  {:<11}  {:<6}\\n\"\n",
        "        for rowno in range(3):\n",
        "            date = str(rnd(2015,2020))+ '-' + str(rnd(1,12))+'-'+str(rnd(1,25))\n",
        "            writefile.write(data.format(rnd(10000,99999),date,fee[1]))\n",
        "\n",
        "\n",
        "genFiles(memReg,exReg)"
      ],
      "metadata": {
        "id": "N1GyjpOftNBw"
      },
      "execution_count": null,
      "outputs": []
    },
    {
      "cell_type": "markdown",
      "source": [
        "Now that you've run the prerequisite code cell above, which prepared the files for this exercise, you are ready to move on to the implementation.\n",
        "\n",
        "Exercise: Implement the cleanFiles function in the code cell below."
      ],
      "metadata": {
        "id": "EfVv6nH62stE"
      }
    },
    {
      "cell_type": "code",
      "source": [
        "'''\n",
        "The two arguments for this function are the files:\n",
        "    - currentMem: File containing list of current members\n",
        "    - exMem: File containing list of old members\n",
        "    \n",
        "    This function should remove all rows from currentMem containing 'no' \n",
        "    in the 'Active' column and appends them to exMem.\n",
        "    '''\n",
        "def cleanFiles(currentMem, exMem):\n",
        "    \"\"\"\n",
        "    # TODO: Open the currentMem file as in r+ mode\n",
        "    with open(currentMem,'r+') as readfile:\n",
        "        #TODO: Open the exMem file in a+ mode\n",
        "          with open(exMem, 'a+') as writefile:\n",
        "\n",
        "        #TODO: Read each member in the currentMem (1 member per row) file into a list.\n",
        "            count = 0\n",
        "            for line in readfile.readlines():\n",
        "              l = line.split()\n",
        "              if \"no\" in l[2]:\n",
        "                writefile.write(line)\n",
        "              else:\n",
        "                count += 1\n",
        "                readfile.write(line)\n",
        "\n",
        "            \n",
        "          readfile.seek(0,0)\n",
        "          readfile.writelines(readfile.readlines()[len(readfile.readlines())-count:])\n",
        "          readfile.truncate() \n",
        "            \n",
        "        # Hint: Recall that the first line in the file is the header.\n",
        "\n",
        "        #TODO: iterate through the members and create a new list of the innactive members\n",
        "\n",
        "        # Go to the beginning of the currentMem file\n",
        "        # TODO: Iterate through the members list. \n",
        "        # If a member is inactive, add them to exMem, otherwise write them into currentMem\n",
        "        \"\"\"\n",
        "    with open(currentMem,'r+') as writeFile: \n",
        "      with open(exMem,'a+') as appendFile:\n",
        "          #get the data\n",
        "          writeFile.seek(0)\n",
        "          members = writeFile.readlines()\n",
        "          #remove header\n",
        "          header = members[0]\n",
        "          members.pop(0)\n",
        "              \n",
        "          inactive = [member for member in members if ('no' in member)]\n",
        "          '''\n",
        "          The above is the same as \n",
        "\n",
        "          for member in members:\n",
        "          if 'no' in member:\n",
        "              inactive.append(member)\n",
        "          '''\n",
        "          #go to the beginning of the write file\n",
        "          writeFile.seek(0) \n",
        "          writeFile.write(header)\n",
        "          for member in members:\n",
        "              if (member in inactive):\n",
        "                  appendFile.write(member)\n",
        "              else:\n",
        "                  writeFile.write(member)      \n",
        "          writeFile.truncate()\n",
        "        \n",
        "    \n",
        "    #pass # Remove this line when done implementation\n",
        "\n",
        "\n",
        "# The code below is to help you view the files.\n",
        "# Do not modify this code for this exercise.\n",
        "memReg = 'members.txt'\n",
        "exReg = 'inactive.txt'\n",
        "cleanFiles(memReg,exReg)\n",
        "\n",
        "\n",
        "headers = \"Membership No  Date Joined  Active  \\n\"\n",
        "with open(memReg,'r') as readFile:\n",
        "    print(\"Active Members: \\n\\n\")\n",
        "    print(readFile.read())\n",
        "    \n",
        "with open(exReg,'r') as readFile:\n",
        "    print(\"Inactive Members: \\n\\n\")\n",
        "    print(readFile.read())\n",
        "                "
      ],
      "metadata": {
        "colab": {
          "base_uri": "https://localhost:8080/"
        },
        "id": "E2MWecUm2lAB",
        "outputId": "7080d8df-327c-43d7-ccb2-a11433d2b84f"
      },
      "execution_count": null,
      "outputs": [
        {
          "output_type": "stream",
          "name": "stdout",
          "text": [
            "Active Members: \n",
            "\n",
            "\n",
            "Membership No  Date Joined  Active  \n",
            "    80465      2018-4-17    yes   \n",
            "    52839      2017-3-10    yes   \n",
            "    74417      2017-8-20    yes   \n",
            "    86662      2017-6-20    yes   \n",
            "    82823      2015-9-22    yes   \n",
            "    80576      2018-10-15   yes   \n",
            "    61862      2015-9-7     yes   \n",
            "    40344      2015-5-6     yes   \n",
            "\n",
            "Inactive Members: \n",
            "\n",
            "\n",
            "Membership No  Date Joined  Active  \n",
            "    97691      2018-4-5     no    \n",
            "    66321      2020-2-12    no    \n",
            "    27554      2019-10-7    no    \n",
            "    68093      2016-2-15    no    \n",
            "    81394      2015-8-25    no    \n",
            "    23095      2019-9-9     no    \n",
            "    23567      2015-1-19    no    \n",
            "    11848      2020-8-7     no    \n",
            "    98701      2020-8-3     no    \n",
            "    78288      2020-2-19    no    \n",
            "    57290      2018-4-16    no    \n",
            "    12142      2019-8-7     no    \n",
            "    43628      2015-3-11    no    \n",
            "    24323      2019-10-18   no    \n",
            "    91663      2015-10-18   no    \n",
            "\n"
          ]
        }
      ]
    },
    {
      "cell_type": "markdown",
      "source": [
        "The code cell below is to verify your solution. Please do not modify the code and run it to test your implementation of cleanFiles."
      ],
      "metadata": {
        "id": "OBHMvO2I4nbe"
      }
    },
    {
      "cell_type": "code",
      "source": [
        "def testMsg(passed):\n",
        "    if passed:\n",
        "       return 'Test Passed'\n",
        "    else :\n",
        "       return 'Test Failed'\n",
        "\n",
        "testWrite = \"testWrite.txt\"\n",
        "testAppend = \"testAppend.txt\" \n",
        "passed = True\n",
        "\n",
        "genFiles(testWrite,testAppend)\n",
        "\n",
        "with open(testWrite,'r') as file:\n",
        "    ogWrite = file.readlines()\n",
        "\n",
        "with open(testAppend,'r') as file:\n",
        "    ogAppend = file.readlines()\n",
        "\n",
        "try:\n",
        "    cleanFiles(testWrite,testAppend)\n",
        "except:\n",
        "    print('Error')\n",
        "\n",
        "with open(testWrite,'r') as file:\n",
        "    clWrite = file.readlines()\n",
        "\n",
        "with open(testAppend,'r') as file:\n",
        "    clAppend = file.readlines()\n",
        "        \n",
        "# checking if total no of rows is same, including headers\n",
        "\n",
        "if (len(ogWrite) + len(ogAppend) != len(clWrite) + len(clAppend)):\n",
        "    print(\"The number of rows do not add up. Make sure your final files have the same header and format.\")\n",
        "    passed = False\n",
        "    \n",
        "for line in clWrite:\n",
        "    if  'no' in line:\n",
        "        passed = False\n",
        "        print(\"Inactive members in file\")\n",
        "        break\n",
        "    else:\n",
        "        if line not in ogWrite:\n",
        "            print(\"Data in file does not match original file\")\n",
        "            passed = False\n",
        "print (\"{}\".format(testMsg(passed)))\n",
        "    \n"
      ],
      "metadata": {
        "colab": {
          "base_uri": "https://localhost:8080/"
        },
        "id": "gLBiHudT4leo",
        "outputId": "5fcba5df-cb51-41b7-8bba-d6e83b8e41b7"
      },
      "execution_count": null,
      "outputs": [
        {
          "output_type": "stream",
          "name": "stdout",
          "text": [
            "Test Passed\n"
          ]
        }
      ]
    },
    {
      "cell_type": "markdown",
      "source": [
        "## Loading Data with Pandas"
      ],
      "metadata": {
        "id": "Upr0oJ-JKtAR"
      }
    },
    {
      "cell_type": "markdown",
      "source": [
        "* import pandas\n",
        "* pandas.read_csv(csv_path)\n",
        "* alias import pandas as pd --> pd.read_csv(csv_path)\n",
        "*pd.read_csv(excel_path)\n",
        "* pd.read_*** GENERATED a DataFrame= table with rows and columns\n",
        "* Create a DataFrame form a Dictionary str:[]: pd.DataFrame({'col1':[1,2,3,4,...],'col2':[#,#,#,#,...]})\n",
        "  * str = headers, [] = rows values\n",
        "* select a DataFRame column: df[['col1']]\n",
        "* select multiple columns from DataFrame: df[['col1','col2',...]]\n",
        "* ix --> SUBSET a DataFrame with NUMBERS & NAMES\n",
        "  *df.ix[0,0], df.ix[0,'Artist']\n",
        "  *SLICE: df.ix[:2,'Artist':'Released']"
      ],
      "metadata": {
        "id": "wRSoQqNWKvlD"
      }
    },
    {
      "cell_type": "markdown",
      "source": [
        "### Lab: Introduction to Pandas in Python"
      ],
      "metadata": {
        "id": "l31zzn5Hc-Y1"
      }
    },
    {
      "cell_type": "markdown",
      "source": [
        "<h2 id=\"dataset\">About the Dataset</h2>"
      ],
      "metadata": {
        "id": "E65m7xfzdKpl"
      }
    },
    {
      "cell_type": "markdown",
      "source": [
        "The table has one row for each album and several columns.\n",
        "\n",
        "<ul>\n",
        "    <li><b>artist</b>: Name of the artist</li>\n",
        "    <li><b>album</b>: Name of the album</li>\n",
        "    <li><b>released_year</b>: Year the album was released</li>\n",
        "    <li><b>length_min_sec</b>: Length of the album (hours,minutes,seconds)</li>\n",
        "    <li><b>genre</b>: Genre of the album</li>\n",
        "    <li><b>music_recording_sales_millions</b>: Music recording sales (millions in USD) on <a href=\"http://www.song-database.com/?utm_medium=Exinfluencer&utm_source=Exinfluencer&utm_content=000026UJ&utm_term=10006555&utm_id=NA-SkillsNetwork-Channel-SkillsNetworkCoursesIBMDeveloperSkillsNetworkPY0101ENSkillsNetwork19487395-2022-01-01?utm_medium=Exinfluencer&utm_source=Exinfluencer&utm_content=000026UJ&utm_term=10006555&utm_id=NA-SkillsNetwork-Channel-SkillsNetworkCoursesIBMDeveloperSkillsNetworkPY0101ENSkillsNetwork19487395-2021-01-01\">[SONG://DATABASE]</a></li>\n",
        "    <li><b>claimed_sales_millions</b>: Album's claimed sales (millions in USD) on <a href=\"http://www.song-database.com/\">[SONG://DATABASE]</a></li>\n",
        "    <li><b>date_released</b>: Date on which the album was released</li>\n",
        "    <li><b>soundtrack</b>: Indicates if the album is the movie soundtrack (Y) or (N)</li>\n",
        "    <li><b>rating_of_friends</b>: Indicates the rating from your friends from 1 to 10</li>\n",
        "</ul>\n",
        "\n",
        "You can see the dataset here:\n",
        "\n",
        "<font size=\"1\">\n",
        "<table font-size:xx-small>\n",
        "  <tr>\n",
        "    <th>Artist</th>\n",
        "    <th>Album</th> \n",
        "    <th>Released</th>\n",
        "    <th>Length</th>\n",
        "    <th>Genre</th> \n",
        "    <th>Music recording sales (millions)</th>\n",
        "    <th>Claimed sales (millions)</th>\n",
        "    <th>Released</th>\n",
        "    <th>Soundtrack</th>\n",
        "    <th>Rating (friends)</th>\n",
        "  </tr>\n",
        "  <tr>\n",
        "    <td>Michael Jackson</td>\n",
        "    <td>Thriller</td> \n",
        "    <td>1982</td>\n",
        "    <td>00:42:19</td>\n",
        "    <td>Pop, rock, R&B</td>\n",
        "    <td>46</td>\n",
        "    <td>65</td>\n",
        "    <td>30-Nov-82</td>\n",
        "    <td></td>\n",
        "    <td>10.0</td>\n",
        "  </tr>\n",
        "  <tr>\n",
        "    <td>AC/DC</td>\n",
        "    <td>Back in Black</td> \n",
        "    <td>1980</td>\n",
        "    <td>00:42:11</td>\n",
        "    <td>Hard rock</td>\n",
        "    <td>26.1</td>\n",
        "    <td>50</td>\n",
        "    <td>25-Jul-80</td>\n",
        "    <td></td>\n",
        "    <td>8.5</td>\n",
        "  </tr>\n",
        "    <tr>\n",
        "    <td>Pink Floyd</td>\n",
        "    <td>The Dark Side of the Moon</td> \n",
        "    <td>1973</td>\n",
        "    <td>00:42:49</td>\n",
        "    <td>Progressive rock</td>\n",
        "    <td>24.2</td>\n",
        "    <td>45</td>\n",
        "    <td>01-Mar-73</td>\n",
        "    <td></td>\n",
        "    <td>9.5</td>\n",
        "  </tr>\n",
        "    <tr>\n",
        "    <td>Whitney Houston</td>\n",
        "    <td>The Bodyguard</td> \n",
        "    <td>1992</td>\n",
        "    <td>00:57:44</td>\n",
        "    <td>Soundtrack/R&B, soul, pop</td>\n",
        "    <td>26.1</td>\n",
        "    <td>50</td>\n",
        "    <td>25-Jul-80</td>\n",
        "    <td>Y</td>\n",
        "    <td>7.0</td>\n",
        "  </tr>\n",
        "    <tr>\n",
        "    <td>Meat Loaf</td>\n",
        "    <td>Bat Out of Hell</td> \n",
        "    <td>1977</td>\n",
        "    <td>00:46:33</td>\n",
        "    <td>Hard rock, progressive rock</td>\n",
        "    <td>20.6</td>\n",
        "    <td>43</td>\n",
        "    <td>21-Oct-77</td>\n",
        "    <td></td>\n",
        "    <td>7.0</td>\n",
        "  </tr>\n",
        "    <tr>\n",
        "    <td>Eagles</td>\n",
        "    <td>Their Greatest Hits (1971-1975)</td> \n",
        "    <td>1976</td>\n",
        "    <td>00:43:08</td>\n",
        "    <td>Rock, soft rock, folk rock</td>\n",
        "    <td>32.2</td>\n",
        "    <td>42</td>\n",
        "    <td>17-Feb-76</td>\n",
        "    <td></td>\n",
        "    <td>9.5</td>\n",
        "  </tr>\n",
        "    <tr>\n",
        "    <td>Bee Gees</td>\n",
        "    <td>Saturday Night Fever</td> \n",
        "    <td>1977</td>\n",
        "    <td>1:15:54</td>\n",
        "    <td>Disco</td>\n",
        "    <td>20.6</td>\n",
        "    <td>40</td>\n",
        "    <td>15-Nov-77</td>\n",
        "    <td>Y</td>\n",
        "    <td>9.0</td>\n",
        "  </tr>\n",
        "    <tr>\n",
        "    <td>Fleetwood Mac</td>\n",
        "    <td>Rumours</td> \n",
        "    <td>1977</td>\n",
        "    <td>00:40:01</td>\n",
        "    <td>Soft rock</td>\n",
        "    <td>27.9</td>\n",
        "    <td>40</td>\n",
        "    <td>04-Feb-77</td>\n",
        "    <td></td>\n",
        "    <td>9.5</td>\n",
        "  </tr>\n",
        "</table></font>\n"
      ],
      "metadata": {
        "id": "oOw4IFqXdOWN"
      }
    },
    {
      "cell_type": "markdown",
      "source": [
        "<h2 id=\"pandas\">Introduction of <code>Pandas</code></h2>\n"
      ],
      "metadata": {
        "id": "sYBbaX_MdSQF"
      }
    },
    {
      "cell_type": "code",
      "source": [
        "# Código que no funciona\n",
        "\"\"\"\n",
        "# Dependency needed to install file \n",
        "\n",
        "# If running the notebook on your machine, else leave it commented\n",
        "!pip install xlrd\n",
        "\n",
        "import piplite\n",
        "await piplite.install(['xlrd','openpyxl'])\n",
        "\"\"\""
      ],
      "metadata": {
        "colab": {
          "base_uri": "https://localhost:8080/",
          "height": 339
        },
        "id": "eiDpl0LQdStW",
        "outputId": "ce716eb8-b38c-494a-da70-9860d7426105"
      },
      "execution_count": null,
      "outputs": [
        {
          "output_type": "stream",
          "name": "stdout",
          "text": [
            "Looking in indexes: https://pypi.org/simple, https://us-python.pkg.dev/colab-wheels/public/simple/\n",
            "Requirement already satisfied: xlrd in /usr/local/lib/python3.7/dist-packages (1.1.0)\n"
          ]
        },
        {
          "output_type": "error",
          "ename": "ModuleNotFoundError",
          "evalue": "ignored",
          "traceback": [
            "\u001b[0;31m---------------------------------------------------------------------------\u001b[0m",
            "\u001b[0;31mModuleNotFoundError\u001b[0m                       Traceback (most recent call last)",
            "\u001b[0;32m<ipython-input-121-06f4067d7642>\u001b[0m in \u001b[0;36masync-def-wrapper\u001b[0;34m()\u001b[0m\n\u001b[1;32m      7\u001b[0m \u001b[0;32mawait\u001b[0m \u001b[0mpiplite\u001b[0m\u001b[0;34m.\u001b[0m\u001b[0minstall\u001b[0m\u001b[0;34m(\u001b[0m\u001b[0;34m[\u001b[0m\u001b[0;34m'xlrd'\u001b[0m\u001b[0;34m,\u001b[0m\u001b[0;34m'openpyxl'\u001b[0m\u001b[0;34m]\u001b[0m\u001b[0;34m)\u001b[0m\u001b[0;34m\u001b[0m\u001b[0;34m\u001b[0m\u001b[0m\n",
            "\u001b[0;31mModuleNotFoundError\u001b[0m: No module named 'piplite'",
            "",
            "\u001b[0;31m---------------------------------------------------------------------------\u001b[0;32m\nNOTE: If your import is failing due to a missing package, you can\nmanually install dependencies using either !pip or !apt.\n\nTo view examples of installing some common dependencies, click the\n\"Open Examples\" button below.\n\u001b[0;31m---------------------------------------------------------------------------\u001b[0m\n"
          ],
          "errorDetails": {
            "actions": [
              {
                "action": "open_url",
                "actionText": "Open Examples",
                "url": "/notebooks/snippets/importing_libraries.ipynb"
              }
            ]
          }
        }
      ]
    },
    {
      "cell_type": "code",
      "source": [
        "# Import required library\n",
        "\n",
        "import pandas as pd"
      ],
      "metadata": {
        "id": "0edZa9vidH0H"
      },
      "execution_count": null,
      "outputs": []
    },
    {
      "cell_type": "markdown",
      "source": [
        "After the import command, we now have access to a large number of pre-built classes and functions. This assumes the library is installed; in our lab environment all the necessary libraries are installed. One way pandas allows you to work with data is a dataframe. Let's go through the process to go from a comma separated values (<b>.csv</b>) file to a dataframe. This variable <code>csv_path</code> stores the path of the <b>.csv</b>, that is  used as an argument to the <code>read_csv</code> function. The result is stored in the object <code>df</code>, this is a common short form used for a variable referring to a Pandas dataframe."
      ],
      "metadata": {
        "id": "m7SNJGLMdgO8"
      }
    },
    {
      "cell_type": "code",
      "source": [
        "# Read data from CSV file\n",
        "\n",
        "csv_path = 'https://cf-courses-data.s3.us.cloud-object-storage.appdomain.cloud/IBMDeveloperSkillsNetwork-PY0101EN-SkillsNetwork/labs/Module%204/data/TopSellingAlbums.csv'\n",
        "df = pd.read_csv(csv_path)\n",
        "\n",
        "\"\"\"\n",
        "from pyodide.http import pyfetch\n",
        "import pandas as pd\n",
        "\n",
        "filename = \"https://cf-courses-data.s3.us.cloud-object-storage.appdomain.cloud/IBMDeveloperSkillsNetwork-PY0101EN-SkillsNetwork/labs/Module%204/data/TopSellingAlbums.csv\"\n",
        "\n",
        "async def download(url, filename):\n",
        "    response = await pyfetch(url)\n",
        "    if response.status == 200:\n",
        "        with open(filename, \"wb\") as f:\n",
        "            f.write(await response.bytes())\n",
        "\n",
        "\n",
        "await download(filename, \"TopSellingAlbums.csv\")\n",
        "df = pd.read_csv(\"TopSellingAlbums.csv\")\n",
        "\"\"\""
      ],
      "metadata": {
        "colab": {
          "base_uri": "https://localhost:8080/",
          "height": 70
        },
        "id": "Ifapd1nPdiWJ",
        "outputId": "8b3927c9-dadd-4894-d94f-764e61dc7dc6"
      },
      "execution_count": null,
      "outputs": [
        {
          "output_type": "execute_result",
          "data": {
            "text/plain": [
              "'\\nfrom pyodide.http import pyfetch\\nimport pandas as pd\\n\\nfilename = \"https://cf-courses-data.s3.us.cloud-object-storage.appdomain.cloud/IBMDeveloperSkillsNetwork-PY0101EN-SkillsNetwork/labs/Module%204/data/TopSellingAlbums.csv\"\\n\\nasync def download(url, filename):\\n    response = await pyfetch(url)\\n    if response.status == 200:\\n        with open(filename, \"wb\") as f:\\n            f.write(await response.bytes())\\n\\n\\nawait download(filename, \"TopSellingAlbums.csv\")\\ndf = pd.read_csv(\"TopSellingAlbums.csv\")\\n'"
            ],
            "application/vnd.google.colaboratory.intrinsic+json": {
              "type": "string"
            }
          },
          "metadata": {},
          "execution_count": 126
        }
      ]
    },
    {
      "cell_type": "markdown",
      "source": [
        "We can use the method <code>head()</code> to examine the first five rows of a dataframe:"
      ],
      "metadata": {
        "id": "LCO3XANEd0rX"
      }
    },
    {
      "cell_type": "code",
      "source": [
        "# Print first five rows of the dataframe\n",
        "\n",
        "df.head()"
      ],
      "metadata": {
        "colab": {
          "base_uri": "https://localhost:8080/",
          "height": 206
        },
        "id": "zf5BrhNPd2Rc",
        "outputId": "693cb0ce-5b55-46fd-ddc8-9eb146822d0c"
      },
      "execution_count": null,
      "outputs": [
        {
          "output_type": "execute_result",
          "data": {
            "text/plain": [
              "            Artist                      Album  Released   Length  \\\n",
              "0  Michael Jackson                   Thriller      1982  0:42:19   \n",
              "1            AC/DC              Back in Black      1980  0:42:11   \n",
              "2       Pink Floyd  The Dark Side of the Moon      1973  0:42:49   \n",
              "3  Whitney Houston              The Bodyguard      1992  0:57:44   \n",
              "4        Meat Loaf            Bat Out of Hell      1977  0:46:33   \n",
              "\n",
              "                         Genre  Music Recording Sales (millions)  \\\n",
              "0               pop, rock, R&B                              46.0   \n",
              "1                    hard rock                              26.1   \n",
              "2             progressive rock                              24.2   \n",
              "3               R&B, soul, pop                              27.4   \n",
              "4  hard rock, progressive rock                              20.6   \n",
              "\n",
              "   Claimed Sales (millions) Released.1 Soundtrack  Rating  \n",
              "0                        65  30-Nov-82        NaN    10.0  \n",
              "1                        50  25-Jul-80        NaN     9.5  \n",
              "2                        45  01-Mar-73        NaN     9.0  \n",
              "3                        44  17-Nov-92          Y     8.5  \n",
              "4                        43  21-Oct-77        NaN     8.0  "
            ],
            "text/html": [
              "\n",
              "  <div id=\"df-7a631b29-ef15-4170-966f-ec8c1f17772f\">\n",
              "    <div class=\"colab-df-container\">\n",
              "      <div>\n",
              "<style scoped>\n",
              "    .dataframe tbody tr th:only-of-type {\n",
              "        vertical-align: middle;\n",
              "    }\n",
              "\n",
              "    .dataframe tbody tr th {\n",
              "        vertical-align: top;\n",
              "    }\n",
              "\n",
              "    .dataframe thead th {\n",
              "        text-align: right;\n",
              "    }\n",
              "</style>\n",
              "<table border=\"1\" class=\"dataframe\">\n",
              "  <thead>\n",
              "    <tr style=\"text-align: right;\">\n",
              "      <th></th>\n",
              "      <th>Artist</th>\n",
              "      <th>Album</th>\n",
              "      <th>Released</th>\n",
              "      <th>Length</th>\n",
              "      <th>Genre</th>\n",
              "      <th>Music Recording Sales (millions)</th>\n",
              "      <th>Claimed Sales (millions)</th>\n",
              "      <th>Released.1</th>\n",
              "      <th>Soundtrack</th>\n",
              "      <th>Rating</th>\n",
              "    </tr>\n",
              "  </thead>\n",
              "  <tbody>\n",
              "    <tr>\n",
              "      <th>0</th>\n",
              "      <td>Michael Jackson</td>\n",
              "      <td>Thriller</td>\n",
              "      <td>1982</td>\n",
              "      <td>0:42:19</td>\n",
              "      <td>pop, rock, R&amp;B</td>\n",
              "      <td>46.0</td>\n",
              "      <td>65</td>\n",
              "      <td>30-Nov-82</td>\n",
              "      <td>NaN</td>\n",
              "      <td>10.0</td>\n",
              "    </tr>\n",
              "    <tr>\n",
              "      <th>1</th>\n",
              "      <td>AC/DC</td>\n",
              "      <td>Back in Black</td>\n",
              "      <td>1980</td>\n",
              "      <td>0:42:11</td>\n",
              "      <td>hard rock</td>\n",
              "      <td>26.1</td>\n",
              "      <td>50</td>\n",
              "      <td>25-Jul-80</td>\n",
              "      <td>NaN</td>\n",
              "      <td>9.5</td>\n",
              "    </tr>\n",
              "    <tr>\n",
              "      <th>2</th>\n",
              "      <td>Pink Floyd</td>\n",
              "      <td>The Dark Side of the Moon</td>\n",
              "      <td>1973</td>\n",
              "      <td>0:42:49</td>\n",
              "      <td>progressive rock</td>\n",
              "      <td>24.2</td>\n",
              "      <td>45</td>\n",
              "      <td>01-Mar-73</td>\n",
              "      <td>NaN</td>\n",
              "      <td>9.0</td>\n",
              "    </tr>\n",
              "    <tr>\n",
              "      <th>3</th>\n",
              "      <td>Whitney Houston</td>\n",
              "      <td>The Bodyguard</td>\n",
              "      <td>1992</td>\n",
              "      <td>0:57:44</td>\n",
              "      <td>R&amp;B, soul, pop</td>\n",
              "      <td>27.4</td>\n",
              "      <td>44</td>\n",
              "      <td>17-Nov-92</td>\n",
              "      <td>Y</td>\n",
              "      <td>8.5</td>\n",
              "    </tr>\n",
              "    <tr>\n",
              "      <th>4</th>\n",
              "      <td>Meat Loaf</td>\n",
              "      <td>Bat Out of Hell</td>\n",
              "      <td>1977</td>\n",
              "      <td>0:46:33</td>\n",
              "      <td>hard rock, progressive rock</td>\n",
              "      <td>20.6</td>\n",
              "      <td>43</td>\n",
              "      <td>21-Oct-77</td>\n",
              "      <td>NaN</td>\n",
              "      <td>8.0</td>\n",
              "    </tr>\n",
              "  </tbody>\n",
              "</table>\n",
              "</div>\n",
              "      <button class=\"colab-df-convert\" onclick=\"convertToInteractive('df-7a631b29-ef15-4170-966f-ec8c1f17772f')\"\n",
              "              title=\"Convert this dataframe to an interactive table.\"\n",
              "              style=\"display:none;\">\n",
              "        \n",
              "  <svg xmlns=\"http://www.w3.org/2000/svg\" height=\"24px\"viewBox=\"0 0 24 24\"\n",
              "       width=\"24px\">\n",
              "    <path d=\"M0 0h24v24H0V0z\" fill=\"none\"/>\n",
              "    <path d=\"M18.56 5.44l.94 2.06.94-2.06 2.06-.94-2.06-.94-.94-2.06-.94 2.06-2.06.94zm-11 1L8.5 8.5l.94-2.06 2.06-.94-2.06-.94L8.5 2.5l-.94 2.06-2.06.94zm10 10l.94 2.06.94-2.06 2.06-.94-2.06-.94-.94-2.06-.94 2.06-2.06.94z\"/><path d=\"M17.41 7.96l-1.37-1.37c-.4-.4-.92-.59-1.43-.59-.52 0-1.04.2-1.43.59L10.3 9.45l-7.72 7.72c-.78.78-.78 2.05 0 2.83L4 21.41c.39.39.9.59 1.41.59.51 0 1.02-.2 1.41-.59l7.78-7.78 2.81-2.81c.8-.78.8-2.07 0-2.86zM5.41 20L4 18.59l7.72-7.72 1.47 1.35L5.41 20z\"/>\n",
              "  </svg>\n",
              "      </button>\n",
              "      \n",
              "  <style>\n",
              "    .colab-df-container {\n",
              "      display:flex;\n",
              "      flex-wrap:wrap;\n",
              "      gap: 12px;\n",
              "    }\n",
              "\n",
              "    .colab-df-convert {\n",
              "      background-color: #E8F0FE;\n",
              "      border: none;\n",
              "      border-radius: 50%;\n",
              "      cursor: pointer;\n",
              "      display: none;\n",
              "      fill: #1967D2;\n",
              "      height: 32px;\n",
              "      padding: 0 0 0 0;\n",
              "      width: 32px;\n",
              "    }\n",
              "\n",
              "    .colab-df-convert:hover {\n",
              "      background-color: #E2EBFA;\n",
              "      box-shadow: 0px 1px 2px rgba(60, 64, 67, 0.3), 0px 1px 3px 1px rgba(60, 64, 67, 0.15);\n",
              "      fill: #174EA6;\n",
              "    }\n",
              "\n",
              "    [theme=dark] .colab-df-convert {\n",
              "      background-color: #3B4455;\n",
              "      fill: #D2E3FC;\n",
              "    }\n",
              "\n",
              "    [theme=dark] .colab-df-convert:hover {\n",
              "      background-color: #434B5C;\n",
              "      box-shadow: 0px 1px 3px 1px rgba(0, 0, 0, 0.15);\n",
              "      filter: drop-shadow(0px 1px 2px rgba(0, 0, 0, 0.3));\n",
              "      fill: #FFFFFF;\n",
              "    }\n",
              "  </style>\n",
              "\n",
              "      <script>\n",
              "        const buttonEl =\n",
              "          document.querySelector('#df-7a631b29-ef15-4170-966f-ec8c1f17772f button.colab-df-convert');\n",
              "        buttonEl.style.display =\n",
              "          google.colab.kernel.accessAllowed ? 'block' : 'none';\n",
              "\n",
              "        async function convertToInteractive(key) {\n",
              "          const element = document.querySelector('#df-7a631b29-ef15-4170-966f-ec8c1f17772f');\n",
              "          const dataTable =\n",
              "            await google.colab.kernel.invokeFunction('convertToInteractive',\n",
              "                                                     [key], {});\n",
              "          if (!dataTable) return;\n",
              "\n",
              "          const docLinkHtml = 'Like what you see? Visit the ' +\n",
              "            '<a target=\"_blank\" href=https://colab.research.google.com/notebooks/data_table.ipynb>data table notebook</a>'\n",
              "            + ' to learn more about interactive tables.';\n",
              "          element.innerHTML = '';\n",
              "          dataTable['output_type'] = 'display_data';\n",
              "          await google.colab.output.renderOutput(dataTable, element);\n",
              "          const docLink = document.createElement('div');\n",
              "          docLink.innerHTML = docLinkHtml;\n",
              "          element.appendChild(docLink);\n",
              "        }\n",
              "      </script>\n",
              "    </div>\n",
              "  </div>\n",
              "  "
            ]
          },
          "metadata": {},
          "execution_count": 127
        }
      ]
    },
    {
      "cell_type": "markdown",
      "source": [
        "We use the path of the excel file and the function <code>read_excel</code>. The result is a data frame as before:"
      ],
      "metadata": {
        "id": "4kbX_om6d5tZ"
      }
    },
    {
      "cell_type": "code",
      "source": [
        "# Read data from Excel File and print the first five rows\n",
        "\n",
        "xlsx_path = 'https://s3-api.us-geo.objectstorage.softlayer.net/cf-courses-data/CognitiveClass/PY0101EN/Chapter%204/Datasets/TopSellingAlbums.xlsx'\n",
        "\n",
        "#await download(xlsx_path, \"TopSellingAlbums.xlsx\")\n",
        "df = pd.read_excel(xlsx_path)\n",
        "df.head()\n",
        "\n",
        "# Código comentado para hacer funcionar el proceso"
      ],
      "metadata": {
        "colab": {
          "base_uri": "https://localhost:8080/",
          "height": 206
        },
        "id": "LOHbxsKMd7Km",
        "outputId": "ac55d394-8824-464f-f5a2-f38c30a4eecc"
      },
      "execution_count": null,
      "outputs": [
        {
          "output_type": "execute_result",
          "data": {
            "text/plain": [
              "            Artist                      Album  Released    Length  \\\n",
              "0  Michael Jackson                   Thriller      1982  00:42:19   \n",
              "1            AC/DC              Back in Black      1980  00:42:11   \n",
              "2       Pink Floyd  The Dark Side of the Moon      1973  00:42:49   \n",
              "3  Whitney Houston              The Bodyguard      1992  00:57:44   \n",
              "4        Meat Loaf            Bat Out of Hell      1977  00:46:33   \n",
              "\n",
              "                         Genre  Music Recording Sales (millions)  \\\n",
              "0               pop, rock, R&B                              46.0   \n",
              "1                    hard rock                              26.1   \n",
              "2             progressive rock                              24.2   \n",
              "3               R&B, soul, pop                              27.4   \n",
              "4  hard rock, progressive rock                              20.6   \n",
              "\n",
              "   Claimed Sales (millions) Released.1 Soundtrack  Rating  \n",
              "0                        65 1982-11-30        NaN    10.0  \n",
              "1                        50 1980-07-25        NaN     9.5  \n",
              "2                        45 1973-03-01        NaN     9.0  \n",
              "3                        44 1992-11-17          Y     8.5  \n",
              "4                        43 1977-10-21        NaN     8.0  "
            ],
            "text/html": [
              "\n",
              "  <div id=\"df-b5d202be-447d-4526-ab95-08a263fae646\">\n",
              "    <div class=\"colab-df-container\">\n",
              "      <div>\n",
              "<style scoped>\n",
              "    .dataframe tbody tr th:only-of-type {\n",
              "        vertical-align: middle;\n",
              "    }\n",
              "\n",
              "    .dataframe tbody tr th {\n",
              "        vertical-align: top;\n",
              "    }\n",
              "\n",
              "    .dataframe thead th {\n",
              "        text-align: right;\n",
              "    }\n",
              "</style>\n",
              "<table border=\"1\" class=\"dataframe\">\n",
              "  <thead>\n",
              "    <tr style=\"text-align: right;\">\n",
              "      <th></th>\n",
              "      <th>Artist</th>\n",
              "      <th>Album</th>\n",
              "      <th>Released</th>\n",
              "      <th>Length</th>\n",
              "      <th>Genre</th>\n",
              "      <th>Music Recording Sales (millions)</th>\n",
              "      <th>Claimed Sales (millions)</th>\n",
              "      <th>Released.1</th>\n",
              "      <th>Soundtrack</th>\n",
              "      <th>Rating</th>\n",
              "    </tr>\n",
              "  </thead>\n",
              "  <tbody>\n",
              "    <tr>\n",
              "      <th>0</th>\n",
              "      <td>Michael Jackson</td>\n",
              "      <td>Thriller</td>\n",
              "      <td>1982</td>\n",
              "      <td>00:42:19</td>\n",
              "      <td>pop, rock, R&amp;B</td>\n",
              "      <td>46.0</td>\n",
              "      <td>65</td>\n",
              "      <td>1982-11-30</td>\n",
              "      <td>NaN</td>\n",
              "      <td>10.0</td>\n",
              "    </tr>\n",
              "    <tr>\n",
              "      <th>1</th>\n",
              "      <td>AC/DC</td>\n",
              "      <td>Back in Black</td>\n",
              "      <td>1980</td>\n",
              "      <td>00:42:11</td>\n",
              "      <td>hard rock</td>\n",
              "      <td>26.1</td>\n",
              "      <td>50</td>\n",
              "      <td>1980-07-25</td>\n",
              "      <td>NaN</td>\n",
              "      <td>9.5</td>\n",
              "    </tr>\n",
              "    <tr>\n",
              "      <th>2</th>\n",
              "      <td>Pink Floyd</td>\n",
              "      <td>The Dark Side of the Moon</td>\n",
              "      <td>1973</td>\n",
              "      <td>00:42:49</td>\n",
              "      <td>progressive rock</td>\n",
              "      <td>24.2</td>\n",
              "      <td>45</td>\n",
              "      <td>1973-03-01</td>\n",
              "      <td>NaN</td>\n",
              "      <td>9.0</td>\n",
              "    </tr>\n",
              "    <tr>\n",
              "      <th>3</th>\n",
              "      <td>Whitney Houston</td>\n",
              "      <td>The Bodyguard</td>\n",
              "      <td>1992</td>\n",
              "      <td>00:57:44</td>\n",
              "      <td>R&amp;B, soul, pop</td>\n",
              "      <td>27.4</td>\n",
              "      <td>44</td>\n",
              "      <td>1992-11-17</td>\n",
              "      <td>Y</td>\n",
              "      <td>8.5</td>\n",
              "    </tr>\n",
              "    <tr>\n",
              "      <th>4</th>\n",
              "      <td>Meat Loaf</td>\n",
              "      <td>Bat Out of Hell</td>\n",
              "      <td>1977</td>\n",
              "      <td>00:46:33</td>\n",
              "      <td>hard rock, progressive rock</td>\n",
              "      <td>20.6</td>\n",
              "      <td>43</td>\n",
              "      <td>1977-10-21</td>\n",
              "      <td>NaN</td>\n",
              "      <td>8.0</td>\n",
              "    </tr>\n",
              "  </tbody>\n",
              "</table>\n",
              "</div>\n",
              "      <button class=\"colab-df-convert\" onclick=\"convertToInteractive('df-b5d202be-447d-4526-ab95-08a263fae646')\"\n",
              "              title=\"Convert this dataframe to an interactive table.\"\n",
              "              style=\"display:none;\">\n",
              "        \n",
              "  <svg xmlns=\"http://www.w3.org/2000/svg\" height=\"24px\"viewBox=\"0 0 24 24\"\n",
              "       width=\"24px\">\n",
              "    <path d=\"M0 0h24v24H0V0z\" fill=\"none\"/>\n",
              "    <path d=\"M18.56 5.44l.94 2.06.94-2.06 2.06-.94-2.06-.94-.94-2.06-.94 2.06-2.06.94zm-11 1L8.5 8.5l.94-2.06 2.06-.94-2.06-.94L8.5 2.5l-.94 2.06-2.06.94zm10 10l.94 2.06.94-2.06 2.06-.94-2.06-.94-.94-2.06-.94 2.06-2.06.94z\"/><path d=\"M17.41 7.96l-1.37-1.37c-.4-.4-.92-.59-1.43-.59-.52 0-1.04.2-1.43.59L10.3 9.45l-7.72 7.72c-.78.78-.78 2.05 0 2.83L4 21.41c.39.39.9.59 1.41.59.51 0 1.02-.2 1.41-.59l7.78-7.78 2.81-2.81c.8-.78.8-2.07 0-2.86zM5.41 20L4 18.59l7.72-7.72 1.47 1.35L5.41 20z\"/>\n",
              "  </svg>\n",
              "      </button>\n",
              "      \n",
              "  <style>\n",
              "    .colab-df-container {\n",
              "      display:flex;\n",
              "      flex-wrap:wrap;\n",
              "      gap: 12px;\n",
              "    }\n",
              "\n",
              "    .colab-df-convert {\n",
              "      background-color: #E8F0FE;\n",
              "      border: none;\n",
              "      border-radius: 50%;\n",
              "      cursor: pointer;\n",
              "      display: none;\n",
              "      fill: #1967D2;\n",
              "      height: 32px;\n",
              "      padding: 0 0 0 0;\n",
              "      width: 32px;\n",
              "    }\n",
              "\n",
              "    .colab-df-convert:hover {\n",
              "      background-color: #E2EBFA;\n",
              "      box-shadow: 0px 1px 2px rgba(60, 64, 67, 0.3), 0px 1px 3px 1px rgba(60, 64, 67, 0.15);\n",
              "      fill: #174EA6;\n",
              "    }\n",
              "\n",
              "    [theme=dark] .colab-df-convert {\n",
              "      background-color: #3B4455;\n",
              "      fill: #D2E3FC;\n",
              "    }\n",
              "\n",
              "    [theme=dark] .colab-df-convert:hover {\n",
              "      background-color: #434B5C;\n",
              "      box-shadow: 0px 1px 3px 1px rgba(0, 0, 0, 0.15);\n",
              "      filter: drop-shadow(0px 1px 2px rgba(0, 0, 0, 0.3));\n",
              "      fill: #FFFFFF;\n",
              "    }\n",
              "  </style>\n",
              "\n",
              "      <script>\n",
              "        const buttonEl =\n",
              "          document.querySelector('#df-b5d202be-447d-4526-ab95-08a263fae646 button.colab-df-convert');\n",
              "        buttonEl.style.display =\n",
              "          google.colab.kernel.accessAllowed ? 'block' : 'none';\n",
              "\n",
              "        async function convertToInteractive(key) {\n",
              "          const element = document.querySelector('#df-b5d202be-447d-4526-ab95-08a263fae646');\n",
              "          const dataTable =\n",
              "            await google.colab.kernel.invokeFunction('convertToInteractive',\n",
              "                                                     [key], {});\n",
              "          if (!dataTable) return;\n",
              "\n",
              "          const docLinkHtml = 'Like what you see? Visit the ' +\n",
              "            '<a target=\"_blank\" href=https://colab.research.google.com/notebooks/data_table.ipynb>data table notebook</a>'\n",
              "            + ' to learn more about interactive tables.';\n",
              "          element.innerHTML = '';\n",
              "          dataTable['output_type'] = 'display_data';\n",
              "          await google.colab.output.renderOutput(dataTable, element);\n",
              "          const docLink = document.createElement('div');\n",
              "          docLink.innerHTML = docLinkHtml;\n",
              "          element.appendChild(docLink);\n",
              "        }\n",
              "      </script>\n",
              "    </div>\n",
              "  </div>\n",
              "  "
            ]
          },
          "metadata": {},
          "execution_count": 129
        }
      ]
    },
    {
      "cell_type": "markdown",
      "source": [
        "We can access the column <b>Length</b> and assign it a new dataframe <b>x</b>:"
      ],
      "metadata": {
        "id": "SkPCfLbQeKvo"
      }
    },
    {
      "cell_type": "code",
      "source": [
        "# Access to the column Length\n",
        "\n",
        "x = df[['Length']]\n",
        "x"
      ],
      "metadata": {
        "colab": {
          "base_uri": "https://localhost:8080/",
          "height": 300
        },
        "id": "ekJIQQwYeNXN",
        "outputId": "7b19ff52-629d-4059-af83-fadc04971191"
      },
      "execution_count": null,
      "outputs": [
        {
          "output_type": "execute_result",
          "data": {
            "text/plain": [
              "     Length\n",
              "0  00:42:19\n",
              "1  00:42:11\n",
              "2  00:42:49\n",
              "3  00:57:44\n",
              "4  00:46:33\n",
              "5  00:43:08\n",
              "6  01:15:54\n",
              "7  00:40:01"
            ],
            "text/html": [
              "\n",
              "  <div id=\"df-bbdc2fd4-06af-4c4b-91e4-4e1a2cee8f5b\">\n",
              "    <div class=\"colab-df-container\">\n",
              "      <div>\n",
              "<style scoped>\n",
              "    .dataframe tbody tr th:only-of-type {\n",
              "        vertical-align: middle;\n",
              "    }\n",
              "\n",
              "    .dataframe tbody tr th {\n",
              "        vertical-align: top;\n",
              "    }\n",
              "\n",
              "    .dataframe thead th {\n",
              "        text-align: right;\n",
              "    }\n",
              "</style>\n",
              "<table border=\"1\" class=\"dataframe\">\n",
              "  <thead>\n",
              "    <tr style=\"text-align: right;\">\n",
              "      <th></th>\n",
              "      <th>Length</th>\n",
              "    </tr>\n",
              "  </thead>\n",
              "  <tbody>\n",
              "    <tr>\n",
              "      <th>0</th>\n",
              "      <td>00:42:19</td>\n",
              "    </tr>\n",
              "    <tr>\n",
              "      <th>1</th>\n",
              "      <td>00:42:11</td>\n",
              "    </tr>\n",
              "    <tr>\n",
              "      <th>2</th>\n",
              "      <td>00:42:49</td>\n",
              "    </tr>\n",
              "    <tr>\n",
              "      <th>3</th>\n",
              "      <td>00:57:44</td>\n",
              "    </tr>\n",
              "    <tr>\n",
              "      <th>4</th>\n",
              "      <td>00:46:33</td>\n",
              "    </tr>\n",
              "    <tr>\n",
              "      <th>5</th>\n",
              "      <td>00:43:08</td>\n",
              "    </tr>\n",
              "    <tr>\n",
              "      <th>6</th>\n",
              "      <td>01:15:54</td>\n",
              "    </tr>\n",
              "    <tr>\n",
              "      <th>7</th>\n",
              "      <td>00:40:01</td>\n",
              "    </tr>\n",
              "  </tbody>\n",
              "</table>\n",
              "</div>\n",
              "      <button class=\"colab-df-convert\" onclick=\"convertToInteractive('df-bbdc2fd4-06af-4c4b-91e4-4e1a2cee8f5b')\"\n",
              "              title=\"Convert this dataframe to an interactive table.\"\n",
              "              style=\"display:none;\">\n",
              "        \n",
              "  <svg xmlns=\"http://www.w3.org/2000/svg\" height=\"24px\"viewBox=\"0 0 24 24\"\n",
              "       width=\"24px\">\n",
              "    <path d=\"M0 0h24v24H0V0z\" fill=\"none\"/>\n",
              "    <path d=\"M18.56 5.44l.94 2.06.94-2.06 2.06-.94-2.06-.94-.94-2.06-.94 2.06-2.06.94zm-11 1L8.5 8.5l.94-2.06 2.06-.94-2.06-.94L8.5 2.5l-.94 2.06-2.06.94zm10 10l.94 2.06.94-2.06 2.06-.94-2.06-.94-.94-2.06-.94 2.06-2.06.94z\"/><path d=\"M17.41 7.96l-1.37-1.37c-.4-.4-.92-.59-1.43-.59-.52 0-1.04.2-1.43.59L10.3 9.45l-7.72 7.72c-.78.78-.78 2.05 0 2.83L4 21.41c.39.39.9.59 1.41.59.51 0 1.02-.2 1.41-.59l7.78-7.78 2.81-2.81c.8-.78.8-2.07 0-2.86zM5.41 20L4 18.59l7.72-7.72 1.47 1.35L5.41 20z\"/>\n",
              "  </svg>\n",
              "      </button>\n",
              "      \n",
              "  <style>\n",
              "    .colab-df-container {\n",
              "      display:flex;\n",
              "      flex-wrap:wrap;\n",
              "      gap: 12px;\n",
              "    }\n",
              "\n",
              "    .colab-df-convert {\n",
              "      background-color: #E8F0FE;\n",
              "      border: none;\n",
              "      border-radius: 50%;\n",
              "      cursor: pointer;\n",
              "      display: none;\n",
              "      fill: #1967D2;\n",
              "      height: 32px;\n",
              "      padding: 0 0 0 0;\n",
              "      width: 32px;\n",
              "    }\n",
              "\n",
              "    .colab-df-convert:hover {\n",
              "      background-color: #E2EBFA;\n",
              "      box-shadow: 0px 1px 2px rgba(60, 64, 67, 0.3), 0px 1px 3px 1px rgba(60, 64, 67, 0.15);\n",
              "      fill: #174EA6;\n",
              "    }\n",
              "\n",
              "    [theme=dark] .colab-df-convert {\n",
              "      background-color: #3B4455;\n",
              "      fill: #D2E3FC;\n",
              "    }\n",
              "\n",
              "    [theme=dark] .colab-df-convert:hover {\n",
              "      background-color: #434B5C;\n",
              "      box-shadow: 0px 1px 3px 1px rgba(0, 0, 0, 0.15);\n",
              "      filter: drop-shadow(0px 1px 2px rgba(0, 0, 0, 0.3));\n",
              "      fill: #FFFFFF;\n",
              "    }\n",
              "  </style>\n",
              "\n",
              "      <script>\n",
              "        const buttonEl =\n",
              "          document.querySelector('#df-bbdc2fd4-06af-4c4b-91e4-4e1a2cee8f5b button.colab-df-convert');\n",
              "        buttonEl.style.display =\n",
              "          google.colab.kernel.accessAllowed ? 'block' : 'none';\n",
              "\n",
              "        async function convertToInteractive(key) {\n",
              "          const element = document.querySelector('#df-bbdc2fd4-06af-4c4b-91e4-4e1a2cee8f5b');\n",
              "          const dataTable =\n",
              "            await google.colab.kernel.invokeFunction('convertToInteractive',\n",
              "                                                     [key], {});\n",
              "          if (!dataTable) return;\n",
              "\n",
              "          const docLinkHtml = 'Like what you see? Visit the ' +\n",
              "            '<a target=\"_blank\" href=https://colab.research.google.com/notebooks/data_table.ipynb>data table notebook</a>'\n",
              "            + ' to learn more about interactive tables.';\n",
              "          element.innerHTML = '';\n",
              "          dataTable['output_type'] = 'display_data';\n",
              "          await google.colab.output.renderOutput(dataTable, element);\n",
              "          const docLink = document.createElement('div');\n",
              "          docLink.innerHTML = docLinkHtml;\n",
              "          element.appendChild(docLink);\n",
              "        }\n",
              "      </script>\n",
              "    </div>\n",
              "  </div>\n",
              "  "
            ]
          },
          "metadata": {},
          "execution_count": 130
        }
      ]
    },
    {
      "cell_type": "markdown",
      "source": [
        "The process is shown in the figure:"
      ],
      "metadata": {
        "id": "V93646PCeQBD"
      }
    },
    {
      "cell_type": "markdown",
      "source": [
        "<img src=\"https://cf-courses-data.s3.us.cloud-object-storage.appdomain.cloud/IBMDeveloperSkillsNetwork-PY0101EN-SkillsNetwork/labs/Module%204/images/DataEgOne.png\" width=\"750\" />\n"
      ],
      "metadata": {
        "id": "fVyEc82VeSf6"
      }
    },
    {
      "cell_type": "markdown",
      "source": [
        "<h2 id=\"data\">Viewing Data and Accessing Data</h2>"
      ],
      "metadata": {
        "id": "5UIGpvIxeUpQ"
      }
    },
    {
      "cell_type": "markdown",
      "source": [
        "You can also get a column as a series. You can think of a Pandas series as a 1-D dataframe. Just use one bracket:"
      ],
      "metadata": {
        "id": "5XDHfxKSeWtQ"
      }
    },
    {
      "cell_type": "code",
      "source": [
        "# Get the column as a series\n",
        "\n",
        "x = df['Length']\n",
        "x"
      ],
      "metadata": {
        "colab": {
          "base_uri": "https://localhost:8080/"
        },
        "id": "0ctVT3YUeaXj",
        "outputId": "fd6c4112-fd22-497d-b660-405076df6321"
      },
      "execution_count": null,
      "outputs": [
        {
          "output_type": "execute_result",
          "data": {
            "text/plain": [
              "0    00:42:19\n",
              "1    00:42:11\n",
              "2    00:42:49\n",
              "3    00:57:44\n",
              "4    00:46:33\n",
              "5    00:43:08\n",
              "6    01:15:54\n",
              "7    00:40:01\n",
              "Name: Length, dtype: object"
            ]
          },
          "metadata": {},
          "execution_count": 131
        }
      ]
    },
    {
      "cell_type": "markdown",
      "source": [
        "You can also get a column as a dataframe. For example, we can assign the column <b>Artist</b>:"
      ],
      "metadata": {
        "id": "ZnGrbwbLecwG"
      }
    },
    {
      "cell_type": "code",
      "source": [
        "# Get the column as a dataframe\n",
        "\n",
        "x = df[['Artist']]\n",
        "type(x)"
      ],
      "metadata": {
        "colab": {
          "base_uri": "https://localhost:8080/"
        },
        "id": "Hw1OrIQqegVW",
        "outputId": "648f2ac5-5754-4e43-a438-72173dc42f89"
      },
      "execution_count": null,
      "outputs": [
        {
          "output_type": "execute_result",
          "data": {
            "text/plain": [
              "pandas.core.frame.DataFrame"
            ]
          },
          "metadata": {},
          "execution_count": 132
        }
      ]
    },
    {
      "cell_type": "markdown",
      "source": [
        "You can do the same thing for multiple columns; we just put the dataframe name, in this case, <code>df</code>, and the name of the multiple column headers enclosed in double brackets. The result is a new dataframe comprised of the specified columns:"
      ],
      "metadata": {
        "id": "B89RNmZ5ee1r"
      }
    },
    {
      "cell_type": "code",
      "source": [
        "# Access to multiple columns\n",
        "\n",
        "y = df[['Artist','Length','Genre']]\n",
        "y"
      ],
      "metadata": {
        "colab": {
          "base_uri": "https://localhost:8080/",
          "height": 300
        },
        "id": "5TyHxSuMejtx",
        "outputId": "3fff7531-8a65-4b41-f89f-855c11b9105b"
      },
      "execution_count": null,
      "outputs": [
        {
          "output_type": "execute_result",
          "data": {
            "text/plain": [
              "            Artist    Length                        Genre\n",
              "0  Michael Jackson  00:42:19               pop, rock, R&B\n",
              "1            AC/DC  00:42:11                    hard rock\n",
              "2       Pink Floyd  00:42:49             progressive rock\n",
              "3  Whitney Houston  00:57:44               R&B, soul, pop\n",
              "4        Meat Loaf  00:46:33  hard rock, progressive rock\n",
              "5           Eagles  00:43:08   rock, soft rock, folk rock\n",
              "6         Bee Gees  01:15:54                        disco\n",
              "7    Fleetwood Mac  00:40:01                    soft rock"
            ],
            "text/html": [
              "\n",
              "  <div id=\"df-0df397ca-ef7a-44ac-a78e-290f11959e91\">\n",
              "    <div class=\"colab-df-container\">\n",
              "      <div>\n",
              "<style scoped>\n",
              "    .dataframe tbody tr th:only-of-type {\n",
              "        vertical-align: middle;\n",
              "    }\n",
              "\n",
              "    .dataframe tbody tr th {\n",
              "        vertical-align: top;\n",
              "    }\n",
              "\n",
              "    .dataframe thead th {\n",
              "        text-align: right;\n",
              "    }\n",
              "</style>\n",
              "<table border=\"1\" class=\"dataframe\">\n",
              "  <thead>\n",
              "    <tr style=\"text-align: right;\">\n",
              "      <th></th>\n",
              "      <th>Artist</th>\n",
              "      <th>Length</th>\n",
              "      <th>Genre</th>\n",
              "    </tr>\n",
              "  </thead>\n",
              "  <tbody>\n",
              "    <tr>\n",
              "      <th>0</th>\n",
              "      <td>Michael Jackson</td>\n",
              "      <td>00:42:19</td>\n",
              "      <td>pop, rock, R&amp;B</td>\n",
              "    </tr>\n",
              "    <tr>\n",
              "      <th>1</th>\n",
              "      <td>AC/DC</td>\n",
              "      <td>00:42:11</td>\n",
              "      <td>hard rock</td>\n",
              "    </tr>\n",
              "    <tr>\n",
              "      <th>2</th>\n",
              "      <td>Pink Floyd</td>\n",
              "      <td>00:42:49</td>\n",
              "      <td>progressive rock</td>\n",
              "    </tr>\n",
              "    <tr>\n",
              "      <th>3</th>\n",
              "      <td>Whitney Houston</td>\n",
              "      <td>00:57:44</td>\n",
              "      <td>R&amp;B, soul, pop</td>\n",
              "    </tr>\n",
              "    <tr>\n",
              "      <th>4</th>\n",
              "      <td>Meat Loaf</td>\n",
              "      <td>00:46:33</td>\n",
              "      <td>hard rock, progressive rock</td>\n",
              "    </tr>\n",
              "    <tr>\n",
              "      <th>5</th>\n",
              "      <td>Eagles</td>\n",
              "      <td>00:43:08</td>\n",
              "      <td>rock, soft rock, folk rock</td>\n",
              "    </tr>\n",
              "    <tr>\n",
              "      <th>6</th>\n",
              "      <td>Bee Gees</td>\n",
              "      <td>01:15:54</td>\n",
              "      <td>disco</td>\n",
              "    </tr>\n",
              "    <tr>\n",
              "      <th>7</th>\n",
              "      <td>Fleetwood Mac</td>\n",
              "      <td>00:40:01</td>\n",
              "      <td>soft rock</td>\n",
              "    </tr>\n",
              "  </tbody>\n",
              "</table>\n",
              "</div>\n",
              "      <button class=\"colab-df-convert\" onclick=\"convertToInteractive('df-0df397ca-ef7a-44ac-a78e-290f11959e91')\"\n",
              "              title=\"Convert this dataframe to an interactive table.\"\n",
              "              style=\"display:none;\">\n",
              "        \n",
              "  <svg xmlns=\"http://www.w3.org/2000/svg\" height=\"24px\"viewBox=\"0 0 24 24\"\n",
              "       width=\"24px\">\n",
              "    <path d=\"M0 0h24v24H0V0z\" fill=\"none\"/>\n",
              "    <path d=\"M18.56 5.44l.94 2.06.94-2.06 2.06-.94-2.06-.94-.94-2.06-.94 2.06-2.06.94zm-11 1L8.5 8.5l.94-2.06 2.06-.94-2.06-.94L8.5 2.5l-.94 2.06-2.06.94zm10 10l.94 2.06.94-2.06 2.06-.94-2.06-.94-.94-2.06-.94 2.06-2.06.94z\"/><path d=\"M17.41 7.96l-1.37-1.37c-.4-.4-.92-.59-1.43-.59-.52 0-1.04.2-1.43.59L10.3 9.45l-7.72 7.72c-.78.78-.78 2.05 0 2.83L4 21.41c.39.39.9.59 1.41.59.51 0 1.02-.2 1.41-.59l7.78-7.78 2.81-2.81c.8-.78.8-2.07 0-2.86zM5.41 20L4 18.59l7.72-7.72 1.47 1.35L5.41 20z\"/>\n",
              "  </svg>\n",
              "      </button>\n",
              "      \n",
              "  <style>\n",
              "    .colab-df-container {\n",
              "      display:flex;\n",
              "      flex-wrap:wrap;\n",
              "      gap: 12px;\n",
              "    }\n",
              "\n",
              "    .colab-df-convert {\n",
              "      background-color: #E8F0FE;\n",
              "      border: none;\n",
              "      border-radius: 50%;\n",
              "      cursor: pointer;\n",
              "      display: none;\n",
              "      fill: #1967D2;\n",
              "      height: 32px;\n",
              "      padding: 0 0 0 0;\n",
              "      width: 32px;\n",
              "    }\n",
              "\n",
              "    .colab-df-convert:hover {\n",
              "      background-color: #E2EBFA;\n",
              "      box-shadow: 0px 1px 2px rgba(60, 64, 67, 0.3), 0px 1px 3px 1px rgba(60, 64, 67, 0.15);\n",
              "      fill: #174EA6;\n",
              "    }\n",
              "\n",
              "    [theme=dark] .colab-df-convert {\n",
              "      background-color: #3B4455;\n",
              "      fill: #D2E3FC;\n",
              "    }\n",
              "\n",
              "    [theme=dark] .colab-df-convert:hover {\n",
              "      background-color: #434B5C;\n",
              "      box-shadow: 0px 1px 3px 1px rgba(0, 0, 0, 0.15);\n",
              "      filter: drop-shadow(0px 1px 2px rgba(0, 0, 0, 0.3));\n",
              "      fill: #FFFFFF;\n",
              "    }\n",
              "  </style>\n",
              "\n",
              "      <script>\n",
              "        const buttonEl =\n",
              "          document.querySelector('#df-0df397ca-ef7a-44ac-a78e-290f11959e91 button.colab-df-convert');\n",
              "        buttonEl.style.display =\n",
              "          google.colab.kernel.accessAllowed ? 'block' : 'none';\n",
              "\n",
              "        async function convertToInteractive(key) {\n",
              "          const element = document.querySelector('#df-0df397ca-ef7a-44ac-a78e-290f11959e91');\n",
              "          const dataTable =\n",
              "            await google.colab.kernel.invokeFunction('convertToInteractive',\n",
              "                                                     [key], {});\n",
              "          if (!dataTable) return;\n",
              "\n",
              "          const docLinkHtml = 'Like what you see? Visit the ' +\n",
              "            '<a target=\"_blank\" href=https://colab.research.google.com/notebooks/data_table.ipynb>data table notebook</a>'\n",
              "            + ' to learn more about interactive tables.';\n",
              "          element.innerHTML = '';\n",
              "          dataTable['output_type'] = 'display_data';\n",
              "          await google.colab.output.renderOutput(dataTable, element);\n",
              "          const docLink = document.createElement('div');\n",
              "          docLink.innerHTML = docLinkHtml;\n",
              "          element.appendChild(docLink);\n",
              "        }\n",
              "      </script>\n",
              "    </div>\n",
              "  </div>\n",
              "  "
            ]
          },
          "metadata": {},
          "execution_count": 133
        }
      ]
    },
    {
      "cell_type": "markdown",
      "source": [
        "The process is shown in the figure:"
      ],
      "metadata": {
        "id": "_7Uz6gkTemag"
      }
    },
    {
      "cell_type": "markdown",
      "source": [
        "<img src = \"https://cf-courses-data.s3.us.cloud-object-storage.appdomain.cloud/IBMDeveloperSkillsNetwork-PY0101EN-SkillsNetwork/labs/Module%204/images/DataEgTwo.png\" width=\"1100\" />"
      ],
      "metadata": {
        "id": "VYdQo06oepi2"
      }
    },
    {
      "cell_type": "markdown",
      "source": [
        "One way to access unique elements is the <code>iloc</code> method, where you can access the 1st row and the 1st column as follows:"
      ],
      "metadata": {
        "id": "7w7s7k-Uerrf"
      }
    },
    {
      "cell_type": "code",
      "source": [
        "# Access the value on the first row and the first column\n",
        "\n",
        "df.iloc[0, 0]"
      ],
      "metadata": {
        "colab": {
          "base_uri": "https://localhost:8080/",
          "height": 35
        },
        "id": "ycSA4q9weuyr",
        "outputId": "48e6e9f0-abee-4861-c83d-78b88add12b2"
      },
      "execution_count": null,
      "outputs": [
        {
          "output_type": "execute_result",
          "data": {
            "text/plain": [
              "'Michael Jackson'"
            ],
            "application/vnd.google.colaboratory.intrinsic+json": {
              "type": "string"
            }
          },
          "metadata": {},
          "execution_count": 134
        }
      ]
    },
    {
      "cell_type": "markdown",
      "source": [
        "You can access the 2nd row and the 1st column as follows:"
      ],
      "metadata": {
        "id": "dPvuDECNetIy"
      }
    },
    {
      "cell_type": "code",
      "source": [
        "# Access the value on the second row and the first column\n",
        "\n",
        "df.iloc[1,0]"
      ],
      "metadata": {
        "colab": {
          "base_uri": "https://localhost:8080/",
          "height": 35
        },
        "id": "0AXtU5i6ezzF",
        "outputId": "79f1e4a7-b6a1-4467-eca1-f72f8af7b2b9"
      },
      "execution_count": null,
      "outputs": [
        {
          "output_type": "execute_result",
          "data": {
            "text/plain": [
              "'AC/DC'"
            ],
            "application/vnd.google.colaboratory.intrinsic+json": {
              "type": "string"
            }
          },
          "metadata": {},
          "execution_count": 135
        }
      ]
    },
    {
      "cell_type": "markdown",
      "source": [
        "You can access the 1st row and the 3rd column as follows:"
      ],
      "metadata": {
        "id": "6RBAsAcae2QZ"
      }
    },
    {
      "cell_type": "code",
      "source": [
        "# Access the value on the first row and the third column\n",
        "\n",
        "df.iloc[0,2]"
      ],
      "metadata": {
        "colab": {
          "base_uri": "https://localhost:8080/"
        },
        "id": "eok8d7sae3x4",
        "outputId": "7fbc65e9-c5b4-4c2f-81ab-9353e70abd39"
      },
      "execution_count": null,
      "outputs": [
        {
          "output_type": "execute_result",
          "data": {
            "text/plain": [
              "1982"
            ]
          },
          "metadata": {},
          "execution_count": 136
        }
      ]
    },
    {
      "cell_type": "code",
      "source": [
        "# Access the value on the second row and the third column\n",
        "df.iloc[1,2]"
      ],
      "metadata": {
        "colab": {
          "base_uri": "https://localhost:8080/"
        },
        "id": "8bHWBHpEe55-",
        "outputId": "8bd78fca-9715-46ed-cb08-d5de01761f63"
      },
      "execution_count": null,
      "outputs": [
        {
          "output_type": "execute_result",
          "data": {
            "text/plain": [
              "1980"
            ]
          },
          "metadata": {},
          "execution_count": 137
        }
      ]
    },
    {
      "cell_type": "markdown",
      "source": [
        "This is shown in the following image"
      ],
      "metadata": {
        "id": "P7gEulJIe8SB"
      }
    },
    {
      "cell_type": "markdown",
      "source": [
        "<img src=\"https://cf-courses-data.s3.us.cloud-object-storage.appdomain.cloud/IBMDeveloperSkillsNetwork-PY0101EN-SkillsNetwork/labs/Module%204/images/2_loc.PNG\" width=\"750\" />"
      ],
      "metadata": {
        "id": "MZLlCgsse-31"
      }
    },
    {
      "cell_type": "markdown",
      "source": [
        "You can access the column using the name as well, the following are the same as above:"
      ],
      "metadata": {
        "id": "LyMFwppsfBba"
      }
    },
    {
      "cell_type": "code",
      "source": [
        "# Access the column using the name\n",
        "\n",
        "df.loc[0, 'Artist']"
      ],
      "metadata": {
        "colab": {
          "base_uri": "https://localhost:8080/",
          "height": 35
        },
        "id": "knDNYAaLfBFM",
        "outputId": "3a5ca150-0fde-479a-f166-0f511ea4a47f"
      },
      "execution_count": null,
      "outputs": [
        {
          "output_type": "execute_result",
          "data": {
            "text/plain": [
              "'Michael Jackson'"
            ],
            "application/vnd.google.colaboratory.intrinsic+json": {
              "type": "string"
            }
          },
          "metadata": {},
          "execution_count": 140
        }
      ]
    },
    {
      "cell_type": "code",
      "source": [
        "# Access the column using the name\n",
        "\n",
        "df.loc[1, 'Artist']"
      ],
      "metadata": {
        "colab": {
          "base_uri": "https://localhost:8080/",
          "height": 35
        },
        "id": "QNafSgcwfHnP",
        "outputId": "2f80eda0-bfce-4e51-d92b-fed71812fc00"
      },
      "execution_count": null,
      "outputs": [
        {
          "output_type": "execute_result",
          "data": {
            "text/plain": [
              "'AC/DC'"
            ],
            "application/vnd.google.colaboratory.intrinsic+json": {
              "type": "string"
            }
          },
          "metadata": {},
          "execution_count": 141
        }
      ]
    },
    {
      "cell_type": "code",
      "source": [
        "# Access the column using the name\n",
        "\n",
        "df.loc[0, 'Released']"
      ],
      "metadata": {
        "colab": {
          "base_uri": "https://localhost:8080/"
        },
        "id": "fU4k4TQTfROS",
        "outputId": "b899ec86-1d08-467c-cb18-84257b7d6356"
      },
      "execution_count": null,
      "outputs": [
        {
          "output_type": "execute_result",
          "data": {
            "text/plain": [
              "1982"
            ]
          },
          "metadata": {},
          "execution_count": 142
        }
      ]
    },
    {
      "cell_type": "code",
      "source": [
        "# Access the column using the name\n",
        "\n",
        "df.loc[1, 'Released']"
      ],
      "metadata": {
        "colab": {
          "base_uri": "https://localhost:8080/"
        },
        "id": "qFiIPSutfRBe",
        "outputId": "b061495e-1613-4157-a6e2-866171826557"
      },
      "execution_count": null,
      "outputs": [
        {
          "output_type": "execute_result",
          "data": {
            "text/plain": [
              "1980"
            ]
          },
          "metadata": {},
          "execution_count": 143
        }
      ]
    },
    {
      "cell_type": "markdown",
      "source": [
        "<img src=\"https://cf-courses-data.s3.us.cloud-object-storage.appdomain.cloud/IBMDeveloperSkillsNetwork-PY0101EN-SkillsNetwork/labs/Module%204/images/1_loc.png\" width=\"750\" />"
      ],
      "metadata": {
        "id": "hC06Vr1LfQM6"
      }
    },
    {
      "cell_type": "markdown",
      "source": [
        "You can perform slicing using both the index and the name of the column:"
      ],
      "metadata": {
        "id": "BqR-4yYkfZGR"
      }
    },
    {
      "cell_type": "code",
      "source": [
        "# Slicing the dataframe\n",
        "\n",
        "df.iloc[0:2, 0:3]"
      ],
      "metadata": {
        "colab": {
          "base_uri": "https://localhost:8080/",
          "height": 112
        },
        "id": "TWF0TrvHfe9V",
        "outputId": "148504a0-1204-4e83-9e8e-67e9ca356e68"
      },
      "execution_count": null,
      "outputs": [
        {
          "output_type": "execute_result",
          "data": {
            "text/plain": [
              "            Artist          Album  Released\n",
              "0  Michael Jackson       Thriller      1982\n",
              "1            AC/DC  Back in Black      1980"
            ],
            "text/html": [
              "\n",
              "  <div id=\"df-1b42e377-68dc-46c2-80dc-f840b9bab100\">\n",
              "    <div class=\"colab-df-container\">\n",
              "      <div>\n",
              "<style scoped>\n",
              "    .dataframe tbody tr th:only-of-type {\n",
              "        vertical-align: middle;\n",
              "    }\n",
              "\n",
              "    .dataframe tbody tr th {\n",
              "        vertical-align: top;\n",
              "    }\n",
              "\n",
              "    .dataframe thead th {\n",
              "        text-align: right;\n",
              "    }\n",
              "</style>\n",
              "<table border=\"1\" class=\"dataframe\">\n",
              "  <thead>\n",
              "    <tr style=\"text-align: right;\">\n",
              "      <th></th>\n",
              "      <th>Artist</th>\n",
              "      <th>Album</th>\n",
              "      <th>Released</th>\n",
              "    </tr>\n",
              "  </thead>\n",
              "  <tbody>\n",
              "    <tr>\n",
              "      <th>0</th>\n",
              "      <td>Michael Jackson</td>\n",
              "      <td>Thriller</td>\n",
              "      <td>1982</td>\n",
              "    </tr>\n",
              "    <tr>\n",
              "      <th>1</th>\n",
              "      <td>AC/DC</td>\n",
              "      <td>Back in Black</td>\n",
              "      <td>1980</td>\n",
              "    </tr>\n",
              "  </tbody>\n",
              "</table>\n",
              "</div>\n",
              "      <button class=\"colab-df-convert\" onclick=\"convertToInteractive('df-1b42e377-68dc-46c2-80dc-f840b9bab100')\"\n",
              "              title=\"Convert this dataframe to an interactive table.\"\n",
              "              style=\"display:none;\">\n",
              "        \n",
              "  <svg xmlns=\"http://www.w3.org/2000/svg\" height=\"24px\"viewBox=\"0 0 24 24\"\n",
              "       width=\"24px\">\n",
              "    <path d=\"M0 0h24v24H0V0z\" fill=\"none\"/>\n",
              "    <path d=\"M18.56 5.44l.94 2.06.94-2.06 2.06-.94-2.06-.94-.94-2.06-.94 2.06-2.06.94zm-11 1L8.5 8.5l.94-2.06 2.06-.94-2.06-.94L8.5 2.5l-.94 2.06-2.06.94zm10 10l.94 2.06.94-2.06 2.06-.94-2.06-.94-.94-2.06-.94 2.06-2.06.94z\"/><path d=\"M17.41 7.96l-1.37-1.37c-.4-.4-.92-.59-1.43-.59-.52 0-1.04.2-1.43.59L10.3 9.45l-7.72 7.72c-.78.78-.78 2.05 0 2.83L4 21.41c.39.39.9.59 1.41.59.51 0 1.02-.2 1.41-.59l7.78-7.78 2.81-2.81c.8-.78.8-2.07 0-2.86zM5.41 20L4 18.59l7.72-7.72 1.47 1.35L5.41 20z\"/>\n",
              "  </svg>\n",
              "      </button>\n",
              "      \n",
              "  <style>\n",
              "    .colab-df-container {\n",
              "      display:flex;\n",
              "      flex-wrap:wrap;\n",
              "      gap: 12px;\n",
              "    }\n",
              "\n",
              "    .colab-df-convert {\n",
              "      background-color: #E8F0FE;\n",
              "      border: none;\n",
              "      border-radius: 50%;\n",
              "      cursor: pointer;\n",
              "      display: none;\n",
              "      fill: #1967D2;\n",
              "      height: 32px;\n",
              "      padding: 0 0 0 0;\n",
              "      width: 32px;\n",
              "    }\n",
              "\n",
              "    .colab-df-convert:hover {\n",
              "      background-color: #E2EBFA;\n",
              "      box-shadow: 0px 1px 2px rgba(60, 64, 67, 0.3), 0px 1px 3px 1px rgba(60, 64, 67, 0.15);\n",
              "      fill: #174EA6;\n",
              "    }\n",
              "\n",
              "    [theme=dark] .colab-df-convert {\n",
              "      background-color: #3B4455;\n",
              "      fill: #D2E3FC;\n",
              "    }\n",
              "\n",
              "    [theme=dark] .colab-df-convert:hover {\n",
              "      background-color: #434B5C;\n",
              "      box-shadow: 0px 1px 3px 1px rgba(0, 0, 0, 0.15);\n",
              "      filter: drop-shadow(0px 1px 2px rgba(0, 0, 0, 0.3));\n",
              "      fill: #FFFFFF;\n",
              "    }\n",
              "  </style>\n",
              "\n",
              "      <script>\n",
              "        const buttonEl =\n",
              "          document.querySelector('#df-1b42e377-68dc-46c2-80dc-f840b9bab100 button.colab-df-convert');\n",
              "        buttonEl.style.display =\n",
              "          google.colab.kernel.accessAllowed ? 'block' : 'none';\n",
              "\n",
              "        async function convertToInteractive(key) {\n",
              "          const element = document.querySelector('#df-1b42e377-68dc-46c2-80dc-f840b9bab100');\n",
              "          const dataTable =\n",
              "            await google.colab.kernel.invokeFunction('convertToInteractive',\n",
              "                                                     [key], {});\n",
              "          if (!dataTable) return;\n",
              "\n",
              "          const docLinkHtml = 'Like what you see? Visit the ' +\n",
              "            '<a target=\"_blank\" href=https://colab.research.google.com/notebooks/data_table.ipynb>data table notebook</a>'\n",
              "            + ' to learn more about interactive tables.';\n",
              "          element.innerHTML = '';\n",
              "          dataTable['output_type'] = 'display_data';\n",
              "          await google.colab.output.renderOutput(dataTable, element);\n",
              "          const docLink = document.createElement('div');\n",
              "          docLink.innerHTML = docLinkHtml;\n",
              "          element.appendChild(docLink);\n",
              "        }\n",
              "      </script>\n",
              "    </div>\n",
              "  </div>\n",
              "  "
            ]
          },
          "metadata": {},
          "execution_count": 144
        }
      ]
    },
    {
      "cell_type": "markdown",
      "source": [
        "<img src=\"https://cf-courses-data.s3.us.cloud-object-storage.appdomain.cloud/IBMDeveloperSkillsNetwork-PY0101EN-SkillsNetwork/labs/Module%204/images/4_loc.png\" width=\"750\" />"
      ],
      "metadata": {
        "id": "pEDT3oE3fiK7"
      }
    },
    {
      "cell_type": "code",
      "source": [
        "# Slicing the dataframe using name\n",
        "\n",
        "df.loc[0:2, 'Artist':'Released']"
      ],
      "metadata": {
        "colab": {
          "base_uri": "https://localhost:8080/",
          "height": 143
        },
        "id": "-krbkNE_fjfD",
        "outputId": "a1bc6e2b-ae3a-4716-a8b5-e5c1859ba025"
      },
      "execution_count": null,
      "outputs": [
        {
          "output_type": "execute_result",
          "data": {
            "text/plain": [
              "            Artist                      Album  Released\n",
              "0  Michael Jackson                   Thriller      1982\n",
              "1            AC/DC              Back in Black      1980\n",
              "2       Pink Floyd  The Dark Side of the Moon      1973"
            ],
            "text/html": [
              "\n",
              "  <div id=\"df-7bf29075-af5f-48d7-901d-8b08909588c4\">\n",
              "    <div class=\"colab-df-container\">\n",
              "      <div>\n",
              "<style scoped>\n",
              "    .dataframe tbody tr th:only-of-type {\n",
              "        vertical-align: middle;\n",
              "    }\n",
              "\n",
              "    .dataframe tbody tr th {\n",
              "        vertical-align: top;\n",
              "    }\n",
              "\n",
              "    .dataframe thead th {\n",
              "        text-align: right;\n",
              "    }\n",
              "</style>\n",
              "<table border=\"1\" class=\"dataframe\">\n",
              "  <thead>\n",
              "    <tr style=\"text-align: right;\">\n",
              "      <th></th>\n",
              "      <th>Artist</th>\n",
              "      <th>Album</th>\n",
              "      <th>Released</th>\n",
              "    </tr>\n",
              "  </thead>\n",
              "  <tbody>\n",
              "    <tr>\n",
              "      <th>0</th>\n",
              "      <td>Michael Jackson</td>\n",
              "      <td>Thriller</td>\n",
              "      <td>1982</td>\n",
              "    </tr>\n",
              "    <tr>\n",
              "      <th>1</th>\n",
              "      <td>AC/DC</td>\n",
              "      <td>Back in Black</td>\n",
              "      <td>1980</td>\n",
              "    </tr>\n",
              "    <tr>\n",
              "      <th>2</th>\n",
              "      <td>Pink Floyd</td>\n",
              "      <td>The Dark Side of the Moon</td>\n",
              "      <td>1973</td>\n",
              "    </tr>\n",
              "  </tbody>\n",
              "</table>\n",
              "</div>\n",
              "      <button class=\"colab-df-convert\" onclick=\"convertToInteractive('df-7bf29075-af5f-48d7-901d-8b08909588c4')\"\n",
              "              title=\"Convert this dataframe to an interactive table.\"\n",
              "              style=\"display:none;\">\n",
              "        \n",
              "  <svg xmlns=\"http://www.w3.org/2000/svg\" height=\"24px\"viewBox=\"0 0 24 24\"\n",
              "       width=\"24px\">\n",
              "    <path d=\"M0 0h24v24H0V0z\" fill=\"none\"/>\n",
              "    <path d=\"M18.56 5.44l.94 2.06.94-2.06 2.06-.94-2.06-.94-.94-2.06-.94 2.06-2.06.94zm-11 1L8.5 8.5l.94-2.06 2.06-.94-2.06-.94L8.5 2.5l-.94 2.06-2.06.94zm10 10l.94 2.06.94-2.06 2.06-.94-2.06-.94-.94-2.06-.94 2.06-2.06.94z\"/><path d=\"M17.41 7.96l-1.37-1.37c-.4-.4-.92-.59-1.43-.59-.52 0-1.04.2-1.43.59L10.3 9.45l-7.72 7.72c-.78.78-.78 2.05 0 2.83L4 21.41c.39.39.9.59 1.41.59.51 0 1.02-.2 1.41-.59l7.78-7.78 2.81-2.81c.8-.78.8-2.07 0-2.86zM5.41 20L4 18.59l7.72-7.72 1.47 1.35L5.41 20z\"/>\n",
              "  </svg>\n",
              "      </button>\n",
              "      \n",
              "  <style>\n",
              "    .colab-df-container {\n",
              "      display:flex;\n",
              "      flex-wrap:wrap;\n",
              "      gap: 12px;\n",
              "    }\n",
              "\n",
              "    .colab-df-convert {\n",
              "      background-color: #E8F0FE;\n",
              "      border: none;\n",
              "      border-radius: 50%;\n",
              "      cursor: pointer;\n",
              "      display: none;\n",
              "      fill: #1967D2;\n",
              "      height: 32px;\n",
              "      padding: 0 0 0 0;\n",
              "      width: 32px;\n",
              "    }\n",
              "\n",
              "    .colab-df-convert:hover {\n",
              "      background-color: #E2EBFA;\n",
              "      box-shadow: 0px 1px 2px rgba(60, 64, 67, 0.3), 0px 1px 3px 1px rgba(60, 64, 67, 0.15);\n",
              "      fill: #174EA6;\n",
              "    }\n",
              "\n",
              "    [theme=dark] .colab-df-convert {\n",
              "      background-color: #3B4455;\n",
              "      fill: #D2E3FC;\n",
              "    }\n",
              "\n",
              "    [theme=dark] .colab-df-convert:hover {\n",
              "      background-color: #434B5C;\n",
              "      box-shadow: 0px 1px 3px 1px rgba(0, 0, 0, 0.15);\n",
              "      filter: drop-shadow(0px 1px 2px rgba(0, 0, 0, 0.3));\n",
              "      fill: #FFFFFF;\n",
              "    }\n",
              "  </style>\n",
              "\n",
              "      <script>\n",
              "        const buttonEl =\n",
              "          document.querySelector('#df-7bf29075-af5f-48d7-901d-8b08909588c4 button.colab-df-convert');\n",
              "        buttonEl.style.display =\n",
              "          google.colab.kernel.accessAllowed ? 'block' : 'none';\n",
              "\n",
              "        async function convertToInteractive(key) {\n",
              "          const element = document.querySelector('#df-7bf29075-af5f-48d7-901d-8b08909588c4');\n",
              "          const dataTable =\n",
              "            await google.colab.kernel.invokeFunction('convertToInteractive',\n",
              "                                                     [key], {});\n",
              "          if (!dataTable) return;\n",
              "\n",
              "          const docLinkHtml = 'Like what you see? Visit the ' +\n",
              "            '<a target=\"_blank\" href=https://colab.research.google.com/notebooks/data_table.ipynb>data table notebook</a>'\n",
              "            + ' to learn more about interactive tables.';\n",
              "          element.innerHTML = '';\n",
              "          dataTable['output_type'] = 'display_data';\n",
              "          await google.colab.output.renderOutput(dataTable, element);\n",
              "          const docLink = document.createElement('div');\n",
              "          docLink.innerHTML = docLinkHtml;\n",
              "          element.appendChild(docLink);\n",
              "        }\n",
              "      </script>\n",
              "    </div>\n",
              "  </div>\n",
              "  "
            ]
          },
          "metadata": {},
          "execution_count": 145
        }
      ]
    },
    {
      "cell_type": "markdown",
      "source": [
        "<img src=\"https://cf-courses-data.s3.us.cloud-object-storage.appdomain.cloud/IBMDeveloperSkillsNetwork-PY0101EN-SkillsNetwork/labs/Module%204/images/3_loc.png\" width=\"750\" />\n"
      ],
      "metadata": {
        "id": "iYMrB04UfoGn"
      }
    },
    {
      "cell_type": "markdown",
      "source": [
        "<h2 id=\"quiz\">Quiz on DataFrame</h2>"
      ],
      "metadata": {
        "id": "vpuAUisAfpGI"
      }
    },
    {
      "cell_type": "markdown",
      "source": [
        "Use a variable <code>q</code> to store the column <b>Rating</b> as a dataframe"
      ],
      "metadata": {
        "id": "6Fuql33HfuGZ"
      }
    },
    {
      "cell_type": "code",
      "source": [
        "# Write your code below and press Shift+Enter to execute\n",
        "q = df[['Rating']]\n",
        "q"
      ],
      "metadata": {
        "colab": {
          "base_uri": "https://localhost:8080/",
          "height": 300
        },
        "id": "USkjp2Ckfs0x",
        "outputId": "87e73cee-73ac-45b6-f7f2-a89f20f33244"
      },
      "execution_count": null,
      "outputs": [
        {
          "output_type": "execute_result",
          "data": {
            "text/plain": [
              "   Rating\n",
              "0    10.0\n",
              "1     9.5\n",
              "2     9.0\n",
              "3     8.5\n",
              "4     8.0\n",
              "5     7.5\n",
              "6     7.0\n",
              "7     6.5"
            ],
            "text/html": [
              "\n",
              "  <div id=\"df-2e5e5304-0902-44fe-8f3f-bac3eb0ad87d\">\n",
              "    <div class=\"colab-df-container\">\n",
              "      <div>\n",
              "<style scoped>\n",
              "    .dataframe tbody tr th:only-of-type {\n",
              "        vertical-align: middle;\n",
              "    }\n",
              "\n",
              "    .dataframe tbody tr th {\n",
              "        vertical-align: top;\n",
              "    }\n",
              "\n",
              "    .dataframe thead th {\n",
              "        text-align: right;\n",
              "    }\n",
              "</style>\n",
              "<table border=\"1\" class=\"dataframe\">\n",
              "  <thead>\n",
              "    <tr style=\"text-align: right;\">\n",
              "      <th></th>\n",
              "      <th>Rating</th>\n",
              "    </tr>\n",
              "  </thead>\n",
              "  <tbody>\n",
              "    <tr>\n",
              "      <th>0</th>\n",
              "      <td>10.0</td>\n",
              "    </tr>\n",
              "    <tr>\n",
              "      <th>1</th>\n",
              "      <td>9.5</td>\n",
              "    </tr>\n",
              "    <tr>\n",
              "      <th>2</th>\n",
              "      <td>9.0</td>\n",
              "    </tr>\n",
              "    <tr>\n",
              "      <th>3</th>\n",
              "      <td>8.5</td>\n",
              "    </tr>\n",
              "    <tr>\n",
              "      <th>4</th>\n",
              "      <td>8.0</td>\n",
              "    </tr>\n",
              "    <tr>\n",
              "      <th>5</th>\n",
              "      <td>7.5</td>\n",
              "    </tr>\n",
              "    <tr>\n",
              "      <th>6</th>\n",
              "      <td>7.0</td>\n",
              "    </tr>\n",
              "    <tr>\n",
              "      <th>7</th>\n",
              "      <td>6.5</td>\n",
              "    </tr>\n",
              "  </tbody>\n",
              "</table>\n",
              "</div>\n",
              "      <button class=\"colab-df-convert\" onclick=\"convertToInteractive('df-2e5e5304-0902-44fe-8f3f-bac3eb0ad87d')\"\n",
              "              title=\"Convert this dataframe to an interactive table.\"\n",
              "              style=\"display:none;\">\n",
              "        \n",
              "  <svg xmlns=\"http://www.w3.org/2000/svg\" height=\"24px\"viewBox=\"0 0 24 24\"\n",
              "       width=\"24px\">\n",
              "    <path d=\"M0 0h24v24H0V0z\" fill=\"none\"/>\n",
              "    <path d=\"M18.56 5.44l.94 2.06.94-2.06 2.06-.94-2.06-.94-.94-2.06-.94 2.06-2.06.94zm-11 1L8.5 8.5l.94-2.06 2.06-.94-2.06-.94L8.5 2.5l-.94 2.06-2.06.94zm10 10l.94 2.06.94-2.06 2.06-.94-2.06-.94-.94-2.06-.94 2.06-2.06.94z\"/><path d=\"M17.41 7.96l-1.37-1.37c-.4-.4-.92-.59-1.43-.59-.52 0-1.04.2-1.43.59L10.3 9.45l-7.72 7.72c-.78.78-.78 2.05 0 2.83L4 21.41c.39.39.9.59 1.41.59.51 0 1.02-.2 1.41-.59l7.78-7.78 2.81-2.81c.8-.78.8-2.07 0-2.86zM5.41 20L4 18.59l7.72-7.72 1.47 1.35L5.41 20z\"/>\n",
              "  </svg>\n",
              "      </button>\n",
              "      \n",
              "  <style>\n",
              "    .colab-df-container {\n",
              "      display:flex;\n",
              "      flex-wrap:wrap;\n",
              "      gap: 12px;\n",
              "    }\n",
              "\n",
              "    .colab-df-convert {\n",
              "      background-color: #E8F0FE;\n",
              "      border: none;\n",
              "      border-radius: 50%;\n",
              "      cursor: pointer;\n",
              "      display: none;\n",
              "      fill: #1967D2;\n",
              "      height: 32px;\n",
              "      padding: 0 0 0 0;\n",
              "      width: 32px;\n",
              "    }\n",
              "\n",
              "    .colab-df-convert:hover {\n",
              "      background-color: #E2EBFA;\n",
              "      box-shadow: 0px 1px 2px rgba(60, 64, 67, 0.3), 0px 1px 3px 1px rgba(60, 64, 67, 0.15);\n",
              "      fill: #174EA6;\n",
              "    }\n",
              "\n",
              "    [theme=dark] .colab-df-convert {\n",
              "      background-color: #3B4455;\n",
              "      fill: #D2E3FC;\n",
              "    }\n",
              "\n",
              "    [theme=dark] .colab-df-convert:hover {\n",
              "      background-color: #434B5C;\n",
              "      box-shadow: 0px 1px 3px 1px rgba(0, 0, 0, 0.15);\n",
              "      filter: drop-shadow(0px 1px 2px rgba(0, 0, 0, 0.3));\n",
              "      fill: #FFFFFF;\n",
              "    }\n",
              "  </style>\n",
              "\n",
              "      <script>\n",
              "        const buttonEl =\n",
              "          document.querySelector('#df-2e5e5304-0902-44fe-8f3f-bac3eb0ad87d button.colab-df-convert');\n",
              "        buttonEl.style.display =\n",
              "          google.colab.kernel.accessAllowed ? 'block' : 'none';\n",
              "\n",
              "        async function convertToInteractive(key) {\n",
              "          const element = document.querySelector('#df-2e5e5304-0902-44fe-8f3f-bac3eb0ad87d');\n",
              "          const dataTable =\n",
              "            await google.colab.kernel.invokeFunction('convertToInteractive',\n",
              "                                                     [key], {});\n",
              "          if (!dataTable) return;\n",
              "\n",
              "          const docLinkHtml = 'Like what you see? Visit the ' +\n",
              "            '<a target=\"_blank\" href=https://colab.research.google.com/notebooks/data_table.ipynb>data table notebook</a>'\n",
              "            + ' to learn more about interactive tables.';\n",
              "          element.innerHTML = '';\n",
              "          dataTable['output_type'] = 'display_data';\n",
              "          await google.colab.output.renderOutput(dataTable, element);\n",
              "          const docLink = document.createElement('div');\n",
              "          docLink.innerHTML = docLinkHtml;\n",
              "          element.appendChild(docLink);\n",
              "        }\n",
              "      </script>\n",
              "    </div>\n",
              "  </div>\n",
              "  "
            ]
          },
          "metadata": {},
          "execution_count": 147
        }
      ]
    },
    {
      "cell_type": "markdown",
      "source": [
        "Assign the variable <code>q</code> to the dataframe that is made up of the column <b>Released</b> and <b>Artist</b>:"
      ],
      "metadata": {
        "id": "Hbz3aMTRf7rq"
      }
    },
    {
      "cell_type": "code",
      "source": [
        "# Write your code below and press Shift+Enter to execute\n",
        "q = df[['Released','Artist']]\n",
        "q"
      ],
      "metadata": {
        "colab": {
          "base_uri": "https://localhost:8080/",
          "height": 300
        },
        "id": "CIOIzK3Hf8SX",
        "outputId": "4c71ac40-4e12-4102-cdb9-34cd0cf862a3"
      },
      "execution_count": null,
      "outputs": [
        {
          "output_type": "execute_result",
          "data": {
            "text/plain": [
              "   Released           Artist\n",
              "0      1982  Michael Jackson\n",
              "1      1980            AC/DC\n",
              "2      1973       Pink Floyd\n",
              "3      1992  Whitney Houston\n",
              "4      1977        Meat Loaf\n",
              "5      1976           Eagles\n",
              "6      1977         Bee Gees\n",
              "7      1977    Fleetwood Mac"
            ],
            "text/html": [
              "\n",
              "  <div id=\"df-91ddc6dc-b25c-4941-85ba-3b925cc7a689\">\n",
              "    <div class=\"colab-df-container\">\n",
              "      <div>\n",
              "<style scoped>\n",
              "    .dataframe tbody tr th:only-of-type {\n",
              "        vertical-align: middle;\n",
              "    }\n",
              "\n",
              "    .dataframe tbody tr th {\n",
              "        vertical-align: top;\n",
              "    }\n",
              "\n",
              "    .dataframe thead th {\n",
              "        text-align: right;\n",
              "    }\n",
              "</style>\n",
              "<table border=\"1\" class=\"dataframe\">\n",
              "  <thead>\n",
              "    <tr style=\"text-align: right;\">\n",
              "      <th></th>\n",
              "      <th>Released</th>\n",
              "      <th>Artist</th>\n",
              "    </tr>\n",
              "  </thead>\n",
              "  <tbody>\n",
              "    <tr>\n",
              "      <th>0</th>\n",
              "      <td>1982</td>\n",
              "      <td>Michael Jackson</td>\n",
              "    </tr>\n",
              "    <tr>\n",
              "      <th>1</th>\n",
              "      <td>1980</td>\n",
              "      <td>AC/DC</td>\n",
              "    </tr>\n",
              "    <tr>\n",
              "      <th>2</th>\n",
              "      <td>1973</td>\n",
              "      <td>Pink Floyd</td>\n",
              "    </tr>\n",
              "    <tr>\n",
              "      <th>3</th>\n",
              "      <td>1992</td>\n",
              "      <td>Whitney Houston</td>\n",
              "    </tr>\n",
              "    <tr>\n",
              "      <th>4</th>\n",
              "      <td>1977</td>\n",
              "      <td>Meat Loaf</td>\n",
              "    </tr>\n",
              "    <tr>\n",
              "      <th>5</th>\n",
              "      <td>1976</td>\n",
              "      <td>Eagles</td>\n",
              "    </tr>\n",
              "    <tr>\n",
              "      <th>6</th>\n",
              "      <td>1977</td>\n",
              "      <td>Bee Gees</td>\n",
              "    </tr>\n",
              "    <tr>\n",
              "      <th>7</th>\n",
              "      <td>1977</td>\n",
              "      <td>Fleetwood Mac</td>\n",
              "    </tr>\n",
              "  </tbody>\n",
              "</table>\n",
              "</div>\n",
              "      <button class=\"colab-df-convert\" onclick=\"convertToInteractive('df-91ddc6dc-b25c-4941-85ba-3b925cc7a689')\"\n",
              "              title=\"Convert this dataframe to an interactive table.\"\n",
              "              style=\"display:none;\">\n",
              "        \n",
              "  <svg xmlns=\"http://www.w3.org/2000/svg\" height=\"24px\"viewBox=\"0 0 24 24\"\n",
              "       width=\"24px\">\n",
              "    <path d=\"M0 0h24v24H0V0z\" fill=\"none\"/>\n",
              "    <path d=\"M18.56 5.44l.94 2.06.94-2.06 2.06-.94-2.06-.94-.94-2.06-.94 2.06-2.06.94zm-11 1L8.5 8.5l.94-2.06 2.06-.94-2.06-.94L8.5 2.5l-.94 2.06-2.06.94zm10 10l.94 2.06.94-2.06 2.06-.94-2.06-.94-.94-2.06-.94 2.06-2.06.94z\"/><path d=\"M17.41 7.96l-1.37-1.37c-.4-.4-.92-.59-1.43-.59-.52 0-1.04.2-1.43.59L10.3 9.45l-7.72 7.72c-.78.78-.78 2.05 0 2.83L4 21.41c.39.39.9.59 1.41.59.51 0 1.02-.2 1.41-.59l7.78-7.78 2.81-2.81c.8-.78.8-2.07 0-2.86zM5.41 20L4 18.59l7.72-7.72 1.47 1.35L5.41 20z\"/>\n",
              "  </svg>\n",
              "      </button>\n",
              "      \n",
              "  <style>\n",
              "    .colab-df-container {\n",
              "      display:flex;\n",
              "      flex-wrap:wrap;\n",
              "      gap: 12px;\n",
              "    }\n",
              "\n",
              "    .colab-df-convert {\n",
              "      background-color: #E8F0FE;\n",
              "      border: none;\n",
              "      border-radius: 50%;\n",
              "      cursor: pointer;\n",
              "      display: none;\n",
              "      fill: #1967D2;\n",
              "      height: 32px;\n",
              "      padding: 0 0 0 0;\n",
              "      width: 32px;\n",
              "    }\n",
              "\n",
              "    .colab-df-convert:hover {\n",
              "      background-color: #E2EBFA;\n",
              "      box-shadow: 0px 1px 2px rgba(60, 64, 67, 0.3), 0px 1px 3px 1px rgba(60, 64, 67, 0.15);\n",
              "      fill: #174EA6;\n",
              "    }\n",
              "\n",
              "    [theme=dark] .colab-df-convert {\n",
              "      background-color: #3B4455;\n",
              "      fill: #D2E3FC;\n",
              "    }\n",
              "\n",
              "    [theme=dark] .colab-df-convert:hover {\n",
              "      background-color: #434B5C;\n",
              "      box-shadow: 0px 1px 3px 1px rgba(0, 0, 0, 0.15);\n",
              "      filter: drop-shadow(0px 1px 2px rgba(0, 0, 0, 0.3));\n",
              "      fill: #FFFFFF;\n",
              "    }\n",
              "  </style>\n",
              "\n",
              "      <script>\n",
              "        const buttonEl =\n",
              "          document.querySelector('#df-91ddc6dc-b25c-4941-85ba-3b925cc7a689 button.colab-df-convert');\n",
              "        buttonEl.style.display =\n",
              "          google.colab.kernel.accessAllowed ? 'block' : 'none';\n",
              "\n",
              "        async function convertToInteractive(key) {\n",
              "          const element = document.querySelector('#df-91ddc6dc-b25c-4941-85ba-3b925cc7a689');\n",
              "          const dataTable =\n",
              "            await google.colab.kernel.invokeFunction('convertToInteractive',\n",
              "                                                     [key], {});\n",
              "          if (!dataTable) return;\n",
              "\n",
              "          const docLinkHtml = 'Like what you see? Visit the ' +\n",
              "            '<a target=\"_blank\" href=https://colab.research.google.com/notebooks/data_table.ipynb>data table notebook</a>'\n",
              "            + ' to learn more about interactive tables.';\n",
              "          element.innerHTML = '';\n",
              "          dataTable['output_type'] = 'display_data';\n",
              "          await google.colab.output.renderOutput(dataTable, element);\n",
              "          const docLink = document.createElement('div');\n",
              "          docLink.innerHTML = docLinkHtml;\n",
              "          element.appendChild(docLink);\n",
              "        }\n",
              "      </script>\n",
              "    </div>\n",
              "  </div>\n",
              "  "
            ]
          },
          "metadata": {},
          "execution_count": 148
        }
      ]
    },
    {
      "cell_type": "markdown",
      "source": [
        "Access the 2nd row and the 3rd column of <code>df</code>:"
      ],
      "metadata": {
        "id": "TU0SIJ6egKxk"
      }
    },
    {
      "cell_type": "code",
      "source": [
        "# Write your code below and press Shift+Enter to execute\n",
        "df.iloc[1,2]"
      ],
      "metadata": {
        "colab": {
          "base_uri": "https://localhost:8080/"
        },
        "id": "WLtHrkIAgLXv",
        "outputId": "6015b14b-205e-491e-a035-cb755ec24aa5"
      },
      "execution_count": null,
      "outputs": [
        {
          "output_type": "execute_result",
          "data": {
            "text/plain": [
              "1980"
            ]
          },
          "metadata": {},
          "execution_count": 151
        }
      ]
    },
    {
      "cell_type": "markdown",
      "source": [
        "Use the following list to convert the dataframe index <code>df</code> to characters and assign it to <code>df_new</code>; find the element corresponding to the row index <code>a</code> and column  <code>'Artist'</code>. Then select the rows <code>a</code> through <code>d</code> for the column  <code>'Artist'</code>"
      ],
      "metadata": {
        "id": "JqaF-CUtghs7"
      }
    },
    {
      "cell_type": "code",
      "source": [
        "new_index=['a','b','c','d','e','f','g','h']\n",
        "\n",
        "df_new = df\n",
        "df_new.index = new_index\n",
        "df_new.loc['a':'d','Artist']"
      ],
      "metadata": {
        "colab": {
          "base_uri": "https://localhost:8080/"
        },
        "id": "uId981swgiQH",
        "outputId": "77ff7f6a-72d6-4e4d-ee4b-92316dca54a1"
      },
      "execution_count": null,
      "outputs": [
        {
          "output_type": "execute_result",
          "data": {
            "text/plain": [
              "a    Michael Jackson\n",
              "b              AC/DC\n",
              "c         Pink Floyd\n",
              "d    Whitney Houston\n",
              "Name: Artist, dtype: object"
            ]
          },
          "metadata": {},
          "execution_count": 153
        }
      ]
    },
    {
      "cell_type": "markdown",
      "source": [
        "### Questions"
      ],
      "metadata": {
        "id": "LaakaZADdGSA"
      }
    },
    {
      "cell_type": "code",
      "source": [
        "# Question 1: Consider the dataframe df. How would you find the element in the second row and first column?\n",
        "#df.ix[1,0] or df.iloc[1,0]"
      ],
      "metadata": {
        "id": "HFLTLeX5KjfT"
      },
      "execution_count": null,
      "outputs": []
    },
    {
      "cell_type": "code",
      "source": [
        "# Question 2: Will the following code run?\n",
        "\n",
        "import pandas as banana\n",
        "\n",
        "df=banana.DataFrame({'a':[11,21,31],'b':[21,22,23]})\n",
        "\n",
        "df.head()"
      ],
      "metadata": {
        "colab": {
          "base_uri": "https://localhost:8080/",
          "height": 143
        },
        "id": "ii1GFwM8Mysl",
        "outputId": "b228fff4-6dae-483c-a391-28c0efb6a4d7"
      },
      "execution_count": null,
      "outputs": [
        {
          "output_type": "execute_result",
          "data": {
            "text/plain": [
              "    a   b\n",
              "0  11  21\n",
              "1  21  22\n",
              "2  31  23"
            ],
            "text/html": [
              "\n",
              "  <div id=\"df-1ddb0293-08b5-42d7-bec8-6a4a13f8f48d\">\n",
              "    <div class=\"colab-df-container\">\n",
              "      <div>\n",
              "<style scoped>\n",
              "    .dataframe tbody tr th:only-of-type {\n",
              "        vertical-align: middle;\n",
              "    }\n",
              "\n",
              "    .dataframe tbody tr th {\n",
              "        vertical-align: top;\n",
              "    }\n",
              "\n",
              "    .dataframe thead th {\n",
              "        text-align: right;\n",
              "    }\n",
              "</style>\n",
              "<table border=\"1\" class=\"dataframe\">\n",
              "  <thead>\n",
              "    <tr style=\"text-align: right;\">\n",
              "      <th></th>\n",
              "      <th>a</th>\n",
              "      <th>b</th>\n",
              "    </tr>\n",
              "  </thead>\n",
              "  <tbody>\n",
              "    <tr>\n",
              "      <th>0</th>\n",
              "      <td>11</td>\n",
              "      <td>21</td>\n",
              "    </tr>\n",
              "    <tr>\n",
              "      <th>1</th>\n",
              "      <td>21</td>\n",
              "      <td>22</td>\n",
              "    </tr>\n",
              "    <tr>\n",
              "      <th>2</th>\n",
              "      <td>31</td>\n",
              "      <td>23</td>\n",
              "    </tr>\n",
              "  </tbody>\n",
              "</table>\n",
              "</div>\n",
              "      <button class=\"colab-df-convert\" onclick=\"convertToInteractive('df-1ddb0293-08b5-42d7-bec8-6a4a13f8f48d')\"\n",
              "              title=\"Convert this dataframe to an interactive table.\"\n",
              "              style=\"display:none;\">\n",
              "        \n",
              "  <svg xmlns=\"http://www.w3.org/2000/svg\" height=\"24px\"viewBox=\"0 0 24 24\"\n",
              "       width=\"24px\">\n",
              "    <path d=\"M0 0h24v24H0V0z\" fill=\"none\"/>\n",
              "    <path d=\"M18.56 5.44l.94 2.06.94-2.06 2.06-.94-2.06-.94-.94-2.06-.94 2.06-2.06.94zm-11 1L8.5 8.5l.94-2.06 2.06-.94-2.06-.94L8.5 2.5l-.94 2.06-2.06.94zm10 10l.94 2.06.94-2.06 2.06-.94-2.06-.94-.94-2.06-.94 2.06-2.06.94z\"/><path d=\"M17.41 7.96l-1.37-1.37c-.4-.4-.92-.59-1.43-.59-.52 0-1.04.2-1.43.59L10.3 9.45l-7.72 7.72c-.78.78-.78 2.05 0 2.83L4 21.41c.39.39.9.59 1.41.59.51 0 1.02-.2 1.41-.59l7.78-7.78 2.81-2.81c.8-.78.8-2.07 0-2.86zM5.41 20L4 18.59l7.72-7.72 1.47 1.35L5.41 20z\"/>\n",
              "  </svg>\n",
              "      </button>\n",
              "      \n",
              "  <style>\n",
              "    .colab-df-container {\n",
              "      display:flex;\n",
              "      flex-wrap:wrap;\n",
              "      gap: 12px;\n",
              "    }\n",
              "\n",
              "    .colab-df-convert {\n",
              "      background-color: #E8F0FE;\n",
              "      border: none;\n",
              "      border-radius: 50%;\n",
              "      cursor: pointer;\n",
              "      display: none;\n",
              "      fill: #1967D2;\n",
              "      height: 32px;\n",
              "      padding: 0 0 0 0;\n",
              "      width: 32px;\n",
              "    }\n",
              "\n",
              "    .colab-df-convert:hover {\n",
              "      background-color: #E2EBFA;\n",
              "      box-shadow: 0px 1px 2px rgba(60, 64, 67, 0.3), 0px 1px 3px 1px rgba(60, 64, 67, 0.15);\n",
              "      fill: #174EA6;\n",
              "    }\n",
              "\n",
              "    [theme=dark] .colab-df-convert {\n",
              "      background-color: #3B4455;\n",
              "      fill: #D2E3FC;\n",
              "    }\n",
              "\n",
              "    [theme=dark] .colab-df-convert:hover {\n",
              "      background-color: #434B5C;\n",
              "      box-shadow: 0px 1px 3px 1px rgba(0, 0, 0, 0.15);\n",
              "      filter: drop-shadow(0px 1px 2px rgba(0, 0, 0, 0.3));\n",
              "      fill: #FFFFFF;\n",
              "    }\n",
              "  </style>\n",
              "\n",
              "      <script>\n",
              "        const buttonEl =\n",
              "          document.querySelector('#df-1ddb0293-08b5-42d7-bec8-6a4a13f8f48d button.colab-df-convert');\n",
              "        buttonEl.style.display =\n",
              "          google.colab.kernel.accessAllowed ? 'block' : 'none';\n",
              "\n",
              "        async function convertToInteractive(key) {\n",
              "          const element = document.querySelector('#df-1ddb0293-08b5-42d7-bec8-6a4a13f8f48d');\n",
              "          const dataTable =\n",
              "            await google.colab.kernel.invokeFunction('convertToInteractive',\n",
              "                                                     [key], {});\n",
              "          if (!dataTable) return;\n",
              "\n",
              "          const docLinkHtml = 'Like what you see? Visit the ' +\n",
              "            '<a target=\"_blank\" href=https://colab.research.google.com/notebooks/data_table.ipynb>data table notebook</a>'\n",
              "            + ' to learn more about interactive tables.';\n",
              "          element.innerHTML = '';\n",
              "          dataTable['output_type'] = 'display_data';\n",
              "          await google.colab.output.renderOutput(dataTable, element);\n",
              "          const docLink = document.createElement('div');\n",
              "          docLink.innerHTML = docLinkHtml;\n",
              "          element.appendChild(docLink);\n",
              "        }\n",
              "      </script>\n",
              "    </div>\n",
              "  </div>\n",
              "  "
            ]
          },
          "metadata": {},
          "execution_count": 121
        }
      ]
    },
    {
      "cell_type": "markdown",
      "source": [
        "## Working with and Saving Data with Pandas"
      ],
      "metadata": {
        "id": "9fjy1JY-NAnb"
      }
    },
    {
      "cell_type": "markdown",
      "source": [
        "* unique --> get unique values of a column: df['col1'].unique()\n",
        "* filter: df[df bool condition] Example: df[df[col] > #]\n",
        "* df.to_csv(\"\\<csv_name>.csv\") "
      ],
      "metadata": {
        "id": "ZuGMHyZMNCDT"
      }
    },
    {
      "cell_type": "code",
      "source": [
        "# Question 1: Consider the dataframe: df=pd.DataFrame({'a':[1,2,1],'b':[1,1,1]})\n",
        "\n",
        "#What type does the following return: df['a']==1 ?\n",
        "import pandas as pd\n",
        "df=pd.DataFrame({'a':[1,2,1],'b':[1,1,1]})\n",
        "df['a']==1\n"
      ],
      "metadata": {
        "colab": {
          "base_uri": "https://localhost:8080/"
        },
        "id": "vk66_RT2M4J8",
        "outputId": "597d2410-4045-4e04-ac32-b5c7ac35217b"
      },
      "execution_count": null,
      "outputs": [
        {
          "output_type": "execute_result",
          "data": {
            "text/plain": [
              "0     True\n",
              "1    False\n",
              "2     True\n",
              "Name: a, dtype: bool"
            ]
          },
          "metadata": {},
          "execution_count": 124
        }
      ]
    },
    {
      "cell_type": "code",
      "source": [
        "# Question 2: What task does the following method perform: df.to_csv(\"file.csv\")?\n",
        "# R= Save a dataframe to a csv file."
      ],
      "metadata": {
        "id": "Jfi-UaSEN7zB"
      },
      "execution_count": null,
      "outputs": []
    },
    {
      "cell_type": "markdown",
      "source": [
        "## Review Questions"
      ],
      "metadata": {
        "id": "Jzo16qr3Og2c"
      }
    },
    {
      "cell_type": "code",
      "source": [
        "# Question 1: What do the following lines of code do?\n",
        "\"\"\"\n",
        "with open(\"Example1.txt\",\"r\") as file1:\n",
        "\n",
        "  FileContent=file1.readlines()\n",
        "\n",
        "  print(FileContent)\n",
        "\n",
        "\"\"\"\n",
        "# R= Read the file \"Example1.txt\"."
      ],
      "metadata": {
        "colab": {
          "base_uri": "https://localhost:8080/",
          "height": 36
        },
        "id": "8xgUksolO2FG",
        "outputId": "3d39e089-d371-4338-d6bc-b043b163d7f1"
      },
      "execution_count": null,
      "outputs": [
        {
          "output_type": "execute_result",
          "data": {
            "text/plain": [
              "'\\nwith open(\"Example1.txt\",\"r\") as file1:\\n\\n  FileContent=file1.readlines()\\n\\n  print(FileContent)\\n\\n'"
            ],
            "application/vnd.google.colaboratory.intrinsic+json": {
              "type": "string"
            }
          },
          "metadata": {},
          "execution_count": 127
        }
      ]
    },
    {
      "cell_type": "code",
      "source": [
        "# Question 2: What do the following lines of code do?\n",
        "\"\"\"\n",
        "with open(\"Example2.txt\",\"w\") as writefile:\n",
        "\n",
        "  writefile.write(\"This is line A\\n\")\n",
        "\n",
        "  writefile.write(\"This is line B\\n\")\n",
        "\"\"\"\n",
        "# R= Write to the file \"Example2.txt\"."
      ],
      "metadata": {
        "colab": {
          "base_uri": "https://localhost:8080/",
          "height": 36
        },
        "id": "e9cU-jOBO9cE",
        "outputId": "11e8bcff-226e-406d-fe72-70a8079e7dfa"
      },
      "execution_count": null,
      "outputs": [
        {
          "output_type": "execute_result",
          "data": {
            "text/plain": [
              "'\\nwith open(\"Example2.txt\",\"w\") as writefile:\\n\\n  writefile.write(\"This is line A\\n\")\\n\\n  writefile.write(\"This is line B\\n\")\\n'"
            ],
            "application/vnd.google.colaboratory.intrinsic+json": {
              "type": "string"
            }
          },
          "metadata": {},
          "execution_count": 128
        }
      ]
    },
    {
      "cell_type": "code",
      "source": [
        "# Question 3: What do the following lines of code do?\n",
        "\"\"\"\n",
        "with open(\"Example3.txt\",\"a\") as file1:\n",
        "\n",
        "  file1.write(\"This is line C\\n\")\n",
        "\"\"\"\n",
        "# R= Append the file \"Example3.txt\"."
      ],
      "metadata": {
        "colab": {
          "base_uri": "https://localhost:8080/",
          "height": 36
        },
        "id": "h8If1Y_WPFF9",
        "outputId": "2b3010d2-722e-494d-d764-a43c134aa31d"
      },
      "execution_count": null,
      "outputs": [
        {
          "output_type": "execute_result",
          "data": {
            "text/plain": [
              "'\\nwith open(\"Example3.txt\",\"a\") as file1:\\n\\n  file1.write(\"This is line C\\n\")\\n'"
            ],
            "application/vnd.google.colaboratory.intrinsic+json": {
              "type": "string"
            }
          },
          "metadata": {},
          "execution_count": 129
        }
      ]
    },
    {
      "cell_type": "code",
      "source": [
        "# Question 4: What is the result of applying the following method df.head() to the dataframe \"df\"?\n",
        "# R= Prints the first 5 rows of the dataframe."
      ],
      "metadata": {
        "id": "3PFrZlMaPMhF"
      },
      "execution_count": null,
      "outputs": []
    },
    {
      "cell_type": "markdown",
      "source": [
        "## Evidencia de progreso"
      ],
      "metadata": {
        "id": "aUEY-bZSiBSS"
      }
    },
    {
      "cell_type": "markdown",
      "source": [
        "![image.png](data:image/png;base64,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)"
      ],
      "metadata": {
        "id": "NUBp6p3-iAxG"
      }
    },
    {
      "cell_type": "markdown",
      "source": [
        "# Módulo 5"
      ],
      "metadata": {
        "id": "PDl6-0FNQQeF"
      }
    },
    {
      "cell_type": "markdown",
      "source": [
        "## Numpy 1D Arrays"
      ],
      "metadata": {
        "id": "I_dddCmnQWHg"
      }
    },
    {
      "cell_type": "markdown",
      "source": [
        "Numpy\n",
        "* for scientific computing\n",
        "* speed & memory\n",
        "* basis of pandas\n",
        "\n",
        "---\n",
        "* Is similar to a list but...\n",
        "  * same type of elements (NUMBERS)\n",
        "* import numpy as np\n",
        "* Create a numpy array form list: np.array([1,2,3,....])\n",
        "* type: numpy.ndarray\n",
        "* dtype --> gives the datatype of elements of array\n",
        "* Attributes:\n",
        "  * .size = # of elements\n",
        "  * .ndim = # dimensions / the rank\n",
        "  * .shape = tuple of size of each dimension\n",
        "\n",
        "---\n",
        "\n",
        "Indexing & Slicing\n",
        "* 1st element c[0]\n",
        "* c[1:4] (we don't count te last number)\n",
        "* MULTIPLE ASSIGNMENT: c[1:3] = 300, 400\n",
        "\n",
        "---\n",
        "\n",
        "Basic Operations\n",
        "* Faster and req less memory\n",
        "* Vector adition & Substraction u = [1,0], v = [0,1]\n",
        "  * In lists:\n",
        "\n",
        "    for n,m zip(u,v):\n",
        "\n",
        "        z.appen(n+m)\n",
        "\n",
        "  * Numpy: np.array(u) + np.array(v)\n",
        "  * Substraction is the mae with negative value\n",
        "* Scalar multiplication\n",
        "  * Normal:\n",
        "    \n",
        "    for n in u:\n",
        "    \n",
        "        z.append(2*n)\n",
        "  * Numpy: 2*np.array(u)\n",
        "* Vector multiplication\n",
        "  * Normal:\n",
        "    \n",
        "    for n,m in zip(u,v):\n",
        "    \n",
        "        z.append(n*m)\n",
        "  * Numpy: np.array(u)*np.array(v)\n",
        "\n",
        "* Dot product = single # = represents HOW similar 2 vectors are\n",
        "  *np.dot(u,v)\n",
        "*BROADCASTING: applying an operation to ALL elements of th array\n",
        "  * u = np.array([1,2,3,4]) --> u+1 --> 2,3,4,5\n",
        "\n",
        "---\n",
        "Universal Functions\n",
        "* mean() --> average\n",
        "* max() --> larget value\n",
        "* .pi\n",
        "*.sin() --> apply sin to each element\n",
        "* linespace(start, end, num= # samples) --> EVENLY SPACED numbers inside an interval\n",
        "* import matplotlib.pyplot as plt\n",
        "* %matplotlib inline --> display the plot"
      ],
      "metadata": {
        "id": "YrKjI2D8QYo-"
      }
    },
    {
      "cell_type": "code",
      "source": [
        "# Question 1: What is the result of the following operation: np.array([1,-1])*np.array([1,1])?\n",
        "import numpy as np\n",
        "np.array([1,-1])*np.array([1,1])"
      ],
      "metadata": {
        "colab": {
          "base_uri": "https://localhost:8080/"
        },
        "id": "F1_tKQrRQSq0",
        "outputId": "76de1fc1-c4ea-47ca-ff5b-0202fea6d45f"
      },
      "execution_count": null,
      "outputs": [
        {
          "output_type": "execute_result",
          "data": {
            "text/plain": [
              "array([ 1, -1])"
            ]
          },
          "metadata": {},
          "execution_count": 136
        }
      ]
    },
    {
      "cell_type": "code",
      "source": [
        "# Question 2: What is the result of the following operation: np.dot(np.array([1,-1]),np.array([1,1]))?\n",
        "np.dot(np.array([1,-1]),np.array([1,1]))"
      ],
      "metadata": {
        "colab": {
          "base_uri": "https://localhost:8080/"
        },
        "id": "x3udCNMOVIAV",
        "outputId": "56b1f2ae-bf29-43c9-ba9a-a426b647c70f"
      },
      "execution_count": null,
      "outputs": [
        {
          "output_type": "execute_result",
          "data": {
            "text/plain": [
              "0"
            ]
          },
          "metadata": {},
          "execution_count": 137
        }
      ]
    },
    {
      "cell_type": "markdown",
      "source": [
        "### Lab"
      ],
      "metadata": {
        "id": "K8THTYYTVoBD"
      }
    },
    {
      "cell_type": "code",
      "source": [
        "a = np.array([0, 1, 2, 3, 4])"
      ],
      "metadata": {
        "id": "TwAlRhT1VpaG"
      },
      "execution_count": null,
      "outputs": []
    },
    {
      "cell_type": "code",
      "source": [
        "type(a)"
      ],
      "metadata": {
        "colab": {
          "base_uri": "https://localhost:8080/"
        },
        "id": "d_shOAhpVuXe",
        "outputId": "1085b0d5-f7d9-4cd3-ca60-46a86dfceb4d"
      },
      "execution_count": null,
      "outputs": [
        {
          "output_type": "execute_result",
          "data": {
            "text/plain": [
              "numpy.ndarray"
            ]
          },
          "metadata": {},
          "execution_count": 140
        }
      ]
    },
    {
      "cell_type": "code",
      "source": [
        "a.dtype"
      ],
      "metadata": {
        "colab": {
          "base_uri": "https://localhost:8080/"
        },
        "id": "Vfg2iLLbVvRt",
        "outputId": "6543b8c6-ad6f-4f0a-cf67-6fb495a6ca76"
      },
      "execution_count": null,
      "outputs": [
        {
          "output_type": "execute_result",
          "data": {
            "text/plain": [
              "dtype('int64')"
            ]
          },
          "metadata": {},
          "execution_count": 141
        }
      ]
    },
    {
      "cell_type": "markdown",
      "source": [
        "## Numpy 2D Arrays"
      ],
      "metadata": {
        "id": "xj995qbaXsGl"
      }
    },
    {
      "cell_type": "markdown",
      "source": [
        "* Obj:\n",
        "  * basics ans array creation (2D)\n",
        "  *indexing & slicing\n",
        "  * basic operations\n",
        "\n",
        "2D array == list of lists (all elements the same size)\n",
        "  * inner lists = rows\n",
        "  * outer = lists columns\n",
        "\n",
        "Attributes:\n",
        "  *.ndim : attribute -> # axis = # dimensions = rank = # nested lists\n",
        "  * shape: size of nested lists\n",
        "  * size = total # of elements\n",
        "\n",
        "Slicing:\n",
        "* A[row #][column #]\n",
        "* A[row #,column #]\n",
        "* A [#:#,#] --> BRINGS an ARRAY (not a single value)\n",
        "\n",
        "Operations:\n",
        "* They are made between ELEMENTS in the SAME position\n",
        "* +, *# works as 1D array (or maatrix operations)\n",
        "* Multiplication of 2 arrays (SAME as other operations)\n",
        "* MATRIX MULTIPLICATION: Dot product of all combinations of rows and columns of 2 arrays (Condition: 1st array # cols == 2nd array # crows)\n",
        "\n",
        "\n",
        "* Transpose: a.T"
      ],
      "metadata": {
        "id": "F3YYoWvaXu-Z"
      }
    },
    {
      "cell_type": "code",
      "source": [
        "# Question 1: How many rows are in the following numpy array?\n",
        "\n",
        "import numpy as np\n",
        "A = np.array([[1,2],[3,4],[5,6],[7,8]])\n",
        "\n",
        "A.shape\n",
        "\n",
        "# Answer: 4"
      ],
      "metadata": {
        "colab": {
          "base_uri": "https://localhost:8080/"
        },
        "id": "mWhj6fySXniF",
        "outputId": "3b0eeb1f-3417-4eb5-9b52-16dd75b63ba8"
      },
      "execution_count": null,
      "outputs": [
        {
          "output_type": "execute_result",
          "data": {
            "text/plain": [
              "(4, 2)"
            ]
          },
          "metadata": {},
          "execution_count": 9
        }
      ]
    },
    {
      "cell_type": "code",
      "source": [
        "# Question 2: Is it possible to perform the following operation?\n",
        "\n",
        "A = np.array([[1,2],[3,4],[5,6],[7,8]])\n",
        "\n",
        "B = np.array([[1,2,3],[4,5,6],[7,8,9]])\n",
        "\n",
        "#np.dot(A,B)\n",
        "\n",
        "# answer: No"
      ],
      "metadata": {
        "id": "IUB_4OFgX3DM"
      },
      "execution_count": null,
      "outputs": []
    },
    {
      "cell_type": "markdown",
      "source": [
        "## Simple APIs - Part 1"
      ],
      "metadata": {
        "id": "K224yfFcX9IX"
      }
    },
    {
      "cell_type": "markdown",
      "source": [
        "API = Application Program Interface\n",
        "* It is a program to communicate 2 programs\n",
        "* Ex. pandas, it is aprogram not even in Python, you create an instance, send it to pandas code and brings back calculated result\n",
        "* REST APIs --> communicate with WEB services\n",
        "* REpresntational State Transfer* Rules in \n",
        "  1. Communication\n",
        "  2. INPUT (Request)\n",
        "  3. OUTPUT (Response)\n",
        "\n",
        "* Client send Inputs, Resource sends outputs\n",
        "* HTTP methods --> way to TRANSMIT DATA through INTERNET\n",
        "  * Request (json (dict))\n",
        "  * Web service makes OPERATION\n",
        "  * Response (json (dict))\n",
        "\n",
        "  Practical example:\n",
        "  * nba_api\n",
        "  * gets data from nba.com\n",
        "    * from nba_api.stats.static import teams\n",
        "    * nbs_teams = teams.get_teams()\n",
        "    * \"id\" unique identifier per team --> it generates 1 dict by team\n",
        "    * join them:\n",
        "      \n",
        "      \n",
        "      def one_dict(list_dict):\n",
        "\n",
        "        keys = list_dict[0].keys()\n",
        "        \n",
        "        out_dict = {key:[] for key in keys}\n",
        "        \n",
        "        for dict_ in list_dict:\n",
        "        \n",
        "          for key, value in dict_.items():\n",
        "        \n",
        "            out_dict[key].append(value)\n",
        "        \n",
        "        return out_dict\n",
        "        \n",
        "\n",
        "\n",
        "* from nba_api.stats.endpoints import leaguegamefinder\n",
        "  * leaguegamefinder.LeagueGameFinder(team_id_nullable = id_warrios)\n",
        "  * get_data_frames()\n",
        "\n"
      ],
      "metadata": {
        "id": "4ONDt2flajJ8"
      }
    },
    {
      "cell_type": "markdown",
      "source": [
        "## Simple APIs - Part 2"
      ],
      "metadata": {
        "id": "ghZ24iDmX_YT"
      }
    },
    {
      "cell_type": "markdown",
      "source": [
        "API that use some kind of AI!!!\n",
        "* Watson Text to Speech API --> transcript audio\n",
        "* Watson language-translator API --> translator\n",
        "\n",
        "* Send a copy of the input == post request\n",
        "\n",
        "API keys and endpoints: acces to APIs\n",
        "* API key == A way to acces API == unique set of characters -> ID & authorize you. Every call with your key is charged!!!! careful!!!\n",
        "* endpoint == location of the service (like web address)\n",
        "\n",
        "Watson Speech to text API\n",
        "* from ibm_watson import SpeechToTextV1\n",
        "* endpoint depends on the location of the service instance (where the client is requesting)\n",
        "* s2t= SpeechToTextV1(iam_apikey, url) # key and enpoint url\n",
        "* with open(filename,mode = 'rb') as x: #'rb' = read in binary\n",
        "* response = s2t.recognize(audio,content_type) # content_type specifies the type of file loaded\n",
        "* response.result --> dict\n",
        "* response.result['results'][0]['alternatives'][0]['transcript'] # why?\n",
        "\n",
        "Watson Langage Translation\n",
        "* from ibm_watson import LanguageTranslatorV3\n",
        "* reqs: key, endpoint url, version\n",
        "* lt = LanguageTranslatorV3(iam_apikey,url,version)\n",
        "* lt.list_identifiable_languages().get_result() --> gives the keys needed to select a language\n",
        "* translation = lt.translate(text,model_id='lang1_cd-lang2_cd')\n",
        "* result = translation.get_result()\n",
        "* result['translations'][0]['translation]"
      ],
      "metadata": {
        "id": "iKlELuLmfJBC"
      }
    },
    {
      "cell_type": "markdown",
      "source": [
        "## Lab - HTTP and Requests"
      ],
      "metadata": {
        "id": "LIb_a2ECYEBV"
      }
    },
    {
      "cell_type": "markdown",
      "source": [
        "# Exam"
      ],
      "metadata": {
        "id": "WcjAPQBxWT5W"
      }
    },
    {
      "cell_type": "code",
      "source": [
        "3+2*2"
      ],
      "metadata": {
        "colab": {
          "base_uri": "https://localhost:8080/"
        },
        "id": "cN0WcdK5WV0w",
        "outputId": "294458f2-5e57-40e1-cbcd-5c4c02851568"
      },
      "execution_count": null,
      "outputs": [
        {
          "output_type": "execute_result",
          "data": {
            "text/plain": [
              "7"
            ]
          },
          "metadata": {},
          "execution_count": 1
        }
      ]
    },
    {
      "cell_type": "code",
      "source": [
        "type(True)"
      ],
      "metadata": {
        "colab": {
          "base_uri": "https://localhost:8080/"
        },
        "id": "1z_PpOFtWXgg",
        "outputId": "13e52b0b-5091-4be2-9a75-bc98906db3aa"
      },
      "execution_count": null,
      "outputs": [
        {
          "output_type": "execute_result",
          "data": {
            "text/plain": [
              "bool"
            ]
          },
          "metadata": {},
          "execution_count": 3
        }
      ]
    },
    {
      "cell_type": "code",
      "source": [
        "int(3.2)"
      ],
      "metadata": {
        "colab": {
          "base_uri": "https://localhost:8080/"
        },
        "id": "-H23A_hEWgRn",
        "outputId": "c87322b7-604a-4b53-f4f2-c0d3dc78bcb1"
      },
      "execution_count": null,
      "outputs": [
        {
          "output_type": "execute_result",
          "data": {
            "text/plain": [
              "3"
            ]
          },
          "metadata": {},
          "execution_count": 4
        }
      ]
    },
    {
      "cell_type": "code",
      "source": [
        "A='1234567'\n",
        "A[1::2]"
      ],
      "metadata": {
        "colab": {
          "base_uri": "https://localhost:8080/",
          "height": 36
        },
        "id": "i7sR-lIcWi43",
        "outputId": "1300ab08-caf6-4239-bddc-b953d0aabc2b"
      },
      "execution_count": null,
      "outputs": [
        {
          "output_type": "execute_result",
          "data": {
            "text/plain": [
              "'246'"
            ],
            "application/vnd.google.colaboratory.intrinsic+json": {
              "type": "string"
            }
          },
          "metadata": {},
          "execution_count": 5
        }
      ]
    },
    {
      "cell_type": "code",
      "source": [
        "Name=\"Michael Jackson\"\n",
        "Name.find('el')"
      ],
      "metadata": {
        "colab": {
          "base_uri": "https://localhost:8080/"
        },
        "id": "aO6MUiqAWuD-",
        "outputId": "5b0fcf91-f9bc-4119-fad9-6f047fffb2b4"
      },
      "execution_count": null,
      "outputs": [
        {
          "output_type": "execute_result",
          "data": {
            "text/plain": [
              "5"
            ]
          },
          "metadata": {},
          "execution_count": 7
        }
      ]
    },
    {
      "cell_type": "code",
      "source": [
        "# 9\n",
        "A=((11,12),[21,22])\n",
        "A[1]"
      ],
      "metadata": {
        "colab": {
          "base_uri": "https://localhost:8080/"
        },
        "id": "6f-cj-TAW_6D",
        "outputId": "db22f9c9-8014-42c0-c454-29692903c5d0"
      },
      "execution_count": null,
      "outputs": [
        {
          "output_type": "execute_result",
          "data": {
            "text/plain": [
              "[21, 22]"
            ]
          },
          "metadata": {},
          "execution_count": 8
        }
      ]
    },
    {
      "cell_type": "code",
      "source": [
        "#11\n",
        "'1,2,3,4'.split(',')"
      ],
      "metadata": {
        "colab": {
          "base_uri": "https://localhost:8080/"
        },
        "id": "7GcKuI72XNAH",
        "outputId": "79a255e7-f34e-4b9f-9732-81d8c2d4e598"
      },
      "execution_count": null,
      "outputs": [
        {
          "output_type": "execute_result",
          "data": {
            "text/plain": [
              "['1', '2', '3', '4']"
            ]
          },
          "metadata": {},
          "execution_count": 9
        }
      ]
    },
    {
      "cell_type": "code",
      "source": [
        "# 14\n",
        "V={'A','B'}\n",
        "V.add('C')\n",
        "V"
      ],
      "metadata": {
        "colab": {
          "base_uri": "https://localhost:8080/"
        },
        "id": "s8O5R3LBXXCP",
        "outputId": "8034855c-b1b2-4694-ee11-faf95730c70e"
      },
      "execution_count": null,
      "outputs": [
        {
          "output_type": "execute_result",
          "data": {
            "text/plain": [
              "{'A', 'B', 'C'}"
            ]
          },
          "metadata": {},
          "execution_count": 13
        }
      ]
    },
    {
      "cell_type": "code",
      "source": [
        "# 15\n",
        "V={'A','B','C'}\n",
        "V.add('C')\n",
        "V"
      ],
      "metadata": {
        "colab": {
          "base_uri": "https://localhost:8080/"
        },
        "id": "oOCenEKPXxgn",
        "outputId": "2c691400-ce37-4f01-8684-96e22a8fb495"
      },
      "execution_count": null,
      "outputs": [
        {
          "output_type": "execute_result",
          "data": {
            "text/plain": [
              "{'A', 'B', 'C'}"
            ]
          },
          "metadata": {},
          "execution_count": 14
        }
      ]
    },
    {
      "cell_type": "code",
      "source": [
        "len([21,13,19,3,11,5,18])//2"
      ],
      "metadata": {
        "id": "ACTD5kBmX-Y3",
        "colab": {
          "base_uri": "https://localhost:8080/"
        },
        "outputId": "7d582a30-8085-4f98-de15-7f16f3ed220b"
      },
      "execution_count": 2,
      "outputs": [
        {
          "output_type": "execute_result",
          "data": {
            "text/plain": [
              "3"
            ]
          },
          "metadata": {},
          "execution_count": 2
        }
      ]
    },
    {
      "cell_type": "code",
      "source": [
        "list(range(10,1,-1))"
      ],
      "metadata": {
        "colab": {
          "base_uri": "https://localhost:8080/"
        },
        "id": "fQwXchoUj7x1",
        "outputId": "247002d3-d636-4c36-c23a-04d67ff04a1e"
      },
      "execution_count": 4,
      "outputs": [
        {
          "output_type": "execute_result",
          "data": {
            "text/plain": [
              "[10, 9, 8, 7, 6, 5, 4, 3, 2]"
            ]
          },
          "metadata": {},
          "execution_count": 4
        }
      ]
    },
    {
      "cell_type": "code",
      "source": [
        "reversed(list(range(1,11)))"
      ],
      "metadata": {
        "colab": {
          "base_uri": "https://localhost:8080/"
        },
        "id": "fTn5d2UskF3P",
        "outputId": "68082ef8-d812-42cf-c2fc-8bc78f7e0e5d"
      },
      "execution_count": 5,
      "outputs": [
        {
          "output_type": "execute_result",
          "data": {
            "text/plain": [
              "<list_reverseiterator at 0x7f62dcc6ac50>"
            ]
          },
          "metadata": {},
          "execution_count": 5
        }
      ]
    },
    {
      "cell_type": "code",
      "source": [
        "import numpy as np\n",
        "a = np.array([1,2,3,4])\n",
        "print(a[[False,True,False,False]])"
      ],
      "metadata": {
        "colab": {
          "base_uri": "https://localhost:8080/"
        },
        "id": "CA4cjmIblMEg",
        "outputId": "f4d25e15-a69e-402b-ff52-fa439e963625"
      },
      "execution_count": 6,
      "outputs": [
        {
          "output_type": "stream",
          "name": "stdout",
          "text": [
            "[2]\n"
          ]
        }
      ]
    },
    {
      "cell_type": "code",
      "source": [
        "number = 3\n",
        "print(f\"The number is {number}\")"
      ],
      "metadata": {
        "colab": {
          "base_uri": "https://localhost:8080/"
        },
        "id": "GW6V58s2lWie",
        "outputId": "942801ee-75e5-4a25-ffe0-62efa155bf61"
      },
      "execution_count": 7,
      "outputs": [
        {
          "output_type": "stream",
          "name": "stdout",
          "text": [
            "The number is 3\n"
          ]
        }
      ]
    },
    {
      "cell_type": "code",
      "source": [],
      "metadata": {
        "id": "eO88ACf-mdl6"
      },
      "execution_count": null,
      "outputs": []
    }
  ]
}